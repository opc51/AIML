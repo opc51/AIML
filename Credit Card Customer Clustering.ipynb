{
 "cells": [
  {
   "cell_type": "code",
   "execution_count": 1,
   "metadata": {},
   "outputs": [],
   "source": [
    "#basics\n",
    "import pandas as pd\n",
    "import numpy as np\n",
    "import seaborn as sns\n",
    "import matplotlib.pyplot as plt\n",
    "\n",
    "#Data prep\n",
    "from scipy.stats import zscore\n",
    "from sklearn.preprocessing import StandardScaler\n",
    "\n",
    "#model prep\n",
    "from sklearn.model_selection import ParameterGrid\n",
    "\n",
    "#models\n",
    "from sklearn.cluster import KMeans\n",
    "from sklearn.cluster import AgglomerativeClustering\n",
    "\n",
    "#scoring \n",
    "from sklearn.metrics import silhouette_score\n",
    "\n",
    "#exploration\n",
    "from scipy.cluster.hierarchy import dendrogram, linkage"
   ]
  },
  {
   "cell_type": "code",
   "execution_count": 2,
   "metadata": {},
   "outputs": [
    {
     "data": {
      "text/html": [
       "<div>\n",
       "<style scoped>\n",
       "    .dataframe tbody tr th:only-of-type {\n",
       "        vertical-align: middle;\n",
       "    }\n",
       "\n",
       "    .dataframe tbody tr th {\n",
       "        vertical-align: top;\n",
       "    }\n",
       "\n",
       "    .dataframe thead th {\n",
       "        text-align: right;\n",
       "    }\n",
       "</style>\n",
       "<table border=\"1\" class=\"dataframe\">\n",
       "  <thead>\n",
       "    <tr style=\"text-align: right;\">\n",
       "      <th></th>\n",
       "      <th>Sl_No</th>\n",
       "      <th>Customer Key</th>\n",
       "      <th>Avg_Credit_Limit</th>\n",
       "      <th>Total_Credit_Cards</th>\n",
       "      <th>Total_visits_bank</th>\n",
       "      <th>Total_visits_online</th>\n",
       "      <th>Total_calls_made</th>\n",
       "    </tr>\n",
       "  </thead>\n",
       "  <tbody>\n",
       "    <tr>\n",
       "      <th>0</th>\n",
       "      <td>1</td>\n",
       "      <td>87073</td>\n",
       "      <td>100000</td>\n",
       "      <td>2</td>\n",
       "      <td>1</td>\n",
       "      <td>1</td>\n",
       "      <td>0</td>\n",
       "    </tr>\n",
       "    <tr>\n",
       "      <th>1</th>\n",
       "      <td>2</td>\n",
       "      <td>38414</td>\n",
       "      <td>50000</td>\n",
       "      <td>3</td>\n",
       "      <td>0</td>\n",
       "      <td>10</td>\n",
       "      <td>9</td>\n",
       "    </tr>\n",
       "    <tr>\n",
       "      <th>2</th>\n",
       "      <td>3</td>\n",
       "      <td>17341</td>\n",
       "      <td>50000</td>\n",
       "      <td>7</td>\n",
       "      <td>1</td>\n",
       "      <td>3</td>\n",
       "      <td>4</td>\n",
       "    </tr>\n",
       "    <tr>\n",
       "      <th>3</th>\n",
       "      <td>4</td>\n",
       "      <td>40496</td>\n",
       "      <td>30000</td>\n",
       "      <td>5</td>\n",
       "      <td>1</td>\n",
       "      <td>1</td>\n",
       "      <td>4</td>\n",
       "    </tr>\n",
       "    <tr>\n",
       "      <th>4</th>\n",
       "      <td>5</td>\n",
       "      <td>47437</td>\n",
       "      <td>100000</td>\n",
       "      <td>6</td>\n",
       "      <td>0</td>\n",
       "      <td>12</td>\n",
       "      <td>3</td>\n",
       "    </tr>\n",
       "  </tbody>\n",
       "</table>\n",
       "</div>"
      ],
      "text/plain": [
       "   Sl_No  Customer Key  Avg_Credit_Limit  Total_Credit_Cards  \\\n",
       "0      1         87073            100000                   2   \n",
       "1      2         38414             50000                   3   \n",
       "2      3         17341             50000                   7   \n",
       "3      4         40496             30000                   5   \n",
       "4      5         47437            100000                   6   \n",
       "\n",
       "   Total_visits_bank  Total_visits_online  Total_calls_made  \n",
       "0                  1                    1                 0  \n",
       "1                  0                   10                 9  \n",
       "2                  1                    3                 4  \n",
       "3                  1                    1                 4  \n",
       "4                  0                   12                 3  "
      ]
     },
     "execution_count": 2,
     "metadata": {},
     "output_type": "execute_result"
    }
   ],
   "source": [
    "#import data\n",
    "originalData = pd.read_excel(\"Credit Card Customer Data.xlsx\")\n",
    "originalData.head()"
   ]
  },
  {
   "cell_type": "markdown",
   "metadata": {},
   "source": [
    "SI looks like an identity column that can be dropped. \n",
    "\n",
    "Customer Key could also be an identity column that might be dropped.\n",
    "\n",
    "The data will need scaled The Avg_Credit_Limit column will dominate the other 4 columns in distance calculations. \n",
    "\n",
    "Outliers may also be present in the Avg_Credit_limit column."
   ]
  },
  {
   "cell_type": "code",
   "execution_count": 3,
   "metadata": {},
   "outputs": [
    {
     "name": "stdout",
     "output_type": "stream",
     "text": [
      "<class 'pandas.core.frame.DataFrame'>\n",
      "RangeIndex: 660 entries, 0 to 659\n",
      "Data columns (total 7 columns):\n",
      " #   Column               Non-Null Count  Dtype\n",
      "---  ------               --------------  -----\n",
      " 0   Sl_No                660 non-null    int64\n",
      " 1   Customer Key         660 non-null    int64\n",
      " 2   Avg_Credit_Limit     660 non-null    int64\n",
      " 3   Total_Credit_Cards   660 non-null    int64\n",
      " 4   Total_visits_bank    660 non-null    int64\n",
      " 5   Total_visits_online  660 non-null    int64\n",
      " 6   Total_calls_made     660 non-null    int64\n",
      "dtypes: int64(7)\n",
      "memory usage: 36.2 KB\n"
     ]
    }
   ],
   "source": [
    "originalData.info()"
   ]
  },
  {
   "cell_type": "markdown",
   "metadata": {},
   "source": [
    "All columns are int64. No columns of type object so no text data present.\n",
    "\n",
    "660 customers, with 7 explanatory variables."
   ]
  },
  {
   "cell_type": "code",
   "execution_count": 4,
   "metadata": {},
   "outputs": [
    {
     "data": {
      "text/plain": [
       "Sl_No                  0\n",
       "Customer Key           0\n",
       "Avg_Credit_Limit       0\n",
       "Total_Credit_Cards     0\n",
       "Total_visits_bank      0\n",
       "Total_visits_online    0\n",
       "Total_calls_made       0\n",
       "dtype: int64"
      ]
     },
     "execution_count": 4,
     "metadata": {},
     "output_type": "execute_result"
    }
   ],
   "source": [
    "# Check for missing value\n",
    "originalData.isna().sum()"
   ]
  },
  {
   "cell_type": "markdown",
   "metadata": {},
   "source": [
    "No missing data in any column. A nice clean dataset.\n",
    "\n",
    "What about duplicates?"
   ]
  },
  {
   "cell_type": "code",
   "execution_count": 5,
   "metadata": {},
   "outputs": [
    {
     "data": {
      "text/html": [
       "<div>\n",
       "<style scoped>\n",
       "    .dataframe tbody tr th:only-of-type {\n",
       "        vertical-align: middle;\n",
       "    }\n",
       "\n",
       "    .dataframe tbody tr th {\n",
       "        vertical-align: top;\n",
       "    }\n",
       "\n",
       "    .dataframe thead th {\n",
       "        text-align: right;\n",
       "    }\n",
       "</style>\n",
       "<table border=\"1\" class=\"dataframe\">\n",
       "  <thead>\n",
       "    <tr style=\"text-align: right;\">\n",
       "      <th></th>\n",
       "      <th>Sl_No</th>\n",
       "      <th>Customer Key</th>\n",
       "      <th>Avg_Credit_Limit</th>\n",
       "      <th>Total_Credit_Cards</th>\n",
       "      <th>Total_visits_bank</th>\n",
       "      <th>Total_visits_online</th>\n",
       "      <th>Total_calls_made</th>\n",
       "    </tr>\n",
       "  </thead>\n",
       "  <tbody>\n",
       "  </tbody>\n",
       "</table>\n",
       "</div>"
      ],
      "text/plain": [
       "Empty DataFrame\n",
       "Columns: [Sl_No, Customer Key, Avg_Credit_Limit, Total_Credit_Cards, Total_visits_bank, Total_visits_online, Total_calls_made]\n",
       "Index: []"
      ]
     },
     "execution_count": 5,
     "metadata": {},
     "output_type": "execute_result"
    }
   ],
   "source": [
    "duplicateRows = originalData[originalData.duplicated()]\n",
    "duplicateRows"
   ]
  },
  {
   "cell_type": "markdown",
   "metadata": {},
   "source": [
    "No duplicated customers to worry about. \n",
    "\n",
    "How skewed is the data?"
   ]
  },
  {
   "cell_type": "code",
   "execution_count": 6,
   "metadata": {},
   "outputs": [
    {
     "data": {
      "text/plain": [
       "Sl_No                  0.000000\n",
       "Customer Key           0.051462\n",
       "Avg_Credit_Limit       2.202396\n",
       "Total_Credit_Cards     0.144879\n",
       "Total_visits_bank      0.141896\n",
       "Total_visits_online    2.225607\n",
       "Total_calls_made       0.658905\n",
       "dtype: float64"
      ]
     },
     "execution_count": 6,
     "metadata": {},
     "output_type": "execute_result"
    }
   ],
   "source": [
    "originalData.skew()"
   ]
  },
  {
   "cell_type": "markdown",
   "metadata": {},
   "source": [
    "The columns \"Avg_Credit_Limit\" and \"Total_visits_online\" are significantly skewed and will need investigation for outliers and scaling"
   ]
  },
  {
   "cell_type": "markdown",
   "metadata": {},
   "source": [
    "# Univariate Analysis\n",
    "\n",
    "Explore each variable."
   ]
  },
  {
   "cell_type": "code",
   "execution_count": 7,
   "metadata": {},
   "outputs": [
    {
     "data": {
      "text/html": [
       "<div>\n",
       "<style scoped>\n",
       "    .dataframe tbody tr th:only-of-type {\n",
       "        vertical-align: middle;\n",
       "    }\n",
       "\n",
       "    .dataframe tbody tr th {\n",
       "        vertical-align: top;\n",
       "    }\n",
       "\n",
       "    .dataframe thead th {\n",
       "        text-align: right;\n",
       "    }\n",
       "</style>\n",
       "<table border=\"1\" class=\"dataframe\">\n",
       "  <thead>\n",
       "    <tr style=\"text-align: right;\">\n",
       "      <th></th>\n",
       "      <th>Sl_No</th>\n",
       "      <th>Customer Key</th>\n",
       "      <th>Avg_Credit_Limit</th>\n",
       "      <th>Total_Credit_Cards</th>\n",
       "      <th>Total_visits_bank</th>\n",
       "      <th>Total_visits_online</th>\n",
       "      <th>Total_calls_made</th>\n",
       "    </tr>\n",
       "  </thead>\n",
       "  <tbody>\n",
       "    <tr>\n",
       "      <th>count</th>\n",
       "      <td>660.000000</td>\n",
       "      <td>660.000000</td>\n",
       "      <td>660.000000</td>\n",
       "      <td>660.000000</td>\n",
       "      <td>660.000000</td>\n",
       "      <td>660.000000</td>\n",
       "      <td>660.000000</td>\n",
       "    </tr>\n",
       "    <tr>\n",
       "      <th>mean</th>\n",
       "      <td>330.500000</td>\n",
       "      <td>55141.443939</td>\n",
       "      <td>34574.242424</td>\n",
       "      <td>4.706061</td>\n",
       "      <td>2.403030</td>\n",
       "      <td>2.606061</td>\n",
       "      <td>3.583333</td>\n",
       "    </tr>\n",
       "    <tr>\n",
       "      <th>std</th>\n",
       "      <td>190.669872</td>\n",
       "      <td>25627.772200</td>\n",
       "      <td>37625.487804</td>\n",
       "      <td>2.167835</td>\n",
       "      <td>1.631813</td>\n",
       "      <td>2.935724</td>\n",
       "      <td>2.865317</td>\n",
       "    </tr>\n",
       "    <tr>\n",
       "      <th>min</th>\n",
       "      <td>1.000000</td>\n",
       "      <td>11265.000000</td>\n",
       "      <td>3000.000000</td>\n",
       "      <td>1.000000</td>\n",
       "      <td>0.000000</td>\n",
       "      <td>0.000000</td>\n",
       "      <td>0.000000</td>\n",
       "    </tr>\n",
       "    <tr>\n",
       "      <th>25%</th>\n",
       "      <td>165.750000</td>\n",
       "      <td>33825.250000</td>\n",
       "      <td>10000.000000</td>\n",
       "      <td>3.000000</td>\n",
       "      <td>1.000000</td>\n",
       "      <td>1.000000</td>\n",
       "      <td>1.000000</td>\n",
       "    </tr>\n",
       "    <tr>\n",
       "      <th>50%</th>\n",
       "      <td>330.500000</td>\n",
       "      <td>53874.500000</td>\n",
       "      <td>18000.000000</td>\n",
       "      <td>5.000000</td>\n",
       "      <td>2.000000</td>\n",
       "      <td>2.000000</td>\n",
       "      <td>3.000000</td>\n",
       "    </tr>\n",
       "    <tr>\n",
       "      <th>75%</th>\n",
       "      <td>495.250000</td>\n",
       "      <td>77202.500000</td>\n",
       "      <td>48000.000000</td>\n",
       "      <td>6.000000</td>\n",
       "      <td>4.000000</td>\n",
       "      <td>4.000000</td>\n",
       "      <td>5.000000</td>\n",
       "    </tr>\n",
       "    <tr>\n",
       "      <th>max</th>\n",
       "      <td>660.000000</td>\n",
       "      <td>99843.000000</td>\n",
       "      <td>200000.000000</td>\n",
       "      <td>10.000000</td>\n",
       "      <td>5.000000</td>\n",
       "      <td>15.000000</td>\n",
       "      <td>10.000000</td>\n",
       "    </tr>\n",
       "  </tbody>\n",
       "</table>\n",
       "</div>"
      ],
      "text/plain": [
       "            Sl_No  Customer Key  Avg_Credit_Limit  Total_Credit_Cards  \\\n",
       "count  660.000000    660.000000        660.000000          660.000000   \n",
       "mean   330.500000  55141.443939      34574.242424            4.706061   \n",
       "std    190.669872  25627.772200      37625.487804            2.167835   \n",
       "min      1.000000  11265.000000       3000.000000            1.000000   \n",
       "25%    165.750000  33825.250000      10000.000000            3.000000   \n",
       "50%    330.500000  53874.500000      18000.000000            5.000000   \n",
       "75%    495.250000  77202.500000      48000.000000            6.000000   \n",
       "max    660.000000  99843.000000     200000.000000           10.000000   \n",
       "\n",
       "       Total_visits_bank  Total_visits_online  Total_calls_made  \n",
       "count         660.000000           660.000000        660.000000  \n",
       "mean            2.403030             2.606061          3.583333  \n",
       "std             1.631813             2.935724          2.865317  \n",
       "min             0.000000             0.000000          0.000000  \n",
       "25%             1.000000             1.000000          1.000000  \n",
       "50%             2.000000             2.000000          3.000000  \n",
       "75%             4.000000             4.000000          5.000000  \n",
       "max             5.000000            15.000000         10.000000  "
      ]
     },
     "execution_count": 7,
     "metadata": {},
     "output_type": "execute_result"
    }
   ],
   "source": [
    "originalData.describe()"
   ]
  },
  {
   "cell_type": "markdown",
   "metadata": {},
   "source": [
    "The means and standard deviation are not consistent across all variables. The dataset will need to be standardised.\n",
    "\n",
    "The significance of indvidual values will be discussed under each column heading.\n"
   ]
  },
  {
   "cell_type": "markdown",
   "metadata": {},
   "source": [
    "### Sl_No"
   ]
  },
  {
   "cell_type": "code",
   "execution_count": 8,
   "metadata": {},
   "outputs": [
    {
     "data": {
      "text/plain": [
       "660"
      ]
     },
     "execution_count": 8,
     "metadata": {},
     "output_type": "execute_result"
    }
   ],
   "source": [
    "originalData[\"Sl_No\"].nunique()"
   ]
  },
  {
   "cell_type": "markdown",
   "metadata": {},
   "source": [
    "This is an identity column. It can be removed before the final analysis.\n",
    "\n",
    "### Customer Key"
   ]
  },
  {
   "cell_type": "code",
   "execution_count": 9,
   "metadata": {},
   "outputs": [
    {
     "data": {
      "text/plain": [
       "['number of unique customers', 660]"
      ]
     },
     "metadata": {},
     "output_type": "display_data"
    },
    {
     "data": {
      "text/plain": [
       "['number of unique Customer Keys', 655]"
      ]
     },
     "metadata": {},
     "output_type": "display_data"
    }
   ],
   "source": [
    "display([\"number of unique customers\", originalData[\"Sl_No\"].count()])\n",
    "\n",
    "display([\"number of unique Customer Keys\", originalData[\"Customer Key\"].nunique()])"
   ]
  },
  {
   "cell_type": "markdown",
   "metadata": {},
   "source": [
    "We have 660 customers but only 655 uniqure customer keys. This needs explored and explained."
   ]
  },
  {
   "cell_type": "code",
   "execution_count": 10,
   "metadata": {},
   "outputs": [
    {
     "data": {
      "text/plain": [
       "['number of unique customers', 660]"
      ]
     },
     "metadata": {},
     "output_type": "display_data"
    },
    {
     "data": {
      "text/plain": [
       "['number of unique customer keys', 655]"
      ]
     },
     "metadata": {},
     "output_type": "display_data"
    }
   ],
   "source": [
    "display([\"number of unique customers\", originalData[\"Customer Key\"].count()])\n",
    "\n",
    "display([\"number of unique customer keys\", originalData[\"Customer Key\"].nunique()])"
   ]
  },
  {
   "cell_type": "code",
   "execution_count": 11,
   "metadata": {},
   "outputs": [
    {
     "data": {
      "text/html": [
       "<div>\n",
       "<style scoped>\n",
       "    .dataframe tbody tr th:only-of-type {\n",
       "        vertical-align: middle;\n",
       "    }\n",
       "\n",
       "    .dataframe tbody tr th {\n",
       "        vertical-align: top;\n",
       "    }\n",
       "\n",
       "    .dataframe thead th {\n",
       "        text-align: right;\n",
       "    }\n",
       "</style>\n",
       "<table border=\"1\" class=\"dataframe\">\n",
       "  <thead>\n",
       "    <tr style=\"text-align: right;\">\n",
       "      <th></th>\n",
       "      <th>Sl_No</th>\n",
       "      <th>Customer Key</th>\n",
       "      <th>Avg_Credit_Limit</th>\n",
       "      <th>Total_Credit_Cards</th>\n",
       "      <th>Total_visits_bank</th>\n",
       "      <th>Total_visits_online</th>\n",
       "      <th>Total_calls_made</th>\n",
       "    </tr>\n",
       "  </thead>\n",
       "  <tbody>\n",
       "    <tr>\n",
       "      <th>48</th>\n",
       "      <td>49</td>\n",
       "      <td>37252</td>\n",
       "      <td>6000</td>\n",
       "      <td>4</td>\n",
       "      <td>0</td>\n",
       "      <td>2</td>\n",
       "      <td>8</td>\n",
       "    </tr>\n",
       "    <tr>\n",
       "      <th>432</th>\n",
       "      <td>433</td>\n",
       "      <td>37252</td>\n",
       "      <td>59000</td>\n",
       "      <td>6</td>\n",
       "      <td>2</td>\n",
       "      <td>1</td>\n",
       "      <td>2</td>\n",
       "    </tr>\n",
       "    <tr>\n",
       "      <th>4</th>\n",
       "      <td>5</td>\n",
       "      <td>47437</td>\n",
       "      <td>100000</td>\n",
       "      <td>6</td>\n",
       "      <td>0</td>\n",
       "      <td>12</td>\n",
       "      <td>3</td>\n",
       "    </tr>\n",
       "    <tr>\n",
       "      <th>332</th>\n",
       "      <td>333</td>\n",
       "      <td>47437</td>\n",
       "      <td>17000</td>\n",
       "      <td>7</td>\n",
       "      <td>3</td>\n",
       "      <td>1</td>\n",
       "      <td>0</td>\n",
       "    </tr>\n",
       "    <tr>\n",
       "      <th>411</th>\n",
       "      <td>412</td>\n",
       "      <td>50706</td>\n",
       "      <td>44000</td>\n",
       "      <td>4</td>\n",
       "      <td>5</td>\n",
       "      <td>0</td>\n",
       "      <td>2</td>\n",
       "    </tr>\n",
       "    <tr>\n",
       "      <th>541</th>\n",
       "      <td>542</td>\n",
       "      <td>50706</td>\n",
       "      <td>60000</td>\n",
       "      <td>7</td>\n",
       "      <td>5</td>\n",
       "      <td>2</td>\n",
       "      <td>2</td>\n",
       "    </tr>\n",
       "    <tr>\n",
       "      <th>391</th>\n",
       "      <td>392</td>\n",
       "      <td>96929</td>\n",
       "      <td>13000</td>\n",
       "      <td>4</td>\n",
       "      <td>5</td>\n",
       "      <td>0</td>\n",
       "      <td>0</td>\n",
       "    </tr>\n",
       "    <tr>\n",
       "      <th>398</th>\n",
       "      <td>399</td>\n",
       "      <td>96929</td>\n",
       "      <td>67000</td>\n",
       "      <td>6</td>\n",
       "      <td>2</td>\n",
       "      <td>2</td>\n",
       "      <td>2</td>\n",
       "    </tr>\n",
       "    <tr>\n",
       "      <th>104</th>\n",
       "      <td>105</td>\n",
       "      <td>97935</td>\n",
       "      <td>17000</td>\n",
       "      <td>2</td>\n",
       "      <td>1</td>\n",
       "      <td>2</td>\n",
       "      <td>10</td>\n",
       "    </tr>\n",
       "    <tr>\n",
       "      <th>632</th>\n",
       "      <td>633</td>\n",
       "      <td>97935</td>\n",
       "      <td>187000</td>\n",
       "      <td>7</td>\n",
       "      <td>1</td>\n",
       "      <td>7</td>\n",
       "      <td>0</td>\n",
       "    </tr>\n",
       "  </tbody>\n",
       "</table>\n",
       "</div>"
      ],
      "text/plain": [
       "     Sl_No  Customer Key  Avg_Credit_Limit  Total_Credit_Cards  \\\n",
       "48      49         37252              6000                   4   \n",
       "432    433         37252             59000                   6   \n",
       "4        5         47437            100000                   6   \n",
       "332    333         47437             17000                   7   \n",
       "411    412         50706             44000                   4   \n",
       "541    542         50706             60000                   7   \n",
       "391    392         96929             13000                   4   \n",
       "398    399         96929             67000                   6   \n",
       "104    105         97935             17000                   2   \n",
       "632    633         97935            187000                   7   \n",
       "\n",
       "     Total_visits_bank  Total_visits_online  Total_calls_made  \n",
       "48                   0                    2                 8  \n",
       "432                  2                    1                 2  \n",
       "4                    0                   12                 3  \n",
       "332                  3                    1                 0  \n",
       "411                  5                    0                 2  \n",
       "541                  5                    2                 2  \n",
       "391                  5                    0                 0  \n",
       "398                  2                    2                 2  \n",
       "104                  1                    2                10  \n",
       "632                  1                    7                 0  "
      ]
     },
     "metadata": {},
     "output_type": "display_data"
    },
    {
     "data": {
      "text/plain": [
       "array([37252, 47437, 50706, 96929, 97935], dtype=int64)"
      ]
     },
     "execution_count": 11,
     "metadata": {},
     "output_type": "execute_result"
    }
   ],
   "source": [
    "grouped = originalData.groupby(\"Customer Key\")\n",
    "grouped=grouped.filter(lambda x: len(x) > 1)\n",
    "grouped = grouped.sort_values(by=\"Customer Key\")\n",
    "display(grouped)\n",
    "grouped[\"Customer Key\"].unique()"
   ]
  },
  {
   "cell_type": "markdown",
   "metadata": {},
   "source": [
    "If the Customer Key , defines a single physical customer, it appear that 5 of the physical customers have 2 entries each in the data set. These entries are not duplicated data. It appears that one physical customer can be running with different credit limits and credit card amounts. \n",
    "\n",
    "As these customers account for 10 rows out of 660 we will not recommend any corrective action unless it turns out that these customers are outliers affecting results. Customer with Sl_No 633 and Customer Key 97935 is of concern. He has an average credit limit of 187,000 which is double the others.\n",
    "\n",
    "### Avg_Credit _Limit"
   ]
  },
  {
   "cell_type": "code",
   "execution_count": 12,
   "metadata": {},
   "outputs": [
    {
     "data": {
      "text/plain": [
       "<matplotlib.axes._subplots.AxesSubplot at 0x1f57e242708>"
      ]
     },
     "execution_count": 12,
     "metadata": {},
     "output_type": "execute_result"
    },
    {
     "data": {
      "image/png": "[encoded data removed]",
      "text/plain": [
       "<Figure size 432x288 with 1 Axes>"
      ]
     },
     "metadata": {
      "needs_background": "light"
     },
     "output_type": "display_data"
    }
   ],
   "source": [
    "sns.distplot(originalData[\"Avg_Credit_Limit\"])"
   ]
  },
  {
   "cell_type": "code",
   "execution_count": 13,
   "metadata": {},
   "outputs": [
    {
     "data": {
      "text/plain": [
       "count       660.000000\n",
       "mean      34574.242424\n",
       "std       37625.487804\n",
       "min        3000.000000\n",
       "25%       10000.000000\n",
       "50%       18000.000000\n",
       "75%       48000.000000\n",
       "max      200000.000000\n",
       "Name: Avg_Credit_Limit, dtype: float64"
      ]
     },
     "execution_count": 13,
     "metadata": {},
     "output_type": "execute_result"
    }
   ],
   "source": [
    "originalData[\"Avg_Credit_Limit\"].describe()"
   ]
  },
  {
   "cell_type": "markdown",
   "metadata": {},
   "source": [
    "The data is highly skewed. 75% of customers have less than 48K credit limits. Of the remianing 25% many have credit limits that are double this amount\n",
    "\n",
    "We may be looking at 2 to 4 clusters. Expected grouping could end up being characterised as \"low credit limits\", \"medium credit limits\", \"high credit limits\" and \"Very High Limits\"."
   ]
  },
  {
   "cell_type": "code",
   "execution_count": 14,
   "metadata": {},
   "outputs": [
    {
     "data": {
      "text/plain": [
       "<matplotlib.axes._subplots.AxesSubplot at 0x1f57e36a488>"
      ]
     },
     "execution_count": 14,
     "metadata": {},
     "output_type": "execute_result"
    },
    {
     "data": {
      "image/png": "[encoded data removed]",
      "text/plain": [
       "<Figure size 432x288 with 1 Axes>"
      ]
     },
     "metadata": {
      "needs_background": "light"
     },
     "output_type": "display_data"
    }
   ],
   "source": [
    "sns.boxplot(originalData[\"Avg_Credit_Limit\"])"
   ]
  },
  {
   "cell_type": "markdown",
   "metadata": {},
   "source": [
    "This confirms a significant number of outliers. The data will need to be log scaled and standarized before analysis."
   ]
  },
  {
   "cell_type": "markdown",
   "metadata": {},
   "source": [
    "## Total Credit Cards"
   ]
  },
  {
   "cell_type": "code",
   "execution_count": 15,
   "metadata": {},
   "outputs": [
    {
     "data": {
      "text/plain": [
       "<matplotlib.axes._subplots.AxesSubplot at 0x1f57e42eec8>"
      ]
     },
     "execution_count": 15,
     "metadata": {},
     "output_type": "execute_result"
    },
    {
     "data": {
      "image/png": "[encoded data removed]",
      "text/plain": [
       "<Figure size 432x288 with 1 Axes>"
      ]
     },
     "metadata": {
      "needs_background": "light"
     },
     "output_type": "display_data"
    }
   ],
   "source": [
    "sns.distplot(originalData[\"Total_Credit_Cards\"])"
   ]
  },
  {
   "cell_type": "code",
   "execution_count": 16,
   "metadata": {},
   "outputs": [
    {
     "data": {
      "text/plain": [
       "count    660.000000\n",
       "mean       4.706061\n",
       "std        2.167835\n",
       "min        1.000000\n",
       "25%        3.000000\n",
       "50%        5.000000\n",
       "75%        6.000000\n",
       "max       10.000000\n",
       "Name: Total_Credit_Cards, dtype: float64"
      ]
     },
     "execution_count": 16,
     "metadata": {},
     "output_type": "execute_result"
    }
   ],
   "source": [
    "originalData[\"Total_Credit_Cards\"].describe()"
   ]
  },
  {
   "cell_type": "markdown",
   "metadata": {},
   "source": [
    "This columns data looks blissfully easy to deal with a looks some what normally distributed."
   ]
  },
  {
   "cell_type": "markdown",
   "metadata": {},
   "source": [
    "## Total_visits_bank"
   ]
  },
  {
   "cell_type": "code",
   "execution_count": 17,
   "metadata": {},
   "outputs": [
    {
     "data": {
      "text/plain": [
       "<matplotlib.axes._subplots.AxesSubplot at 0x1f57e4b3488>"
      ]
     },
     "execution_count": 17,
     "metadata": {},
     "output_type": "execute_result"
    },
    {
     "data": {
      "image/png": "[encoded data removed]",
      "text/plain": [
       "<Figure size 432x288 with 1 Axes>"
      ]
     },
     "metadata": {
      "needs_background": "light"
     },
     "output_type": "display_data"
    }
   ],
   "source": [
    "sns.distplot(originalData[\"Total_visits_bank\"])"
   ]
  },
  {
   "cell_type": "code",
   "execution_count": 18,
   "metadata": {},
   "outputs": [
    {
     "data": {
      "text/plain": [
       "count    660.000000\n",
       "mean       2.403030\n",
       "std        1.631813\n",
       "min        0.000000\n",
       "25%        1.000000\n",
       "50%        2.000000\n",
       "75%        4.000000\n",
       "max        5.000000\n",
       "Name: Total_visits_bank, dtype: float64"
      ]
     },
     "execution_count": 18,
     "metadata": {},
     "output_type": "execute_result"
    }
   ],
   "source": [
    "originalData[\"Total_visits_bank\"].describe()"
   ]
  },
  {
   "cell_type": "markdown",
   "metadata": {},
   "source": [
    "This columns data looks easy to deal with and looks some what normally distributed."
   ]
  },
  {
   "cell_type": "markdown",
   "metadata": {},
   "source": [
    "## Total_visits_online"
   ]
  },
  {
   "cell_type": "code",
   "execution_count": 19,
   "metadata": {},
   "outputs": [
    {
     "data": {
      "text/plain": [
       "<matplotlib.axes._subplots.AxesSubplot at 0x1f57e1ba708>"
      ]
     },
     "execution_count": 19,
     "metadata": {},
     "output_type": "execute_result"
    },
    {
     "data": {
      "image/png": "[encoded data removed]",
      "text/plain": [
       "<Figure size 432x288 with 1 Axes>"
      ]
     },
     "metadata": {
      "needs_background": "light"
     },
     "output_type": "display_data"
    }
   ],
   "source": [
    "sns.countplot(originalData[\"Total_visits_online\"])"
   ]
  },
  {
   "cell_type": "code",
   "execution_count": 20,
   "metadata": {},
   "outputs": [
    {
     "data": {
      "text/plain": [
       "count    660.000000\n",
       "mean       2.403030\n",
       "std        1.631813\n",
       "min        0.000000\n",
       "25%        1.000000\n",
       "50%        2.000000\n",
       "75%        4.000000\n",
       "max        5.000000\n",
       "Name: Total_visits_bank, dtype: float64"
      ]
     },
     "execution_count": 20,
     "metadata": {},
     "output_type": "execute_result"
    }
   ],
   "source": [
    "originalData[\"Total_visits_bank\"].describe()"
   ]
  },
  {
   "cell_type": "markdown",
   "metadata": {},
   "source": [
    "This column is highly skewed. It does suggest 3 clusters will be needed. \n",
    "\n",
    "Customer who do not use online facilities (zero visits), ocassional visitors (1-5 visits) and frequent users(6 or more vists)"
   ]
  },
  {
   "cell_type": "markdown",
   "metadata": {},
   "source": [
    "This data set is skewed and will need to be scaled."
   ]
  },
  {
   "cell_type": "markdown",
   "metadata": {},
   "source": [
    "## Total_calls_made"
   ]
  },
  {
   "cell_type": "code",
   "execution_count": 21,
   "metadata": {},
   "outputs": [
    {
     "data": {
      "text/plain": [
       "<matplotlib.axes._subplots.AxesSubplot at 0x1f57e5b3c88>"
      ]
     },
     "execution_count": 21,
     "metadata": {},
     "output_type": "execute_result"
    },
    {
     "data": {
      "image/png": "[encoded data removed]",
      "text/plain": [
       "<Figure size 432x288 with 1 Axes>"
      ]
     },
     "metadata": {
      "needs_background": "light"
     },
     "output_type": "display_data"
    }
   ],
   "source": [
    "sns.countplot(originalData[\"Total_calls_made\"])"
   ]
  },
  {
   "cell_type": "code",
   "execution_count": 22,
   "metadata": {},
   "outputs": [
    {
     "data": {
      "text/plain": [
       "count    660.000000\n",
       "mean       3.583333\n",
       "std        2.865317\n",
       "min        0.000000\n",
       "25%        1.000000\n",
       "50%        3.000000\n",
       "75%        5.000000\n",
       "max       10.000000\n",
       "Name: Total_calls_made, dtype: float64"
      ]
     },
     "execution_count": 22,
     "metadata": {},
     "output_type": "execute_result"
    }
   ],
   "source": [
    "originalData[\"Total_calls_made\"].describe()"
   ]
  },
  {
   "cell_type": "markdown",
   "metadata": {},
   "source": [
    "The mode is 4. The majority of customers have been contact 5 or fewer times.\n",
    "\n",
    "This graph suggest 3 possible clusters may exist, those who haven't made calls(zero calls), those with a low number of calls (less than 5), those with frequent calls (5 or more)."
   ]
  },
  {
   "cell_type": "markdown",
   "metadata": {},
   "source": [
    "# Multi-variate Analysis"
   ]
  },
  {
   "cell_type": "code",
   "execution_count": 23,
   "metadata": {},
   "outputs": [],
   "source": [
    "#remove identit columns\n",
    "originalData.drop([\"Sl_No\",\"Customer Key\"],axis=1, inplace=True)"
   ]
  },
  {
   "cell_type": "markdown",
   "metadata": {},
   "source": [
    "## Correlation"
   ]
  },
  {
   "cell_type": "code",
   "execution_count": 24,
   "metadata": {},
   "outputs": [
    {
     "data": {
      "text/html": [
       "<div>\n",
       "<style scoped>\n",
       "    .dataframe tbody tr th:only-of-type {\n",
       "        vertical-align: middle;\n",
       "    }\n",
       "\n",
       "    .dataframe tbody tr th {\n",
       "        vertical-align: top;\n",
       "    }\n",
       "\n",
       "    .dataframe thead th {\n",
       "        text-align: right;\n",
       "    }\n",
       "</style>\n",
       "<table border=\"1\" class=\"dataframe\">\n",
       "  <thead>\n",
       "    <tr style=\"text-align: right;\">\n",
       "      <th></th>\n",
       "      <th>Avg_Credit_Limit</th>\n",
       "      <th>Total_Credit_Cards</th>\n",
       "      <th>Total_visits_bank</th>\n",
       "      <th>Total_visits_online</th>\n",
       "      <th>Total_calls_made</th>\n",
       "    </tr>\n",
       "  </thead>\n",
       "  <tbody>\n",
       "    <tr>\n",
       "      <th>Avg_Credit_Limit</th>\n",
       "      <td>1.000000</td>\n",
       "      <td>0.608860</td>\n",
       "      <td>-0.100312</td>\n",
       "      <td>0.551385</td>\n",
       "      <td>-0.414352</td>\n",
       "    </tr>\n",
       "    <tr>\n",
       "      <th>Total_Credit_Cards</th>\n",
       "      <td>0.608860</td>\n",
       "      <td>1.000000</td>\n",
       "      <td>0.315796</td>\n",
       "      <td>0.167758</td>\n",
       "      <td>-0.651251</td>\n",
       "    </tr>\n",
       "    <tr>\n",
       "      <th>Total_visits_bank</th>\n",
       "      <td>-0.100312</td>\n",
       "      <td>0.315796</td>\n",
       "      <td>1.000000</td>\n",
       "      <td>-0.551861</td>\n",
       "      <td>-0.506016</td>\n",
       "    </tr>\n",
       "    <tr>\n",
       "      <th>Total_visits_online</th>\n",
       "      <td>0.551385</td>\n",
       "      <td>0.167758</td>\n",
       "      <td>-0.551861</td>\n",
       "      <td>1.000000</td>\n",
       "      <td>0.127299</td>\n",
       "    </tr>\n",
       "    <tr>\n",
       "      <th>Total_calls_made</th>\n",
       "      <td>-0.414352</td>\n",
       "      <td>-0.651251</td>\n",
       "      <td>-0.506016</td>\n",
       "      <td>0.127299</td>\n",
       "      <td>1.000000</td>\n",
       "    </tr>\n",
       "  </tbody>\n",
       "</table>\n",
       "</div>"
      ],
      "text/plain": [
       "                     Avg_Credit_Limit  Total_Credit_Cards  Total_visits_bank  \\\n",
       "Avg_Credit_Limit             1.000000            0.608860          -0.100312   \n",
       "Total_Credit_Cards           0.608860            1.000000           0.315796   \n",
       "Total_visits_bank           -0.100312            0.315796           1.000000   \n",
       "Total_visits_online          0.551385            0.167758          -0.551861   \n",
       "Total_calls_made            -0.414352           -0.651251          -0.506016   \n",
       "\n",
       "                     Total_visits_online  Total_calls_made  \n",
       "Avg_Credit_Limit                0.551385         -0.414352  \n",
       "Total_Credit_Cards              0.167758         -0.651251  \n",
       "Total_visits_bank              -0.551861         -0.506016  \n",
       "Total_visits_online             1.000000          0.127299  \n",
       "Total_calls_made                0.127299          1.000000  "
      ]
     },
     "execution_count": 24,
     "metadata": {},
     "output_type": "execute_result"
    }
   ],
   "source": [
    "originalData.corr()"
   ]
  },
  {
   "cell_type": "code",
   "execution_count": 25,
   "metadata": {},
   "outputs": [
    {
     "data": {
      "text/plain": [
       "<seaborn.axisgrid.PairGrid at 0x1f57e635e48>"
      ]
     },
     "execution_count": 25,
     "metadata": {},
     "output_type": "execute_result"
    },
    {
     "data": {
      "image/png": "[encoded data removed]",
      "text/plain": [
       "<Figure size 900x900 with 30 Axes>"
      ]
     },
     "metadata": {
      "needs_background": "light"
     },
     "output_type": "display_data"
    }
   ],
   "source": [
    "sns.pairplot(originalData,diag_kind='kde')"
   ]
  },
  {
   "cell_type": "markdown",
   "metadata": {},
   "source": [
    "The correlatons and the pair plots suggest strong relationships between:\n",
    "\n",
    "* Credit Limits and Credit Cards\n",
    "* Credit Limits and online visits\n",
    "* Total Credit Cards and Calls Made\n",
    "* Total bank visits and online visits\n",
    "* Total bank visits and calls made"
   ]
  },
  {
   "cell_type": "markdown",
   "metadata": {},
   "source": [
    "### Bi-variate analysis\n",
    "\n",
    "Based upon the above correlations we will investigate if clusters are occurring in the five pairings just mentioned."
   ]
  },
  {
   "cell_type": "code",
   "execution_count": 26,
   "metadata": {},
   "outputs": [
    {
     "data": {
      "text/plain": [
       "<matplotlib.collections.PathCollection at 0x1f5004881c8>"
      ]
     },
     "execution_count": 26,
     "metadata": {},
     "output_type": "execute_result"
    },
    {
     "data": {
      "image/png": "[encoded data removed]",
      "text/plain": [
       "<Figure size 432x288 with 1 Axes>"
      ]
     },
     "metadata": {
      "needs_background": "light"
     },
     "output_type": "display_data"
    }
   ],
   "source": [
    "plt.scatter(originalData[\"Total_Credit_Cards\"], originalData[\"Avg_Credit_Limit\"])"
   ]
  },
  {
   "cell_type": "markdown",
   "metadata": {},
   "source": [
    "This plot suggest 3 clusters. Thise with less than 4 credit credit cards and low limits. Those with less than 7 credit cards and low to medium limites and those with 8 or more credit cards with high limits."
   ]
  },
  {
   "cell_type": "code",
   "execution_count": 27,
   "metadata": {},
   "outputs": [
    {
     "data": {
      "text/plain": [
       "<matplotlib.collections.PathCollection at 0x1f50181adc8>"
      ]
     },
     "execution_count": 27,
     "metadata": {},
     "output_type": "execute_result"
    },
    {
     "data": {
      "image/png": "[encoded data removed]",
      "text/plain": [
       "<Figure size 432x288 with 1 Axes>"
      ]
     },
     "metadata": {
      "needs_background": "light"
     },
     "output_type": "display_data"
    }
   ],
   "source": [
    "plt.scatter(originalData[\"Total_Credit_Cards\"], originalData[\"Total_visits_online\"])"
   ]
  },
  {
   "cell_type": "markdown",
   "metadata": {},
   "source": [
    "This plot suggest 2 clusters. One in the bottom left to middle and one in the top right with."
   ]
  },
  {
   "cell_type": "code",
   "execution_count": 28,
   "metadata": {},
   "outputs": [
    {
     "data": {
      "text/plain": [
       "<matplotlib.collections.PathCollection at 0x1f501888188>"
      ]
     },
     "execution_count": 28,
     "metadata": {},
     "output_type": "execute_result"
    },
    {
     "data": {
      "image/png": "[encoded data removed]",
      "text/plain": [
       "<Figure size 432x288 with 1 Axes>"
      ]
     },
     "metadata": {
      "needs_background": "light"
     },
     "output_type": "display_data"
    }
   ],
   "source": [
    "plt.scatter(originalData[\"Total_Credit_Cards\"], originalData[\"Total_calls_made\"])"
   ]
  },
  {
   "cell_type": "markdown",
   "metadata": {},
   "source": [
    "This plot suggest 3 possible clusters. A cluster at the top left, a cluster in the middle bottom, a cluster at the right bottom."
   ]
  },
  {
   "cell_type": "code",
   "execution_count": 29,
   "metadata": {},
   "outputs": [
    {
     "data": {
      "text/plain": [
       "<matplotlib.collections.PathCollection at 0x1f5018e6a08>"
      ]
     },
     "execution_count": 29,
     "metadata": {},
     "output_type": "execute_result"
    },
    {
     "data": {
      "image/png": "[encoded data removed]",
      "text/plain": [
       "<Figure size 432x288 with 1 Axes>"
      ]
     },
     "metadata": {
      "needs_background": "light"
     },
     "output_type": "display_data"
    }
   ],
   "source": [
    "plt.scatter(originalData[\"Total_visits_bank\"], originalData[\"Total_visits_online\"])"
   ]
  },
  {
   "cell_type": "markdown",
   "metadata": {},
   "source": [
    "This graph suggests 2 clusters. One on the left with values below 2 that stretch the full height of the graph. And one above 2 that is close to the bottom"
   ]
  },
  {
   "cell_type": "code",
   "execution_count": 30,
   "metadata": {},
   "outputs": [
    {
     "data": {
      "text/plain": [
       "<matplotlib.collections.PathCollection at 0x1f5018e6988>"
      ]
     },
     "execution_count": 30,
     "metadata": {},
     "output_type": "execute_result"
    },
    {
     "data": {
      "image/png": "[encoded data removed]",
      "text/plain": [
       "<Figure size 432x288 with 1 Axes>"
      ]
     },
     "metadata": {
      "needs_background": "light"
     },
     "output_type": "display_data"
    }
   ],
   "source": [
    "plt.scatter(originalData[\"Total_visits_bank\"], originalData[\"Total_calls_made\"])"
   ]
  },
  {
   "cell_type": "markdown",
   "metadata": {},
   "source": [
    "This graph suggests 2 main clusters, one on the left below the value 3 and one on the right with values of 3 or greater.\n",
    "\n",
    "### Expectation \n",
    "\n",
    "The final clustering is likely to be between 2 to 4 clusteris"
   ]
  },
  {
   "cell_type": "markdown",
   "metadata": {},
   "source": [
    "# Transform Data"
   ]
  },
  {
   "cell_type": "code",
   "execution_count": 31,
   "metadata": {},
   "outputs": [
    {
     "data": {
      "text/html": [
       "<div>\n",
       "<style scoped>\n",
       "    .dataframe tbody tr th:only-of-type {\n",
       "        vertical-align: middle;\n",
       "    }\n",
       "\n",
       "    .dataframe tbody tr th {\n",
       "        vertical-align: top;\n",
       "    }\n",
       "\n",
       "    .dataframe thead th {\n",
       "        text-align: right;\n",
       "    }\n",
       "</style>\n",
       "<table border=\"1\" class=\"dataframe\">\n",
       "  <thead>\n",
       "    <tr style=\"text-align: right;\">\n",
       "      <th></th>\n",
       "      <th>Avg_Credit_Limit</th>\n",
       "      <th>Total_Credit_Cards</th>\n",
       "      <th>Total_visits_bank</th>\n",
       "      <th>Total_visits_online</th>\n",
       "      <th>Total_calls_made</th>\n",
       "    </tr>\n",
       "  </thead>\n",
       "  <tbody>\n",
       "    <tr>\n",
       "      <th>0</th>\n",
       "      <td>11.512925</td>\n",
       "      <td>2</td>\n",
       "      <td>1</td>\n",
       "      <td>1</td>\n",
       "      <td>0</td>\n",
       "    </tr>\n",
       "    <tr>\n",
       "      <th>1</th>\n",
       "      <td>10.819778</td>\n",
       "      <td>3</td>\n",
       "      <td>0</td>\n",
       "      <td>10</td>\n",
       "      <td>9</td>\n",
       "    </tr>\n",
       "    <tr>\n",
       "      <th>2</th>\n",
       "      <td>10.819778</td>\n",
       "      <td>7</td>\n",
       "      <td>1</td>\n",
       "      <td>3</td>\n",
       "      <td>4</td>\n",
       "    </tr>\n",
       "    <tr>\n",
       "      <th>3</th>\n",
       "      <td>10.308953</td>\n",
       "      <td>5</td>\n",
       "      <td>1</td>\n",
       "      <td>1</td>\n",
       "      <td>4</td>\n",
       "    </tr>\n",
       "    <tr>\n",
       "      <th>4</th>\n",
       "      <td>11.512925</td>\n",
       "      <td>6</td>\n",
       "      <td>0</td>\n",
       "      <td>12</td>\n",
       "      <td>3</td>\n",
       "    </tr>\n",
       "    <tr>\n",
       "      <th>...</th>\n",
       "      <td>...</td>\n",
       "      <td>...</td>\n",
       "      <td>...</td>\n",
       "      <td>...</td>\n",
       "      <td>...</td>\n",
       "    </tr>\n",
       "    <tr>\n",
       "      <th>655</th>\n",
       "      <td>11.502875</td>\n",
       "      <td>10</td>\n",
       "      <td>1</td>\n",
       "      <td>10</td>\n",
       "      <td>0</td>\n",
       "    </tr>\n",
       "    <tr>\n",
       "      <th>656</th>\n",
       "      <td>11.338572</td>\n",
       "      <td>10</td>\n",
       "      <td>1</td>\n",
       "      <td>13</td>\n",
       "      <td>2</td>\n",
       "    </tr>\n",
       "    <tr>\n",
       "      <th>657</th>\n",
       "      <td>11.884489</td>\n",
       "      <td>8</td>\n",
       "      <td>1</td>\n",
       "      <td>9</td>\n",
       "      <td>1</td>\n",
       "    </tr>\n",
       "    <tr>\n",
       "      <th>658</th>\n",
       "      <td>12.055250</td>\n",
       "      <td>10</td>\n",
       "      <td>1</td>\n",
       "      <td>15</td>\n",
       "      <td>0</td>\n",
       "    </tr>\n",
       "    <tr>\n",
       "      <th>659</th>\n",
       "      <td>12.025749</td>\n",
       "      <td>9</td>\n",
       "      <td>0</td>\n",
       "      <td>12</td>\n",
       "      <td>2</td>\n",
       "    </tr>\n",
       "  </tbody>\n",
       "</table>\n",
       "<p>660 rows × 5 columns</p>\n",
       "</div>"
      ],
      "text/plain": [
       "     Avg_Credit_Limit  Total_Credit_Cards  Total_visits_bank  \\\n",
       "0           11.512925                   2                  1   \n",
       "1           10.819778                   3                  0   \n",
       "2           10.819778                   7                  1   \n",
       "3           10.308953                   5                  1   \n",
       "4           11.512925                   6                  0   \n",
       "..                ...                 ...                ...   \n",
       "655         11.502875                  10                  1   \n",
       "656         11.338572                  10                  1   \n",
       "657         11.884489                   8                  1   \n",
       "658         12.055250                  10                  1   \n",
       "659         12.025749                   9                  0   \n",
       "\n",
       "     Total_visits_online  Total_calls_made  \n",
       "0                      1                 0  \n",
       "1                     10                 9  \n",
       "2                      3                 4  \n",
       "3                      1                 4  \n",
       "4                     12                 3  \n",
       "..                   ...               ...  \n",
       "655                   10                 0  \n",
       "656                   13                 2  \n",
       "657                    9                 1  \n",
       "658                   15                 0  \n",
       "659                   12                 2  \n",
       "\n",
       "[660 rows x 5 columns]"
      ]
     },
     "execution_count": 31,
     "metadata": {},
     "output_type": "execute_result"
    }
   ],
   "source": [
    "# log scale the credit limit\n",
    "originalData = pd.read_excel(\"Credit Card Customer Data.xlsx\")\n",
    "\n",
    "#remove identit columns\n",
    "originalData.drop([\"Sl_No\",\"Customer Key\"],axis=1, inplace=True)\n",
    "# log scale credit limit\n",
    "originalData[\"Avg_Credit_Limit\"] = np.log(originalData[\"Avg_Credit_Limit\"])  \n",
    "originalData"
   ]
  },
  {
   "cell_type": "code",
   "execution_count": 32,
   "metadata": {},
   "outputs": [
    {
     "data": {
      "text/plain": [
       "<matplotlib.axes._subplots.AxesSubplot at 0x1f5019f6a88>"
      ]
     },
     "execution_count": 32,
     "metadata": {},
     "output_type": "execute_result"
    },
    {
     "data": {
      "image/png": "[encoded data removed]",
      "text/plain": [
       "<Figure size 432x288 with 1 Axes>"
      ]
     },
     "metadata": {
      "needs_background": "light"
     },
     "output_type": "display_data"
    }
   ],
   "source": [
    "sns.boxplot(originalData[\"Avg_Credit_Limit\"])"
   ]
  },
  {
   "cell_type": "markdown",
   "metadata": {},
   "source": [
    "Log scaling has resulted in no outliers on the credit limit any more."
   ]
  },
  {
   "cell_type": "markdown",
   "metadata": {},
   "source": [
    "Apply Normalisation to all columns"
   ]
  },
  {
   "cell_type": "code",
   "execution_count": 33,
   "metadata": {},
   "outputs": [
    {
     "data": {
      "text/html": [
       "<div>\n",
       "<style scoped>\n",
       "    .dataframe tbody tr th:only-of-type {\n",
       "        vertical-align: middle;\n",
       "    }\n",
       "\n",
       "    .dataframe tbody tr th {\n",
       "        vertical-align: top;\n",
       "    }\n",
       "\n",
       "    .dataframe thead th {\n",
       "        text-align: right;\n",
       "    }\n",
       "</style>\n",
       "<table border=\"1\" class=\"dataframe\">\n",
       "  <thead>\n",
       "    <tr style=\"text-align: right;\">\n",
       "      <th></th>\n",
       "      <th>Avg_Credit_Limit</th>\n",
       "      <th>Total_Credit_Cards</th>\n",
       "      <th>Total_visits_bank</th>\n",
       "      <th>Total_visits_online</th>\n",
       "      <th>Total_calls_made</th>\n",
       "    </tr>\n",
       "  </thead>\n",
       "  <tbody>\n",
       "    <tr>\n",
       "      <th>0</th>\n",
       "      <td>1.630478</td>\n",
       "      <td>-1.249225</td>\n",
       "      <td>-0.860451</td>\n",
       "      <td>-0.547490</td>\n",
       "      <td>-1.251537</td>\n",
       "    </tr>\n",
       "    <tr>\n",
       "      <th>1</th>\n",
       "      <td>0.885387</td>\n",
       "      <td>-0.787585</td>\n",
       "      <td>-1.473731</td>\n",
       "      <td>2.520519</td>\n",
       "      <td>1.891859</td>\n",
       "    </tr>\n",
       "    <tr>\n",
       "      <th>2</th>\n",
       "      <td>0.885387</td>\n",
       "      <td>1.058973</td>\n",
       "      <td>-0.860451</td>\n",
       "      <td>0.134290</td>\n",
       "      <td>0.145528</td>\n",
       "    </tr>\n",
       "    <tr>\n",
       "      <th>3</th>\n",
       "      <td>0.336281</td>\n",
       "      <td>0.135694</td>\n",
       "      <td>-0.860451</td>\n",
       "      <td>-0.547490</td>\n",
       "      <td>0.145528</td>\n",
       "    </tr>\n",
       "    <tr>\n",
       "      <th>4</th>\n",
       "      <td>1.630478</td>\n",
       "      <td>0.597334</td>\n",
       "      <td>-1.473731</td>\n",
       "      <td>3.202298</td>\n",
       "      <td>-0.203739</td>\n",
       "    </tr>\n",
       "    <tr>\n",
       "      <th>...</th>\n",
       "      <td>...</td>\n",
       "      <td>...</td>\n",
       "      <td>...</td>\n",
       "      <td>...</td>\n",
       "      <td>...</td>\n",
       "    </tr>\n",
       "    <tr>\n",
       "      <th>655</th>\n",
       "      <td>1.619674</td>\n",
       "      <td>2.443892</td>\n",
       "      <td>-0.860451</td>\n",
       "      <td>2.520519</td>\n",
       "      <td>-1.251537</td>\n",
       "    </tr>\n",
       "    <tr>\n",
       "      <th>656</th>\n",
       "      <td>1.443058</td>\n",
       "      <td>2.443892</td>\n",
       "      <td>-0.860451</td>\n",
       "      <td>3.543188</td>\n",
       "      <td>-0.553005</td>\n",
       "    </tr>\n",
       "    <tr>\n",
       "      <th>657</th>\n",
       "      <td>2.029885</td>\n",
       "      <td>1.520613</td>\n",
       "      <td>-0.860451</td>\n",
       "      <td>2.179629</td>\n",
       "      <td>-0.902271</td>\n",
       "    </tr>\n",
       "    <tr>\n",
       "      <th>658</th>\n",
       "      <td>2.213443</td>\n",
       "      <td>2.443892</td>\n",
       "      <td>-0.860451</td>\n",
       "      <td>4.224968</td>\n",
       "      <td>-1.251537</td>\n",
       "    </tr>\n",
       "    <tr>\n",
       "      <th>659</th>\n",
       "      <td>2.181731</td>\n",
       "      <td>1.982253</td>\n",
       "      <td>-1.473731</td>\n",
       "      <td>3.202298</td>\n",
       "      <td>-0.553005</td>\n",
       "    </tr>\n",
       "  </tbody>\n",
       "</table>\n",
       "<p>660 rows × 5 columns</p>\n",
       "</div>"
      ],
      "text/plain": [
       "     Avg_Credit_Limit  Total_Credit_Cards  Total_visits_bank  \\\n",
       "0            1.630478           -1.249225          -0.860451   \n",
       "1            0.885387           -0.787585          -1.473731   \n",
       "2            0.885387            1.058973          -0.860451   \n",
       "3            0.336281            0.135694          -0.860451   \n",
       "4            1.630478            0.597334          -1.473731   \n",
       "..                ...                 ...                ...   \n",
       "655          1.619674            2.443892          -0.860451   \n",
       "656          1.443058            2.443892          -0.860451   \n",
       "657          2.029885            1.520613          -0.860451   \n",
       "658          2.213443            2.443892          -0.860451   \n",
       "659          2.181731            1.982253          -1.473731   \n",
       "\n",
       "     Total_visits_online  Total_calls_made  \n",
       "0              -0.547490         -1.251537  \n",
       "1               2.520519          1.891859  \n",
       "2               0.134290          0.145528  \n",
       "3              -0.547490          0.145528  \n",
       "4               3.202298         -0.203739  \n",
       "..                   ...               ...  \n",
       "655             2.520519         -1.251537  \n",
       "656             3.543188         -0.553005  \n",
       "657             2.179629         -0.902271  \n",
       "658             4.224968         -1.251537  \n",
       "659             3.202298         -0.553005  \n",
       "\n",
       "[660 rows x 5 columns]"
      ]
     },
     "execution_count": 33,
     "metadata": {},
     "output_type": "execute_result"
    }
   ],
   "source": [
    "scaler = StandardScaler()\n",
    "transformedData = pd.DataFrame(scaler.fit_transform(originalData), columns=originalData.columns)\n",
    "transformedData"
   ]
  },
  {
   "cell_type": "code",
   "execution_count": 34,
   "metadata": {},
   "outputs": [
    {
     "data": {
      "text/plain": [
       "<matplotlib.axes._subplots.AxesSubplot at 0x1f501961d08>"
      ]
     },
     "execution_count": 34,
     "metadata": {},
     "output_type": "execute_result"
    },
    {
     "data": {
      "image/png": "[encoded data removed]",
      "text/plain": [
       "<Figure size 432x288 with 1 Axes>"
      ]
     },
     "metadata": {
      "needs_background": "light"
     },
     "output_type": "display_data"
    }
   ],
   "source": [
    "sns.boxplot(transformedData[\"Total_visits_online\"])"
   ]
  },
  {
   "cell_type": "markdown",
   "metadata": {},
   "source": [
    "Outliers still exist on the \"Total_visits_online\". We will leave these outliers as they currently are. I will reconsider this decision if this column appear to have great significance to the clustering achieved."
   ]
  },
  {
   "cell_type": "code",
   "execution_count": 35,
   "metadata": {},
   "outputs": [
    {
     "data": {
      "text/html": [
       "<div>\n",
       "<style scoped>\n",
       "    .dataframe tbody tr th:only-of-type {\n",
       "        vertical-align: middle;\n",
       "    }\n",
       "\n",
       "    .dataframe tbody tr th {\n",
       "        vertical-align: top;\n",
       "    }\n",
       "\n",
       "    .dataframe thead th {\n",
       "        text-align: right;\n",
       "    }\n",
       "</style>\n",
       "<table border=\"1\" class=\"dataframe\">\n",
       "  <thead>\n",
       "    <tr style=\"text-align: right;\">\n",
       "      <th></th>\n",
       "      <th>Avg_Credit_Limit</th>\n",
       "      <th>Total_Credit_Cards</th>\n",
       "      <th>Total_visits_bank</th>\n",
       "      <th>Total_visits_online</th>\n",
       "      <th>Total_calls_made</th>\n",
       "    </tr>\n",
       "  </thead>\n",
       "  <tbody>\n",
       "    <tr>\n",
       "      <th>count</th>\n",
       "      <td>6.600000e+02</td>\n",
       "      <td>6.600000e+02</td>\n",
       "      <td>6.600000e+02</td>\n",
       "      <td>6.600000e+02</td>\n",
       "      <td>6.600000e+02</td>\n",
       "    </tr>\n",
       "    <tr>\n",
       "      <th>mean</th>\n",
       "      <td>-5.678959e-16</td>\n",
       "      <td>-4.006223e-15</td>\n",
       "      <td>1.157323e-16</td>\n",
       "      <td>1.944572e-16</td>\n",
       "      <td>-7.112156e-16</td>\n",
       "    </tr>\n",
       "    <tr>\n",
       "      <th>std</th>\n",
       "      <td>1.000758e+00</td>\n",
       "      <td>1.000758e+00</td>\n",
       "      <td>1.000758e+00</td>\n",
       "      <td>1.000758e+00</td>\n",
       "      <td>1.000758e+00</td>\n",
       "    </tr>\n",
       "    <tr>\n",
       "      <th>min</th>\n",
       "      <td>-2.138856e+00</td>\n",
       "      <td>-1.710864e+00</td>\n",
       "      <td>-1.473731e+00</td>\n",
       "      <td>-8.883795e-01</td>\n",
       "      <td>-1.251537e+00</td>\n",
       "    </tr>\n",
       "    <tr>\n",
       "      <th>25%</th>\n",
       "      <td>-8.446594e-01</td>\n",
       "      <td>-7.875852e-01</td>\n",
       "      <td>-8.604506e-01</td>\n",
       "      <td>-5.474897e-01</td>\n",
       "      <td>-9.022711e-01</td>\n",
       "    </tr>\n",
       "    <tr>\n",
       "      <th>50%</th>\n",
       "      <td>-2.128250e-01</td>\n",
       "      <td>1.356941e-01</td>\n",
       "      <td>-2.471705e-01</td>\n",
       "      <td>-2.065999e-01</td>\n",
       "      <td>-2.037386e-01</td>\n",
       "    </tr>\n",
       "    <tr>\n",
       "      <th>75%</th>\n",
       "      <td>8.415059e-01</td>\n",
       "      <td>5.973337e-01</td>\n",
       "      <td>9.793898e-01</td>\n",
       "      <td>4.751797e-01</td>\n",
       "      <td>4.947938e-01</td>\n",
       "    </tr>\n",
       "    <tr>\n",
       "      <th>max</th>\n",
       "      <td>2.375568e+00</td>\n",
       "      <td>2.443892e+00</td>\n",
       "      <td>1.592670e+00</td>\n",
       "      <td>4.224968e+00</td>\n",
       "      <td>2.241125e+00</td>\n",
       "    </tr>\n",
       "  </tbody>\n",
       "</table>\n",
       "</div>"
      ],
      "text/plain": [
       "       Avg_Credit_Limit  Total_Credit_Cards  Total_visits_bank  \\\n",
       "count      6.600000e+02        6.600000e+02       6.600000e+02   \n",
       "mean      -5.678959e-16       -4.006223e-15       1.157323e-16   \n",
       "std        1.000758e+00        1.000758e+00       1.000758e+00   \n",
       "min       -2.138856e+00       -1.710864e+00      -1.473731e+00   \n",
       "25%       -8.446594e-01       -7.875852e-01      -8.604506e-01   \n",
       "50%       -2.128250e-01        1.356941e-01      -2.471705e-01   \n",
       "75%        8.415059e-01        5.973337e-01       9.793898e-01   \n",
       "max        2.375568e+00        2.443892e+00       1.592670e+00   \n",
       "\n",
       "       Total_visits_online  Total_calls_made  \n",
       "count         6.600000e+02      6.600000e+02  \n",
       "mean          1.944572e-16     -7.112156e-16  \n",
       "std           1.000758e+00      1.000758e+00  \n",
       "min          -8.883795e-01     -1.251537e+00  \n",
       "25%          -5.474897e-01     -9.022711e-01  \n",
       "50%          -2.065999e-01     -2.037386e-01  \n",
       "75%           4.751797e-01      4.947938e-01  \n",
       "max           4.224968e+00      2.241125e+00  "
      ]
     },
     "execution_count": 35,
     "metadata": {},
     "output_type": "execute_result"
    }
   ],
   "source": [
    "transformedData.describe()"
   ]
  },
  {
   "cell_type": "code",
   "execution_count": 36,
   "metadata": {},
   "outputs": [
    {
     "data": {
      "text/plain": [
       "Avg_Credit_Limit       0.393753\n",
       "Total_Credit_Cards     0.144879\n",
       "Total_visits_bank      0.141896\n",
       "Total_visits_online    2.225607\n",
       "Total_calls_made       0.658905\n",
       "dtype: float64"
      ]
     },
     "execution_count": 36,
     "metadata": {},
     "output_type": "execute_result"
    }
   ],
   "source": [
    "transformedData.skew()"
   ]
  },
  {
   "cell_type": "markdown",
   "metadata": {},
   "source": [
    "All data columns have A mean near zero and std deviation near 1. All columns bar \"Total_online_visits\" have acceptable skew."
   ]
  },
  {
   "cell_type": "markdown",
   "metadata": {},
   "source": [
    "# K-Means clustering\n",
    "\n",
    "Will use ParametersGrid to try different values."
   ]
  },
  {
   "cell_type": "code",
   "execution_count": 37,
   "metadata": {},
   "outputs": [],
   "source": [
    "parameters = {'n_clusters' : [2,3,4,5,6,7,8,9,10] }\n",
    "\n",
    "parameter_grid = ParameterGrid(parameters)"
   ]
  },
  {
   "cell_type": "code",
   "execution_count": 38,
   "metadata": {},
   "outputs": [
    {
     "data": {
      "text/html": [
       "<div>\n",
       "<style scoped>\n",
       "    .dataframe tbody tr th:only-of-type {\n",
       "        vertical-align: middle;\n",
       "    }\n",
       "\n",
       "    .dataframe tbody tr th {\n",
       "        vertical-align: top;\n",
       "    }\n",
       "\n",
       "    .dataframe thead th {\n",
       "        text-align: right;\n",
       "    }\n",
       "</style>\n",
       "<table border=\"1\" class=\"dataframe\">\n",
       "  <thead>\n",
       "    <tr style=\"text-align: right;\">\n",
       "      <th></th>\n",
       "      <th>num_clusters</th>\n",
       "      <th>cluster_errors</th>\n",
       "    </tr>\n",
       "  </thead>\n",
       "  <tbody>\n",
       "    <tr>\n",
       "      <th>0</th>\n",
       "      <td>2</td>\n",
       "      <td>1980.654971</td>\n",
       "    </tr>\n",
       "    <tr>\n",
       "      <th>1</th>\n",
       "      <td>3</td>\n",
       "      <td>1090.350994</td>\n",
       "    </tr>\n",
       "    <tr>\n",
       "      <th>2</th>\n",
       "      <td>4</td>\n",
       "      <td>860.748318</td>\n",
       "    </tr>\n",
       "    <tr>\n",
       "      <th>3</th>\n",
       "      <td>5</td>\n",
       "      <td>775.870940</td>\n",
       "    </tr>\n",
       "    <tr>\n",
       "      <th>4</th>\n",
       "      <td>6</td>\n",
       "      <td>697.721176</td>\n",
       "    </tr>\n",
       "    <tr>\n",
       "      <th>5</th>\n",
       "      <td>7</td>\n",
       "      <td>634.212081</td>\n",
       "    </tr>\n",
       "    <tr>\n",
       "      <th>6</th>\n",
       "      <td>8</td>\n",
       "      <td>598.588511</td>\n",
       "    </tr>\n",
       "    <tr>\n",
       "      <th>7</th>\n",
       "      <td>9</td>\n",
       "      <td>569.729371</td>\n",
       "    </tr>\n",
       "    <tr>\n",
       "      <th>8</th>\n",
       "      <td>10</td>\n",
       "      <td>545.571286</td>\n",
       "    </tr>\n",
       "  </tbody>\n",
       "</table>\n",
       "</div>"
      ],
      "text/plain": [
       "   num_clusters  cluster_errors\n",
       "0             2     1980.654971\n",
       "1             3     1090.350994\n",
       "2             4      860.748318\n",
       "3             5      775.870940\n",
       "4             6      697.721176\n",
       "5             7      634.212081\n",
       "6             8      598.588511\n",
       "7             9      569.729371\n",
       "8            10      545.571286"
      ]
     },
     "execution_count": 38,
     "metadata": {},
     "output_type": "execute_result"
    }
   ],
   "source": [
    "cluster_errors = []\n",
    "\n",
    "model = KMeans(random_state=88)\n",
    "\n",
    "for row in parameter_grid:\n",
    "    model.set_params(**row)\n",
    "    model.fit(transformedData)\n",
    "    \n",
    "    cluster_errors.append(model.inertia_)\n",
    "\n",
    "clusterResults = pd.DataFrame({\"num_clusters\": [2,3,4,5,6,7,8,9,10]  , \"cluster_errors\": cluster_errors})\n",
    "clusterResults[0:15]\n",
    "\n",
    "\n"
   ]
  },
  {
   "cell_type": "code",
   "execution_count": 39,
   "metadata": {},
   "outputs": [
    {
     "data": {
      "text/plain": [
       "[<matplotlib.lines.Line2D at 0x1f502171a88>]"
      ]
     },
     "execution_count": 39,
     "metadata": {},
     "output_type": "execute_result"
    },
    {
     "data": {
      "image/png": "[encoded data removed]",
      "text/plain": [
       "<Figure size 864x432 with 1 Axes>"
      ]
     },
     "metadata": {
      "needs_background": "light"
     },
     "output_type": "display_data"
    }
   ],
   "source": [
    "plt.figure(figsize=(12,6))\n",
    "plt.plot( clusterResults.num_clusters, clusterResults.cluster_errors, marker = \"o\" )"
   ]
  },
  {
   "cell_type": "markdown",
   "metadata": {},
   "source": [
    "The univarite analysis and multivariate analysis had suggested 3 or 4 was the most likely outcome.\n",
    "\n",
    "Possible choices for the elbow point are 3 or 4.\n",
    "\n",
    "Both anlayses agree.\n",
    "\n",
    "I will choose 4 clusters. If the difference between two clusters are minimal we can run again with 3 clusters"
   ]
  },
  {
   "cell_type": "code",
   "execution_count": 40,
   "metadata": {},
   "outputs": [
    {
     "data": {
      "text/plain": [
       "KMeans(algorithm='auto', copy_x=True, init='k-means++', max_iter=300,\n",
       "       n_clusters=4, n_init=10, n_jobs=None, precompute_distances='auto',\n",
       "       random_state=88, tol=0.0001, verbose=0)"
      ]
     },
     "execution_count": 40,
     "metadata": {},
     "output_type": "execute_result"
    }
   ],
   "source": [
    "kmeans = KMeans(n_clusters=4,  random_state=88)\n",
    "kmeans.fit(transformedData)"
   ]
  },
  {
   "cell_type": "markdown",
   "metadata": {},
   "source": [
    "### The silhoutette score"
   ]
  },
  {
   "cell_type": "code",
   "execution_count": 41,
   "metadata": {},
   "outputs": [
    {
     "data": {
      "text/plain": [
       "0.22086186055571255"
      ]
     },
     "execution_count": 41,
     "metadata": {},
     "output_type": "execute_result"
    }
   ],
   "source": [
    "ss = silhouette_score(transformedData, model.labels_)\n",
    "ss"
   ]
  },
  {
   "cell_type": "markdown",
   "metadata": {},
   "source": [
    "The silhoutette score K-Means clustering with four clusters is 0.22. This figure is disappointing. It may reflect the skewedness of total_visits_online column.\n",
    "\n",
    "How many customers in each cluster?"
   ]
  },
  {
   "cell_type": "code",
   "execution_count": 42,
   "metadata": {},
   "outputs": [
    {
     "name": "stdout",
     "output_type": "stream",
     "text": [
      "[219 168  50 223]\n"
     ]
    }
   ],
   "source": [
    "labels = kmeans.labels_\n",
    "counts = np.bincount(labels)#[labels>=0])\n",
    "print(counts)"
   ]
  },
  {
   "cell_type": "markdown",
   "metadata": {},
   "source": [
    "### What are the values of our centroids? "
   ]
  },
  {
   "cell_type": "code",
   "execution_count": 43,
   "metadata": {},
   "outputs": [],
   "source": [
    "centroids = kmeans.cluster_centers_\n",
    "centroid_df = pd.DataFrame(centroids, columns = list(transformedData) )"
   ]
  },
  {
   "cell_type": "code",
   "execution_count": 44,
   "metadata": {},
   "outputs": [
    {
     "data": {
      "text/html": [
       "<div>\n",
       "<style scoped>\n",
       "    .dataframe tbody tr th:only-of-type {\n",
       "        vertical-align: middle;\n",
       "    }\n",
       "\n",
       "    .dataframe tbody tr th {\n",
       "        vertical-align: top;\n",
       "    }\n",
       "\n",
       "    .dataframe thead th {\n",
       "        text-align: right;\n",
       "    }\n",
       "</style>\n",
       "<table border=\"1\" class=\"dataframe\">\n",
       "  <thead>\n",
       "    <tr style=\"text-align: right;\">\n",
       "      <th></th>\n",
       "      <th>0</th>\n",
       "      <th>1</th>\n",
       "      <th>2</th>\n",
       "      <th>3</th>\n",
       "    </tr>\n",
       "  </thead>\n",
       "  <tbody>\n",
       "    <tr>\n",
       "      <th>Avg_Credit_Limit</th>\n",
       "      <td>0.838906</td>\n",
       "      <td>-0.714454</td>\n",
       "      <td>1.966490</td>\n",
       "      <td>-0.726532</td>\n",
       "    </tr>\n",
       "    <tr>\n",
       "      <th>Total_Credit_Cards</th>\n",
       "      <td>0.388647</td>\n",
       "      <td>0.350027</td>\n",
       "      <td>1.862226</td>\n",
       "      <td>-1.062913</td>\n",
       "    </tr>\n",
       "    <tr>\n",
       "      <th>Total_visits_bank</th>\n",
       "      <td>0.612542</td>\n",
       "      <td>0.731157</td>\n",
       "      <td>-1.105763</td>\n",
       "      <td>-0.904453</td>\n",
       "    </tr>\n",
       "    <tr>\n",
       "      <th>Total_visits_online</th>\n",
       "      <td>-0.558386</td>\n",
       "      <td>-0.545461</td>\n",
       "      <td>2.827319</td>\n",
       "      <td>0.325372</td>\n",
       "    </tr>\n",
       "    <tr>\n",
       "      <th>Total_calls_made</th>\n",
       "      <td>-0.533867</td>\n",
       "      <td>-0.573795</td>\n",
       "      <td>-0.874330</td>\n",
       "      <td>1.152605</td>\n",
       "    </tr>\n",
       "  </tbody>\n",
       "</table>\n",
       "</div>"
      ],
      "text/plain": [
       "                            0         1         2         3\n",
       "Avg_Credit_Limit     0.838906 -0.714454  1.966490 -0.726532\n",
       "Total_Credit_Cards   0.388647  0.350027  1.862226 -1.062913\n",
       "Total_visits_bank    0.612542  0.731157 -1.105763 -0.904453\n",
       "Total_visits_online -0.558386 -0.545461  2.827319  0.325372\n",
       "Total_calls_made    -0.533867 -0.573795 -0.874330  1.152605"
      ]
     },
     "execution_count": 44,
     "metadata": {},
     "output_type": "execute_result"
    }
   ],
   "source": [
    "centroid_df.transpose()"
   ]
  },
  {
   "cell_type": "code",
   "execution_count": 45,
   "metadata": {},
   "outputs": [
    {
     "data": {
      "text/plain": [
       "array([[<matplotlib.axes._subplots.AxesSubplot object at 0x000001F501961DC8>,\n",
       "        <matplotlib.axes._subplots.AxesSubplot object at 0x000001F5021F6E88>,\n",
       "        <matplotlib.axes._subplots.AxesSubplot object at 0x000001F5021CFE88>,\n",
       "        <matplotlib.axes._subplots.AxesSubplot object at 0x000001F502266BC8>],\n",
       "       [<matplotlib.axes._subplots.AxesSubplot object at 0x000001F5022A1808>,\n",
       "        <matplotlib.axes._subplots.AxesSubplot object at 0x000001F5003D24C8>,\n",
       "        <matplotlib.axes._subplots.AxesSubplot object at 0x000001F5019F7208>,\n",
       "        <matplotlib.axes._subplots.AxesSubplot object at 0x000001F501A333C8>],\n",
       "       [<matplotlib.axes._subplots.AxesSubplot object at 0x000001F501A12648>,\n",
       "        <matplotlib.axes._subplots.AxesSubplot object at 0x000001F50237C688>,\n",
       "        <matplotlib.axes._subplots.AxesSubplot object at 0x000001F5023E2E48>,\n",
       "        <matplotlib.axes._subplots.AxesSubplot object at 0x000001F502418F88>]],\n",
       "      dtype=object)"
      ]
     },
     "execution_count": 45,
     "metadata": {},
     "output_type": "execute_result"
    },
    {
     "data": {
      "image/png": "[encoded data removed]",
      "text/plain": [
       "<Figure size 1080x720 with 12 Axes>"
      ]
     },
     "metadata": {
      "needs_background": "light"
     },
     "output_type": "display_data"
    }
   ],
   "source": [
    "transformedData[\"group\"] = kmeans.predict(transformedData) #predictions\n",
    "transformedData.boxplot(by = 'group',  layout=(3,4), figsize=(15, 10))"
   ]
  },
  {
   "cell_type": "markdown",
   "metadata": {},
   "source": [
    "## Result of K-Means Clustering\n",
    "\n",
    "K-Means has resulted in the creation of 4 clusters. These are as follows:\n",
    "\n",
    "Cluster Zero (\"The moderate spenders\") These customers have the above average credit card limits and have the second most number of credit cards. They are more likely to vist the bank rather than call or go online\n",
    "\n",
    "Cluster 1 (\"The cautious spenders\") These customer have an average number of credit cards but considerably lower credit limits than the \"moderate spenders\". The like visting the bank and are less likely to go online or make a call.\n",
    "\n",
    "Cluster 2 (\"The Big Spenders\") These customers have the highest credit card limits and the most number of credit cards. They make the most online vists. They are the least likely to make calls or visits to the bank.\n",
    "\n",
    "Cluster 3 (\"The visiting cautious\") These customers have the least number of credit cards and the lowest credit card limits. They have a strong preference of calling the bank. They prefer online rather than visting the branch."
   ]
  },
  {
   "cell_type": "markdown",
   "metadata": {},
   "source": [
    "# Hierarchical Clustering with Silhouette score"
   ]
  },
  {
   "cell_type": "code",
   "execution_count": 46,
   "metadata": {},
   "outputs": [],
   "source": [
    "parametersOne = {\n",
    "                'n_clusters' : [2,3,4,5,6,7,8,9,10],\n",
    "                 'affinity' : [\"euclidean\", \"l1\", \"l2\", \"manhattan\"],\n",
    "                'linkage' : {\"complete\", \"average\", \"single\"}\n",
    "             }\n",
    "\n",
    "# ward linkage can only use euclidean distances\n",
    "parametersTwo = {\n",
    "                'n_clusters' : [2,3,4,5,6,7,8,9,10],\n",
    "                 'affinity' : [\"euclidean\"],\n",
    "                'linkage' : {\"ward\"}\n",
    "             }"
   ]
  },
  {
   "cell_type": "code",
   "execution_count": 47,
   "metadata": {},
   "outputs": [],
   "source": [
    "parameter_grid_One = ParameterGrid(parametersOne)\n",
    "parameter_grid_Two = ParameterGrid(parametersTwo)\n",
    "#list(parameter_grid)"
   ]
  },
  {
   "cell_type": "code",
   "execution_count": 48,
   "metadata": {},
   "outputs": [],
   "source": [
    "allGrids = [parameter_grid_One,parameter_grid_Two]\n",
    "#allGrids"
   ]
  },
  {
   "cell_type": "code",
   "execution_count": 50,
   "metadata": {},
   "outputs": [],
   "source": [
    "bestscore = -1\n",
    "bestgrid =\"\";\n",
    "model = AgglomerativeClustering()"
   ]
  },
  {
   "cell_type": "code",
   "execution_count": 51,
   "metadata": {},
   "outputs": [
    {
     "name": "stdout",
     "output_type": "stream",
     "text": [
      "parameter {'affinity': 'euclidean', 'linkage': 'complete', 'n_clusters': 3} silhoutete score 0.5778331778038417\n"
     ]
    }
   ],
   "source": [
    "for grid in allGrids:\n",
    "    for entry in grid:\n",
    "        model.set_params(**entry)\n",
    "        model.fit(transformedData)\n",
    "\n",
    "        ss = silhouette_score(transformedData, model.labels_)\n",
    "        #print(entry)\n",
    "        if (ss > bestscore):\n",
    "            bestscore = ss\n",
    "            bestgrid = entry\n",
    "\n",
    "print(\"parameter\", bestgrid, \"silhoutete score\", bestscore)\n",
    "    "
   ]
  },
  {
   "cell_type": "markdown",
   "metadata": {},
   "source": [
    "The best model has a silhouette score of 0.577. It has the parameters 'affinity': 'euclidean', 'linkage': 'complete', 'n_clusters': 3\n",
    "\n",
    "We will now run this model and comment upon the clusters it creates."
   ]
  },
  {
   "cell_type": "code",
   "execution_count": 52,
   "metadata": {},
   "outputs": [
    {
     "data": {
      "text/plain": [
       "AgglomerativeClustering(affinity='euclidean', compute_full_tree='auto',\n",
       "                        connectivity=None, distance_threshold=None,\n",
       "                        linkage='complete', memory=None, n_clusters=3)"
      ]
     },
     "execution_count": 52,
     "metadata": {},
     "output_type": "execute_result"
    }
   ],
   "source": [
    "bestfitModel = AgglomerativeClustering(affinity = 'euclidean', linkage= 'complete', n_clusters= 3)\n",
    "bestfitModel.fit(transformedData)"
   ]
  },
  {
   "cell_type": "code",
   "execution_count": 53,
   "metadata": {},
   "outputs": [
    {
     "data": {
      "text/html": [
       "<div>\n",
       "<style scoped>\n",
       "    .dataframe tbody tr th:only-of-type {\n",
       "        vertical-align: middle;\n",
       "    }\n",
       "\n",
       "    .dataframe tbody tr th {\n",
       "        vertical-align: top;\n",
       "    }\n",
       "\n",
       "    .dataframe thead th {\n",
       "        text-align: right;\n",
       "    }\n",
       "</style>\n",
       "<table border=\"1\" class=\"dataframe\">\n",
       "  <thead>\n",
       "    <tr style=\"text-align: right;\">\n",
       "      <th></th>\n",
       "      <th>Avg_Credit_Limit</th>\n",
       "      <th>Total_Credit_Cards</th>\n",
       "      <th>Total_visits_bank</th>\n",
       "      <th>Total_visits_online</th>\n",
       "      <th>Total_calls_made</th>\n",
       "      <th>group</th>\n",
       "    </tr>\n",
       "  </thead>\n",
       "  <tbody>\n",
       "    <tr>\n",
       "      <th>0</th>\n",
       "      <td>1.630478</td>\n",
       "      <td>-1.249225</td>\n",
       "      <td>-0.860451</td>\n",
       "      <td>-0.547490</td>\n",
       "      <td>-1.251537</td>\n",
       "      <td>0</td>\n",
       "    </tr>\n",
       "    <tr>\n",
       "      <th>1</th>\n",
       "      <td>0.885387</td>\n",
       "      <td>-0.787585</td>\n",
       "      <td>-1.473731</td>\n",
       "      <td>2.520519</td>\n",
       "      <td>1.891859</td>\n",
       "      <td>2</td>\n",
       "    </tr>\n",
       "    <tr>\n",
       "      <th>2</th>\n",
       "      <td>0.885387</td>\n",
       "      <td>1.058973</td>\n",
       "      <td>-0.860451</td>\n",
       "      <td>0.134290</td>\n",
       "      <td>0.145528</td>\n",
       "      <td>0</td>\n",
       "    </tr>\n",
       "    <tr>\n",
       "      <th>3</th>\n",
       "      <td>0.336281</td>\n",
       "      <td>0.135694</td>\n",
       "      <td>-0.860451</td>\n",
       "      <td>-0.547490</td>\n",
       "      <td>0.145528</td>\n",
       "      <td>0</td>\n",
       "    </tr>\n",
       "    <tr>\n",
       "      <th>4</th>\n",
       "      <td>1.630478</td>\n",
       "      <td>0.597334</td>\n",
       "      <td>-1.473731</td>\n",
       "      <td>3.202298</td>\n",
       "      <td>-0.203739</td>\n",
       "      <td>1</td>\n",
       "    </tr>\n",
       "    <tr>\n",
       "      <th>...</th>\n",
       "      <td>...</td>\n",
       "      <td>...</td>\n",
       "      <td>...</td>\n",
       "      <td>...</td>\n",
       "      <td>...</td>\n",
       "      <td>...</td>\n",
       "    </tr>\n",
       "    <tr>\n",
       "      <th>655</th>\n",
       "      <td>1.619674</td>\n",
       "      <td>2.443892</td>\n",
       "      <td>-0.860451</td>\n",
       "      <td>2.520519</td>\n",
       "      <td>-1.251537</td>\n",
       "      <td>1</td>\n",
       "    </tr>\n",
       "    <tr>\n",
       "      <th>656</th>\n",
       "      <td>1.443058</td>\n",
       "      <td>2.443892</td>\n",
       "      <td>-0.860451</td>\n",
       "      <td>3.543188</td>\n",
       "      <td>-0.553005</td>\n",
       "      <td>1</td>\n",
       "    </tr>\n",
       "    <tr>\n",
       "      <th>657</th>\n",
       "      <td>2.029885</td>\n",
       "      <td>1.520613</td>\n",
       "      <td>-0.860451</td>\n",
       "      <td>2.179629</td>\n",
       "      <td>-0.902271</td>\n",
       "      <td>1</td>\n",
       "    </tr>\n",
       "    <tr>\n",
       "      <th>658</th>\n",
       "      <td>2.213443</td>\n",
       "      <td>2.443892</td>\n",
       "      <td>-0.860451</td>\n",
       "      <td>4.224968</td>\n",
       "      <td>-1.251537</td>\n",
       "      <td>1</td>\n",
       "    </tr>\n",
       "    <tr>\n",
       "      <th>659</th>\n",
       "      <td>2.181731</td>\n",
       "      <td>1.982253</td>\n",
       "      <td>-1.473731</td>\n",
       "      <td>3.202298</td>\n",
       "      <td>-0.553005</td>\n",
       "      <td>1</td>\n",
       "    </tr>\n",
       "  </tbody>\n",
       "</table>\n",
       "<p>660 rows × 6 columns</p>\n",
       "</div>"
      ],
      "text/plain": [
       "     Avg_Credit_Limit  Total_Credit_Cards  Total_visits_bank  \\\n",
       "0            1.630478           -1.249225          -0.860451   \n",
       "1            0.885387           -0.787585          -1.473731   \n",
       "2            0.885387            1.058973          -0.860451   \n",
       "3            0.336281            0.135694          -0.860451   \n",
       "4            1.630478            0.597334          -1.473731   \n",
       "..                ...                 ...                ...   \n",
       "655          1.619674            2.443892          -0.860451   \n",
       "656          1.443058            2.443892          -0.860451   \n",
       "657          2.029885            1.520613          -0.860451   \n",
       "658          2.213443            2.443892          -0.860451   \n",
       "659          2.181731            1.982253          -1.473731   \n",
       "\n",
       "     Total_visits_online  Total_calls_made  group  \n",
       "0              -0.547490         -1.251537      0  \n",
       "1               2.520519          1.891859      2  \n",
       "2               0.134290          0.145528      0  \n",
       "3              -0.547490          0.145528      0  \n",
       "4               3.202298         -0.203739      1  \n",
       "..                   ...               ...    ...  \n",
       "655             2.520519         -1.251537      1  \n",
       "656             3.543188         -0.553005      1  \n",
       "657             2.179629         -0.902271      1  \n",
       "658             4.224968         -1.251537      1  \n",
       "659             3.202298         -0.553005      1  \n",
       "\n",
       "[660 rows x 6 columns]"
      ]
     },
     "execution_count": 53,
     "metadata": {},
     "output_type": "execute_result"
    }
   ],
   "source": [
    "transformedData[\"group\"] = bestfitModel.labels_\n",
    "transformedData"
   ]
  },
  {
   "cell_type": "code",
   "execution_count": 54,
   "metadata": {},
   "outputs": [
    {
     "data": {
      "text/html": [
       "<div>\n",
       "<style scoped>\n",
       "    .dataframe tbody tr th:only-of-type {\n",
       "        vertical-align: middle;\n",
       "    }\n",
       "\n",
       "    .dataframe tbody tr th {\n",
       "        vertical-align: top;\n",
       "    }\n",
       "\n",
       "    .dataframe thead th {\n",
       "        text-align: right;\n",
       "    }\n",
       "</style>\n",
       "<table border=\"1\" class=\"dataframe\">\n",
       "  <thead>\n",
       "    <tr style=\"text-align: right;\">\n",
       "      <th>group</th>\n",
       "      <th>0</th>\n",
       "      <th>1</th>\n",
       "      <th>2</th>\n",
       "    </tr>\n",
       "  </thead>\n",
       "  <tbody>\n",
       "    <tr>\n",
       "      <th>Avg_Credit_Limit</th>\n",
       "      <td>387</td>\n",
       "      <td>50</td>\n",
       "      <td>223</td>\n",
       "    </tr>\n",
       "    <tr>\n",
       "      <th>Total_Credit_Cards</th>\n",
       "      <td>387</td>\n",
       "      <td>50</td>\n",
       "      <td>223</td>\n",
       "    </tr>\n",
       "    <tr>\n",
       "      <th>Total_visits_bank</th>\n",
       "      <td>387</td>\n",
       "      <td>50</td>\n",
       "      <td>223</td>\n",
       "    </tr>\n",
       "    <tr>\n",
       "      <th>Total_visits_online</th>\n",
       "      <td>387</td>\n",
       "      <td>50</td>\n",
       "      <td>223</td>\n",
       "    </tr>\n",
       "    <tr>\n",
       "      <th>Total_calls_made</th>\n",
       "      <td>387</td>\n",
       "      <td>50</td>\n",
       "      <td>223</td>\n",
       "    </tr>\n",
       "  </tbody>\n",
       "</table>\n",
       "</div>"
      ],
      "text/plain": [
       "group                  0   1    2\n",
       "Avg_Credit_Limit     387  50  223\n",
       "Total_Credit_Cards   387  50  223\n",
       "Total_visits_bank    387  50  223\n",
       "Total_visits_online  387  50  223\n",
       "Total_calls_made     387  50  223"
      ]
     },
     "metadata": {},
     "output_type": "display_data"
    },
    {
     "data": {
      "text/html": [
       "<div>\n",
       "<style scoped>\n",
       "    .dataframe tbody tr th:only-of-type {\n",
       "        vertical-align: middle;\n",
       "    }\n",
       "\n",
       "    .dataframe tbody tr th {\n",
       "        vertical-align: top;\n",
       "    }\n",
       "\n",
       "    .dataframe thead th {\n",
       "        text-align: right;\n",
       "    }\n",
       "</style>\n",
       "<table border=\"1\" class=\"dataframe\">\n",
       "  <thead>\n",
       "    <tr style=\"text-align: right;\">\n",
       "      <th>group</th>\n",
       "      <th>0</th>\n",
       "      <th>1</th>\n",
       "      <th>2</th>\n",
       "    </tr>\n",
       "  </thead>\n",
       "  <tbody>\n",
       "    <tr>\n",
       "      <th>Avg_Credit_Limit</th>\n",
       "      <td>0.164579</td>\n",
       "      <td>1.966490</td>\n",
       "      <td>-0.726532</td>\n",
       "    </tr>\n",
       "    <tr>\n",
       "      <th>Total_Credit_Cards</th>\n",
       "      <td>0.371882</td>\n",
       "      <td>1.862226</td>\n",
       "      <td>-1.062913</td>\n",
       "    </tr>\n",
       "    <tr>\n",
       "      <th>Total_visits_bank</th>\n",
       "      <td>0.664034</td>\n",
       "      <td>-1.105763</td>\n",
       "      <td>-0.904453</td>\n",
       "    </tr>\n",
       "    <tr>\n",
       "      <th>Total_visits_online</th>\n",
       "      <td>-0.552775</td>\n",
       "      <td>2.827319</td>\n",
       "      <td>0.325372</td>\n",
       "    </tr>\n",
       "    <tr>\n",
       "      <th>Total_calls_made</th>\n",
       "      <td>-0.551200</td>\n",
       "      <td>-0.874330</td>\n",
       "      <td>1.152605</td>\n",
       "    </tr>\n",
       "  </tbody>\n",
       "</table>\n",
       "</div>"
      ],
      "text/plain": [
       "group                       0         1         2\n",
       "Avg_Credit_Limit     0.164579  1.966490 -0.726532\n",
       "Total_Credit_Cards   0.371882  1.862226 -1.062913\n",
       "Total_visits_bank    0.664034 -1.105763 -0.904453\n",
       "Total_visits_online -0.552775  2.827319  0.325372\n",
       "Total_calls_made    -0.551200 -0.874330  1.152605"
      ]
     },
     "metadata": {},
     "output_type": "display_data"
    }
   ],
   "source": [
    "groupedAgglomerative = transformedData.groupby(\"group\")\n",
    "display(groupedAgglomerative.count().T)\n",
    "display(groupedAgglomerative.mean().T)"
   ]
  },
  {
   "cell_type": "markdown",
   "metadata": {},
   "source": [
    "### Result of Agglomerative Clustering\n",
    "\n",
    "The 3 groups created by agglomerative clustering can be described as thus:\n",
    "\n",
    "#### Group 0 (\"The moderates\")\n",
    "This group has 387 of the customers in it.\n",
    "\n",
    "This group is the middle ground , they do take credit and they do have credit cards. They are most likely to visit the bank. They are equally as likely to use online or make a call.\n",
    "\n",
    "#### Group 1 (\"The Big Spenders\")\n",
    "This group has 50 customers in it.\n",
    "These customer have large credit limits and large number of credit cards. They have a very strong perference for useing online services. They are the least likely to call.\n",
    "\n",
    "#### Group 2 (\"The Cautious\")\n",
    "This Group has 223 customers in it\n",
    "These customers have small credit limits and the least number of credit cards. They are the most likely to call and appear averse to using online communications"
   ]
  },
  {
   "cell_type": "markdown",
   "metadata": {},
   "source": [
    "# Dendrogram Production"
   ]
  },
  {
   "cell_type": "markdown",
   "metadata": {},
   "source": [
    "A dendrogram produces a visualisation of the grouping. In order to produce this grouping we need the linkages matrix to be produced first."
   ]
  },
  {
   "cell_type": "code",
   "execution_count": 55,
   "metadata": {},
   "outputs": [
    {
     "data": {
      "text/html": [
       "<div>\n",
       "<style scoped>\n",
       "    .dataframe tbody tr th:only-of-type {\n",
       "        vertical-align: middle;\n",
       "    }\n",
       "\n",
       "    .dataframe tbody tr th {\n",
       "        vertical-align: top;\n",
       "    }\n",
       "\n",
       "    .dataframe thead th {\n",
       "        text-align: right;\n",
       "    }\n",
       "</style>\n",
       "<table border=\"1\" class=\"dataframe\">\n",
       "  <thead>\n",
       "    <tr style=\"text-align: right;\">\n",
       "      <th></th>\n",
       "      <th>Avg_Credit_Limit</th>\n",
       "      <th>Total_Credit_Cards</th>\n",
       "      <th>Total_visits_bank</th>\n",
       "      <th>Total_visits_online</th>\n",
       "      <th>Total_calls_made</th>\n",
       "    </tr>\n",
       "  </thead>\n",
       "  <tbody>\n",
       "    <tr>\n",
       "      <th>0</th>\n",
       "      <td>1.630478</td>\n",
       "      <td>-1.249225</td>\n",
       "      <td>-0.860451</td>\n",
       "      <td>-0.547490</td>\n",
       "      <td>-1.251537</td>\n",
       "    </tr>\n",
       "    <tr>\n",
       "      <th>1</th>\n",
       "      <td>0.885387</td>\n",
       "      <td>-0.787585</td>\n",
       "      <td>-1.473731</td>\n",
       "      <td>2.520519</td>\n",
       "      <td>1.891859</td>\n",
       "    </tr>\n",
       "    <tr>\n",
       "      <th>2</th>\n",
       "      <td>0.885387</td>\n",
       "      <td>1.058973</td>\n",
       "      <td>-0.860451</td>\n",
       "      <td>0.134290</td>\n",
       "      <td>0.145528</td>\n",
       "    </tr>\n",
       "    <tr>\n",
       "      <th>3</th>\n",
       "      <td>0.336281</td>\n",
       "      <td>0.135694</td>\n",
       "      <td>-0.860451</td>\n",
       "      <td>-0.547490</td>\n",
       "      <td>0.145528</td>\n",
       "    </tr>\n",
       "    <tr>\n",
       "      <th>4</th>\n",
       "      <td>1.630478</td>\n",
       "      <td>0.597334</td>\n",
       "      <td>-1.473731</td>\n",
       "      <td>3.202298</td>\n",
       "      <td>-0.203739</td>\n",
       "    </tr>\n",
       "    <tr>\n",
       "      <th>...</th>\n",
       "      <td>...</td>\n",
       "      <td>...</td>\n",
       "      <td>...</td>\n",
       "      <td>...</td>\n",
       "      <td>...</td>\n",
       "    </tr>\n",
       "    <tr>\n",
       "      <th>655</th>\n",
       "      <td>1.619674</td>\n",
       "      <td>2.443892</td>\n",
       "      <td>-0.860451</td>\n",
       "      <td>2.520519</td>\n",
       "      <td>-1.251537</td>\n",
       "    </tr>\n",
       "    <tr>\n",
       "      <th>656</th>\n",
       "      <td>1.443058</td>\n",
       "      <td>2.443892</td>\n",
       "      <td>-0.860451</td>\n",
       "      <td>3.543188</td>\n",
       "      <td>-0.553005</td>\n",
       "    </tr>\n",
       "    <tr>\n",
       "      <th>657</th>\n",
       "      <td>2.029885</td>\n",
       "      <td>1.520613</td>\n",
       "      <td>-0.860451</td>\n",
       "      <td>2.179629</td>\n",
       "      <td>-0.902271</td>\n",
       "    </tr>\n",
       "    <tr>\n",
       "      <th>658</th>\n",
       "      <td>2.213443</td>\n",
       "      <td>2.443892</td>\n",
       "      <td>-0.860451</td>\n",
       "      <td>4.224968</td>\n",
       "      <td>-1.251537</td>\n",
       "    </tr>\n",
       "    <tr>\n",
       "      <th>659</th>\n",
       "      <td>2.181731</td>\n",
       "      <td>1.982253</td>\n",
       "      <td>-1.473731</td>\n",
       "      <td>3.202298</td>\n",
       "      <td>-0.553005</td>\n",
       "    </tr>\n",
       "  </tbody>\n",
       "</table>\n",
       "<p>660 rows × 5 columns</p>\n",
       "</div>"
      ],
      "text/plain": [
       "     Avg_Credit_Limit  Total_Credit_Cards  Total_visits_bank  \\\n",
       "0            1.630478           -1.249225          -0.860451   \n",
       "1            0.885387           -0.787585          -1.473731   \n",
       "2            0.885387            1.058973          -0.860451   \n",
       "3            0.336281            0.135694          -0.860451   \n",
       "4            1.630478            0.597334          -1.473731   \n",
       "..                ...                 ...                ...   \n",
       "655          1.619674            2.443892          -0.860451   \n",
       "656          1.443058            2.443892          -0.860451   \n",
       "657          2.029885            1.520613          -0.860451   \n",
       "658          2.213443            2.443892          -0.860451   \n",
       "659          2.181731            1.982253          -1.473731   \n",
       "\n",
       "     Total_visits_online  Total_calls_made  \n",
       "0              -0.547490         -1.251537  \n",
       "1               2.520519          1.891859  \n",
       "2               0.134290          0.145528  \n",
       "3              -0.547490          0.145528  \n",
       "4               3.202298         -0.203739  \n",
       "..                   ...               ...  \n",
       "655             2.520519         -1.251537  \n",
       "656             3.543188         -0.553005  \n",
       "657             2.179629         -0.902271  \n",
       "658             4.224968         -1.251537  \n",
       "659             3.202298         -0.553005  \n",
       "\n",
       "[660 rows x 5 columns]"
      ]
     },
     "execution_count": 55,
     "metadata": {},
     "output_type": "execute_result"
    }
   ],
   "source": [
    "transformedData.drop(\"group\", axis=1, inplace=True)\n",
    "transformedData"
   ]
  },
  {
   "cell_type": "markdown",
   "metadata": {},
   "source": [
    "Earlier we established that the Agglomerative Algorthim with the the best silhouette score was done with the parameters \"complete\" and \"euclidean\". Do the same again"
   ]
  },
  {
   "cell_type": "code",
   "execution_count": 56,
   "metadata": {},
   "outputs": [
    {
     "data": {
      "text/plain": [
       "(659, 4)"
      ]
     },
     "execution_count": 56,
     "metadata": {},
     "output_type": "execute_result"
    }
   ],
   "source": [
    "distances = linkage(transformedData, method='complete', metric='euclidean')\n",
    "distances.shape"
   ]
  },
  {
   "cell_type": "code",
   "execution_count": 57,
   "metadata": {},
   "outputs": [
    {
     "data": {
      "image/png": "[encoded data removed]",
      "text/plain": [
       "<Figure size 1800x720 with 1 Axes>"
      ]
     },
     "metadata": {
      "needs_background": "light"
     },
     "output_type": "display_data"
    }
   ],
   "source": [
    "plt.figure(figsize=(25, 10))\n",
    "dendrogram(distances)\n",
    "plt.show()"
   ]
  },
  {
   "cell_type": "markdown",
   "metadata": {},
   "source": [
    "What a beautiful but useless picture. Let us focus on the the section we are interested in."
   ]
  },
  {
   "cell_type": "code",
   "execution_count": 58,
   "metadata": {},
   "outputs": [
    {
     "data": {
      "image/png": "[encoded data removed]",
      "text/plain": [
       "<Figure size 432x288 with 1 Axes>"
      ]
     },
     "metadata": {
      "needs_background": "light"
     },
     "output_type": "display_data"
    }
   ],
   "source": [
    "dendrogram(distances, truncate_mode='lastp', p=3)\n",
    "plt.show()"
   ]
  },
  {
   "cell_type": "markdown",
   "metadata": {},
   "source": [
    "The data has been split into 3 groups. They contain 50, 223 and 387 customer respectively. This is the same result that was achieved with Agglomerative Clustering"
   ]
  },
  {
   "cell_type": "markdown",
   "metadata": {},
   "source": [
    "## Differences between K-Means and Hierarchical clustering\n",
    "\n",
    "K-Means clustering resulted in 4 clusters and Agglomerative Clustering resulted in 3 clusters.\n",
    "\n",
    "Both groups methods had 2 groups that could be described as \"the big spenders\" and \"the cautious\". The only significant difference was that the \"middle\" group was split into two.\n",
    "\n",
    "The Agglomerative Clustering gave the best silhouette scores and is recommended of implementation"
   ]
  },
  {
   "cell_type": "markdown",
   "metadata": {},
   "source": [
    "## The Key Questions\n",
    "\n",
    "\n",
    "## How many clusters are there?\n",
    "\n",
    "The silhouette score is a measure of how well the clustering reflects the original data. In this case the best silhouette score of 0.577 was achieved with 3 clusters using Agglomerative Clustering with the parameters affinity= euclidean and linkage = complete.\n",
    "\n",
    "## How are these Segments different from each other\n",
    "\n",
    "The clusters can be summarised as:\n",
    "\n",
    "Group 0 (\"The moderates\")\n",
    "This group has 387 of the customers in it.\n",
    "\n",
    "This group is the middle ground , they do take credit and they do have credit cards. They are most likely to visit the bank. They are equally as likely to use online or make a call.\n",
    "\n",
    "Group 1 (\"The Big Spenders\")\n",
    "This group has 50 customers in it. These customer have large credit limits and large number of credit cards. They have a very strong perference for useing online services. They are the least likely to call.\n",
    "\n",
    "Group 2 (\"The Cautious\")\n",
    "This Group has 223 customers in it These customers have small credit limits and the least number of credit cards. They are the most likely to call and appear averse to using online communications\n",
    "\n",
    "\n",
    "## Recommendations for the bank\n",
    "\n",
    "\"The Big Spenders\" have a strong perefence for online services. These are ideal candidates for online marketing.\n",
    "\n",
    "Instead of trying to sell \"the moderates\" credit cards and higher credit limits, consider the possibility of targeting \"The moderates\" to use online services more often. It may be that case that managing a credit card online makes it easier for customer to increase credit limits. \n",
    "\n",
    "Is it possible that having to ask another person for \"credit\" carries the risk of rejection and result in people being less willing ask. If this is true increasing internet use the key to having people get more credit cards and higher limits.\n",
    "\n",
    "This idea is more credible when we look at \"The Cautious\". They have the least number of credit cards and lowest credit limits and they are the least likely to use \"online\" banking methods."
   ]
  }
 ],
 "metadata": {
  "kernelspec": {
   "display_name": "Python 3",
   "language": "python",
   "name": "python3"
  },
  "language_info": {
   "codemirror_mode": {
    "name": "ipython",
    "version": 3
   },
   "file_extension": ".py",
   "mimetype": "text/x-python",
   "name": "python",
   "nbconvert_exporter": "python",
   "pygments_lexer": "ipython3",
   "version": "3.7.6"
  }
 },
 "nbformat": 4,
 "nbformat_minor": 4
}
