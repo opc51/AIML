{
 "cells": [
  {
   "cell_type": "code",
   "execution_count": 86,
   "metadata": {},
   "outputs": [
    {
     "data": {
      "text/html": [
       "<style>.container { width:90% !important }</style>"
      ],
      "text/plain": [
       "<IPython.core.display.HTML object>"
      ]
     },
     "metadata": {},
     "output_type": "display_data"
    }
   ],
   "source": [
    "from IPython.core.display import HTML,display\n",
    "display(HTML(\"<style>.container { width:90% !important }</style>\"))\n",
    "\n",
    "# load required libaries\n",
    "\n",
    "# basics\n",
    "import numpy as np\n",
    "import pandas as pd\n",
    "\n",
    "#graphics\n",
    "import seaborn as sns\n",
    "import matplotlib.pyplot as plt\n",
    "\n",
    "#metrics to measure effectiveness of models\n",
    "from sklearn.metrics import confusion_matrix, recall_score, precision_score, f1_score, roc_auc_score,accuracy_score, r2_score\n",
    "\n",
    "# polynominal selection\n",
    "from sklearn.preprocessing import PolynomialFeatures \n",
    "from mlxtend.feature_selection import SequentialFeatureSelector as sfs\n",
    "from mlxtend.feature_selection import ExhaustiveFeatureSelector as efs\n",
    "\n",
    "# polynomial graphics\n",
    "from mlxtend.plotting import plot_sequential_feature_selection as plot_sfs\n",
    "import matplotlib.pyplot as plt\n",
    "\n",
    "#data transformation\n",
    "#from scipy import stats\n",
    "from sklearn.preprocessing import StandardScaler\n",
    "\n",
    "#model prep\n",
    "from sklearn.model_selection import train_test_split\n",
    "\n",
    "# Algorithms\n",
    "from sklearn.linear_model import LinearRegression\n",
    "from sklearn.linear_model import Ridge\n",
    "from sklearn.linear_model import Lasso\n",
    "from sklearn import svm\n",
    "from sklearn.neighbors import KNeighborsRegressor\n",
    "from sklearn.ensemble import AdaBoostRegressor\n",
    "from sklearn.ensemble import GradientBoostingRegressor\n",
    "\n",
    "\n",
    "# Validation\n",
    "from sklearn.model_selection import KFold\n",
    "from sklearn.model_selection import cross_val_score\n",
    "\n",
    "# fine tuning\n",
    "from sklearn.model_selection import GridSearchCV\n",
    "from sklearn.model_selection import RandomizedSearchCV\n",
    "\n",
    "## need to use pipelines\n",
    "from sklearn.pipeline import Pipeline\n",
    "\n",
    "\n",
    "#model prep\n",
    "from sklearn.model_selection import ParameterGrid\n",
    "\n",
    "#models\n",
    "\n",
    "from sklearn.cluster import KMeans\n",
    "from sklearn.cluster import AgglomerativeClustering"
   ]
  },
  {
   "cell_type": "code",
   "execution_count": 87,
   "metadata": {},
   "outputs": [
    {
     "data": {
      "text/html": [
       "<div>\n",
       "<style scoped>\n",
       "    .dataframe tbody tr th:only-of-type {\n",
       "        vertical-align: middle;\n",
       "    }\n",
       "\n",
       "    .dataframe tbody tr th {\n",
       "        vertical-align: top;\n",
       "    }\n",
       "\n",
       "    .dataframe thead th {\n",
       "        text-align: right;\n",
       "    }\n",
       "</style>\n",
       "<table border=\"1\" class=\"dataframe\">\n",
       "  <thead>\n",
       "    <tr style=\"text-align: right;\">\n",
       "      <th></th>\n",
       "      <th>cement</th>\n",
       "      <th>slag</th>\n",
       "      <th>ash</th>\n",
       "      <th>water</th>\n",
       "      <th>superplastic</th>\n",
       "      <th>coarseagg</th>\n",
       "      <th>fineagg</th>\n",
       "      <th>age</th>\n",
       "      <th>strength</th>\n",
       "    </tr>\n",
       "  </thead>\n",
       "  <tbody>\n",
       "    <tr>\n",
       "      <th>0</th>\n",
       "      <td>141.3</td>\n",
       "      <td>212.0</td>\n",
       "      <td>0.0</td>\n",
       "      <td>203.5</td>\n",
       "      <td>0.0</td>\n",
       "      <td>971.8</td>\n",
       "      <td>748.5</td>\n",
       "      <td>28</td>\n",
       "      <td>29.89</td>\n",
       "    </tr>\n",
       "    <tr>\n",
       "      <th>1</th>\n",
       "      <td>168.9</td>\n",
       "      <td>42.2</td>\n",
       "      <td>124.3</td>\n",
       "      <td>158.3</td>\n",
       "      <td>10.8</td>\n",
       "      <td>1080.8</td>\n",
       "      <td>796.2</td>\n",
       "      <td>14</td>\n",
       "      <td>23.51</td>\n",
       "    </tr>\n",
       "    <tr>\n",
       "      <th>2</th>\n",
       "      <td>250.0</td>\n",
       "      <td>0.0</td>\n",
       "      <td>95.7</td>\n",
       "      <td>187.4</td>\n",
       "      <td>5.5</td>\n",
       "      <td>956.9</td>\n",
       "      <td>861.2</td>\n",
       "      <td>28</td>\n",
       "      <td>29.22</td>\n",
       "    </tr>\n",
       "    <tr>\n",
       "      <th>3</th>\n",
       "      <td>266.0</td>\n",
       "      <td>114.0</td>\n",
       "      <td>0.0</td>\n",
       "      <td>228.0</td>\n",
       "      <td>0.0</td>\n",
       "      <td>932.0</td>\n",
       "      <td>670.0</td>\n",
       "      <td>28</td>\n",
       "      <td>45.85</td>\n",
       "    </tr>\n",
       "    <tr>\n",
       "      <th>4</th>\n",
       "      <td>154.8</td>\n",
       "      <td>183.4</td>\n",
       "      <td>0.0</td>\n",
       "      <td>193.3</td>\n",
       "      <td>9.1</td>\n",
       "      <td>1047.4</td>\n",
       "      <td>696.7</td>\n",
       "      <td>28</td>\n",
       "      <td>18.29</td>\n",
       "    </tr>\n",
       "  </tbody>\n",
       "</table>\n",
       "</div>"
      ],
      "text/plain": [
       "   cement   slag    ash  water  superplastic  coarseagg  fineagg  age  \\\n",
       "0   141.3  212.0    0.0  203.5           0.0      971.8    748.5   28   \n",
       "1   168.9   42.2  124.3  158.3          10.8     1080.8    796.2   14   \n",
       "2   250.0    0.0   95.7  187.4           5.5      956.9    861.2   28   \n",
       "3   266.0  114.0    0.0  228.0           0.0      932.0    670.0   28   \n",
       "4   154.8  183.4    0.0  193.3           9.1     1047.4    696.7   28   \n",
       "\n",
       "   strength  \n",
       "0     29.89  \n",
       "1     23.51  \n",
       "2     29.22  \n",
       "3     45.85  \n",
       "4     18.29  "
      ]
     },
     "execution_count": 87,
     "metadata": {},
     "output_type": "execute_result"
    }
   ],
   "source": [
    "originalData= pd.read_csv(\"concrete.csv\")\n",
    "originalData.head()"
   ]
  },
  {
   "cell_type": "code",
   "execution_count": 88,
   "metadata": {},
   "outputs": [
    {
     "name": "stdout",
     "output_type": "stream",
     "text": [
      "<class 'pandas.core.frame.DataFrame'>\n",
      "RangeIndex: 1030 entries, 0 to 1029\n",
      "Data columns (total 9 columns):\n",
      " #   Column        Non-Null Count  Dtype  \n",
      "---  ------        --------------  -----  \n",
      " 0   cement        1030 non-null   float64\n",
      " 1   slag          1030 non-null   float64\n",
      " 2   ash           1030 non-null   float64\n",
      " 3   water         1030 non-null   float64\n",
      " 4   superplastic  1030 non-null   float64\n",
      " 5   coarseagg     1030 non-null   float64\n",
      " 6   fineagg       1030 non-null   float64\n",
      " 7   age           1030 non-null   int64  \n",
      " 8   strength      1030 non-null   float64\n",
      "dtypes: float64(8), int64(1)\n",
      "memory usage: 72.5 KB\n"
     ]
    }
   ],
   "source": [
    "originalData.info()"
   ]
  },
  {
   "cell_type": "markdown",
   "metadata": {},
   "source": [
    "# Prepare Data"
   ]
  },
  {
   "cell_type": "code",
   "execution_count": 89,
   "metadata": {},
   "outputs": [
    {
     "name": "stdout",
     "output_type": "stream",
     "text": [
      "(1030, 9)\n",
      "25\n",
      "(1005, 9)\n"
     ]
    }
   ],
   "source": [
    "#drop duplicates\n",
    "print(originalData.shape)\n",
    "print(originalData.duplicated().sum())\n",
    "originalData = originalData.drop_duplicates()\n",
    "print(originalData.shape)"
   ]
  },
  {
   "cell_type": "code",
   "execution_count": 90,
   "metadata": {},
   "outputs": [
    {
     "data": {
      "text/html": [
       "<div>\n",
       "<style scoped>\n",
       "    .dataframe tbody tr th:only-of-type {\n",
       "        vertical-align: middle;\n",
       "    }\n",
       "\n",
       "    .dataframe tbody tr th {\n",
       "        vertical-align: top;\n",
       "    }\n",
       "\n",
       "    .dataframe thead th {\n",
       "        text-align: right;\n",
       "    }\n",
       "</style>\n",
       "<table border=\"1\" class=\"dataframe\">\n",
       "  <thead>\n",
       "    <tr style=\"text-align: right;\">\n",
       "      <th></th>\n",
       "      <th>cement</th>\n",
       "      <th>slag</th>\n",
       "      <th>ash</th>\n",
       "      <th>water</th>\n",
       "      <th>superplastic</th>\n",
       "      <th>coarseagg</th>\n",
       "      <th>fineagg</th>\n",
       "      <th>age</th>\n",
       "      <th>strength</th>\n",
       "    </tr>\n",
       "  </thead>\n",
       "  <tbody>\n",
       "    <tr>\n",
       "      <th>count</th>\n",
       "      <td>1005.000000</td>\n",
       "      <td>1005.000000</td>\n",
       "      <td>1005.000000</td>\n",
       "      <td>1005.000000</td>\n",
       "      <td>1005.000000</td>\n",
       "      <td>1005.000000</td>\n",
       "      <td>1005.000000</td>\n",
       "      <td>1005.000000</td>\n",
       "      <td>1005.000000</td>\n",
       "    </tr>\n",
       "    <tr>\n",
       "      <th>mean</th>\n",
       "      <td>278.631343</td>\n",
       "      <td>72.043483</td>\n",
       "      <td>55.536318</td>\n",
       "      <td>182.075323</td>\n",
       "      <td>6.033234</td>\n",
       "      <td>974.376816</td>\n",
       "      <td>772.688259</td>\n",
       "      <td>3.168492</td>\n",
       "      <td>35.250378</td>\n",
       "    </tr>\n",
       "    <tr>\n",
       "      <th>std</th>\n",
       "      <td>104.344261</td>\n",
       "      <td>86.170807</td>\n",
       "      <td>64.207969</td>\n",
       "      <td>21.339334</td>\n",
       "      <td>5.919967</td>\n",
       "      <td>77.579667</td>\n",
       "      <td>80.340435</td>\n",
       "      <td>1.189466</td>\n",
       "      <td>16.284815</td>\n",
       "    </tr>\n",
       "    <tr>\n",
       "      <th>min</th>\n",
       "      <td>102.000000</td>\n",
       "      <td>0.000000</td>\n",
       "      <td>0.000000</td>\n",
       "      <td>121.800000</td>\n",
       "      <td>0.000000</td>\n",
       "      <td>801.000000</td>\n",
       "      <td>594.000000</td>\n",
       "      <td>0.000000</td>\n",
       "      <td>2.330000</td>\n",
       "    </tr>\n",
       "    <tr>\n",
       "      <th>25%</th>\n",
       "      <td>190.700000</td>\n",
       "      <td>0.000000</td>\n",
       "      <td>0.000000</td>\n",
       "      <td>166.600000</td>\n",
       "      <td>0.000000</td>\n",
       "      <td>932.000000</td>\n",
       "      <td>724.300000</td>\n",
       "      <td>1.945910</td>\n",
       "      <td>23.520000</td>\n",
       "    </tr>\n",
       "    <tr>\n",
       "      <th>50%</th>\n",
       "      <td>265.000000</td>\n",
       "      <td>20.000000</td>\n",
       "      <td>0.000000</td>\n",
       "      <td>185.700000</td>\n",
       "      <td>6.100000</td>\n",
       "      <td>968.000000</td>\n",
       "      <td>780.000000</td>\n",
       "      <td>3.332205</td>\n",
       "      <td>33.800000</td>\n",
       "    </tr>\n",
       "    <tr>\n",
       "      <th>75%</th>\n",
       "      <td>349.000000</td>\n",
       "      <td>142.500000</td>\n",
       "      <td>118.300000</td>\n",
       "      <td>192.900000</td>\n",
       "      <td>10.000000</td>\n",
       "      <td>1031.000000</td>\n",
       "      <td>822.200000</td>\n",
       "      <td>4.025352</td>\n",
       "      <td>44.870000</td>\n",
       "    </tr>\n",
       "    <tr>\n",
       "      <th>max</th>\n",
       "      <td>540.000000</td>\n",
       "      <td>359.400000</td>\n",
       "      <td>200.100000</td>\n",
       "      <td>247.000000</td>\n",
       "      <td>32.200000</td>\n",
       "      <td>1145.000000</td>\n",
       "      <td>992.600000</td>\n",
       "      <td>5.899897</td>\n",
       "      <td>82.600000</td>\n",
       "    </tr>\n",
       "  </tbody>\n",
       "</table>\n",
       "</div>"
      ],
      "text/plain": [
       "            cement         slag          ash        water  superplastic  \\\n",
       "count  1005.000000  1005.000000  1005.000000  1005.000000   1005.000000   \n",
       "mean    278.631343    72.043483    55.536318   182.075323      6.033234   \n",
       "std     104.344261    86.170807    64.207969    21.339334      5.919967   \n",
       "min     102.000000     0.000000     0.000000   121.800000      0.000000   \n",
       "25%     190.700000     0.000000     0.000000   166.600000      0.000000   \n",
       "50%     265.000000    20.000000     0.000000   185.700000      6.100000   \n",
       "75%     349.000000   142.500000   118.300000   192.900000     10.000000   \n",
       "max     540.000000   359.400000   200.100000   247.000000     32.200000   \n",
       "\n",
       "         coarseagg      fineagg          age     strength  \n",
       "count  1005.000000  1005.000000  1005.000000  1005.000000  \n",
       "mean    974.376816   772.688259     3.168492    35.250378  \n",
       "std      77.579667    80.340435     1.189466    16.284815  \n",
       "min     801.000000   594.000000     0.000000     2.330000  \n",
       "25%     932.000000   724.300000     1.945910    23.520000  \n",
       "50%     968.000000   780.000000     3.332205    33.800000  \n",
       "75%    1031.000000   822.200000     4.025352    44.870000  \n",
       "max    1145.000000   992.600000     5.899897    82.600000  "
      ]
     },
     "execution_count": 90,
     "metadata": {},
     "output_type": "execute_result"
    }
   ],
   "source": [
    "#log age column\n",
    "originalData[\"age\"] = np.log(originalData[\"age\"])\n",
    "originalData.describe()"
   ]
  },
  {
   "cell_type": "code",
   "execution_count": 91,
   "metadata": {},
   "outputs": [
    {
     "data": {
      "text/html": [
       "<div>\n",
       "<style scoped>\n",
       "    .dataframe tbody tr th:only-of-type {\n",
       "        vertical-align: middle;\n",
       "    }\n",
       "\n",
       "    .dataframe tbody tr th {\n",
       "        vertical-align: top;\n",
       "    }\n",
       "\n",
       "    .dataframe thead th {\n",
       "        text-align: right;\n",
       "    }\n",
       "</style>\n",
       "<table border=\"1\" class=\"dataframe\">\n",
       "  <thead>\n",
       "    <tr style=\"text-align: right;\">\n",
       "      <th></th>\n",
       "      <th>cement</th>\n",
       "      <th>slag</th>\n",
       "      <th>ash</th>\n",
       "      <th>water</th>\n",
       "      <th>superplastic</th>\n",
       "      <th>coarseagg</th>\n",
       "      <th>fineagg</th>\n",
       "      <th>age</th>\n",
       "      <th>strength</th>\n",
       "    </tr>\n",
       "  </thead>\n",
       "  <tbody>\n",
       "    <tr>\n",
       "      <th>count</th>\n",
       "      <td>1.005000e+03</td>\n",
       "      <td>1.005000e+03</td>\n",
       "      <td>1.005000e+03</td>\n",
       "      <td>1.005000e+03</td>\n",
       "      <td>1.005000e+03</td>\n",
       "      <td>1.005000e+03</td>\n",
       "      <td>1.005000e+03</td>\n",
       "      <td>1.005000e+03</td>\n",
       "      <td>1.005000e+03</td>\n",
       "    </tr>\n",
       "    <tr>\n",
       "      <th>mean</th>\n",
       "      <td>-1.838220e-16</td>\n",
       "      <td>-1.674724e-16</td>\n",
       "      <td>-3.031296e-16</td>\n",
       "      <td>-7.800283e-16</td>\n",
       "      <td>1.047255e-16</td>\n",
       "      <td>1.174737e-15</td>\n",
       "      <td>1.581930e-16</td>\n",
       "      <td>2.341963e-16</td>\n",
       "      <td>-2.076835e-16</td>\n",
       "    </tr>\n",
       "    <tr>\n",
       "      <th>std</th>\n",
       "      <td>1.000498e+00</td>\n",
       "      <td>1.000498e+00</td>\n",
       "      <td>1.000498e+00</td>\n",
       "      <td>1.000498e+00</td>\n",
       "      <td>1.000498e+00</td>\n",
       "      <td>1.000498e+00</td>\n",
       "      <td>1.000498e+00</td>\n",
       "      <td>1.000498e+00</td>\n",
       "      <td>1.000498e+00</td>\n",
       "    </tr>\n",
       "    <tr>\n",
       "      <th>min</th>\n",
       "      <td>-1.693618e+00</td>\n",
       "      <td>-8.364707e-01</td>\n",
       "      <td>-8.653750e-01</td>\n",
       "      <td>-2.826018e+00</td>\n",
       "      <td>-1.019640e+00</td>\n",
       "      <td>-2.235936e+00</td>\n",
       "      <td>-2.225246e+00</td>\n",
       "      <td>-2.665121e+00</td>\n",
       "      <td>-2.022545e+00</td>\n",
       "    </tr>\n",
       "    <tr>\n",
       "      <th>25%</th>\n",
       "      <td>-8.431237e-01</td>\n",
       "      <td>-8.364707e-01</td>\n",
       "      <td>-8.653750e-01</td>\n",
       "      <td>-7.255629e-01</td>\n",
       "      <td>-1.019640e+00</td>\n",
       "      <td>-5.465081e-01</td>\n",
       "      <td>-6.025901e-01</td>\n",
       "      <td>-1.028353e+00</td>\n",
       "      <td>-7.206848e-01</td>\n",
       "    </tr>\n",
       "    <tr>\n",
       "      <th>50%</th>\n",
       "      <td>-1.307032e-01</td>\n",
       "      <td>-6.042579e-01</td>\n",
       "      <td>-8.653750e-01</td>\n",
       "      <td>1.699435e-01</td>\n",
       "      <td>1.128375e-02</td>\n",
       "      <td>-8.223793e-02</td>\n",
       "      <td>9.105479e-02</td>\n",
       "      <td>1.377036e-01</td>\n",
       "      <td>-8.910756e-02</td>\n",
       "    </tr>\n",
       "    <tr>\n",
       "      <th>75%</th>\n",
       "      <td>6.747251e-01</td>\n",
       "      <td>8.180450e-01</td>\n",
       "      <td>9.779928e-01</td>\n",
       "      <td>5.075166e-01</td>\n",
       "      <td>6.703992e-01</td>\n",
       "      <td>7.302348e-01</td>\n",
       "      <td>6.165811e-01</td>\n",
       "      <td>7.207321e-01</td>\n",
       "      <td>5.910052e-01</td>\n",
       "    </tr>\n",
       "    <tr>\n",
       "      <th>max</th>\n",
       "      <td>2.506116e+00</td>\n",
       "      <td>3.336392e+00</td>\n",
       "      <td>2.252612e+00</td>\n",
       "      <td>3.044003e+00</td>\n",
       "      <td>4.422287e+00</td>\n",
       "      <td>2.200424e+00</td>\n",
       "      <td>2.738611e+00</td>\n",
       "      <td>2.297473e+00</td>\n",
       "      <td>2.909041e+00</td>\n",
       "    </tr>\n",
       "  </tbody>\n",
       "</table>\n",
       "</div>"
      ],
      "text/plain": [
       "             cement          slag           ash         water  superplastic  \\\n",
       "count  1.005000e+03  1.005000e+03  1.005000e+03  1.005000e+03  1.005000e+03   \n",
       "mean  -1.838220e-16 -1.674724e-16 -3.031296e-16 -7.800283e-16  1.047255e-16   \n",
       "std    1.000498e+00  1.000498e+00  1.000498e+00  1.000498e+00  1.000498e+00   \n",
       "min   -1.693618e+00 -8.364707e-01 -8.653750e-01 -2.826018e+00 -1.019640e+00   \n",
       "25%   -8.431237e-01 -8.364707e-01 -8.653750e-01 -7.255629e-01 -1.019640e+00   \n",
       "50%   -1.307032e-01 -6.042579e-01 -8.653750e-01  1.699435e-01  1.128375e-02   \n",
       "75%    6.747251e-01  8.180450e-01  9.779928e-01  5.075166e-01  6.703992e-01   \n",
       "max    2.506116e+00  3.336392e+00  2.252612e+00  3.044003e+00  4.422287e+00   \n",
       "\n",
       "          coarseagg       fineagg           age      strength  \n",
       "count  1.005000e+03  1.005000e+03  1.005000e+03  1.005000e+03  \n",
       "mean   1.174737e-15  1.581930e-16  2.341963e-16 -2.076835e-16  \n",
       "std    1.000498e+00  1.000498e+00  1.000498e+00  1.000498e+00  \n",
       "min   -2.235936e+00 -2.225246e+00 -2.665121e+00 -2.022545e+00  \n",
       "25%   -5.465081e-01 -6.025901e-01 -1.028353e+00 -7.206848e-01  \n",
       "50%   -8.223793e-02  9.105479e-02  1.377036e-01 -8.910756e-02  \n",
       "75%    7.302348e-01  6.165811e-01  7.207321e-01  5.910052e-01  \n",
       "max    2.200424e+00  2.738611e+00  2.297473e+00  2.909041e+00  "
      ]
     },
     "execution_count": 91,
     "metadata": {},
     "output_type": "execute_result"
    }
   ],
   "source": [
    "# Standard scaler\n",
    "scaler = StandardScaler()\n",
    "transformedData = pd.DataFrame(scaler.fit_transform(originalData), columns=originalData.columns)\n",
    "transformedData.describe()"
   ]
  },
  {
   "cell_type": "code",
   "execution_count": 92,
   "metadata": {},
   "outputs": [
    {
     "data": {
      "text/plain": [
       "cement          0.564959\n",
       "slag            0.855225\n",
       "ash             0.497231\n",
       "water           0.034433\n",
       "superplastic    0.980604\n",
       "coarseagg      -0.065256\n",
       "fineagg        -0.252353\n",
       "age            -0.142556\n",
       "strength        0.395696\n",
       "dtype: float64"
      ]
     },
     "execution_count": 92,
     "metadata": {},
     "output_type": "execute_result"
    }
   ],
   "source": [
    "transformedData.skew()"
   ]
  },
  {
   "cell_type": "code",
   "execution_count": 93,
   "metadata": {},
   "outputs": [],
   "source": [
    "## looks good!"
   ]
  },
  {
   "cell_type": "code",
   "execution_count": 94,
   "metadata": {},
   "outputs": [
    {
     "data": {
      "text/plain": [
       "987"
      ]
     },
     "execution_count": 94,
     "metadata": {},
     "output_type": "execute_result"
    }
   ],
   "source": [
    "## outliers?\n",
    "from sklearn.neighbors import LocalOutlierFactor\n",
    "\n",
    "outlierDetector = LocalOutlierFactor()\n",
    "outliers = outlierDetector.fit_predict(data)\n",
    "len(data)"
   ]
  },
  {
   "cell_type": "code",
   "execution_count": 95,
   "metadata": {},
   "outputs": [
    {
     "data": {
      "text/plain": [
       "1"
      ]
     },
     "execution_count": 95,
     "metadata": {},
     "output_type": "execute_result"
    }
   ],
   "source": [
    "outlierCount = (outliers == -1).sum()\n",
    "outlierCount"
   ]
  },
  {
   "cell_type": "code",
   "execution_count": 96,
   "metadata": {},
   "outputs": [
    {
     "data": {
      "text/plain": [
       "(986, 10)"
      ]
     },
     "execution_count": 96,
     "metadata": {},
     "output_type": "execute_result"
    }
   ],
   "source": [
    "data[\"outlier\"] = outliers\n",
    "data = data[data[\"outlier\"] == 1]\n",
    "data.shape"
   ]
  },
  {
   "cell_type": "markdown",
   "metadata": {},
   "source": [
    "# Kmeans clustering"
   ]
  },
  {
   "cell_type": "code",
   "execution_count": 97,
   "metadata": {},
   "outputs": [],
   "source": [
    "parameters = {'n_clusters' : [2,3,4,5,6,7,8,9,10,11,15,20,30] }\n",
    "\n",
    "parameter_grid = ParameterGrid(parameters)"
   ]
  },
  {
   "cell_type": "code",
   "execution_count": 98,
   "metadata": {},
   "outputs": [
    {
     "data": {
      "text/html": [
       "<div>\n",
       "<style scoped>\n",
       "    .dataframe tbody tr th:only-of-type {\n",
       "        vertical-align: middle;\n",
       "    }\n",
       "\n",
       "    .dataframe tbody tr th {\n",
       "        vertical-align: top;\n",
       "    }\n",
       "\n",
       "    .dataframe thead th {\n",
       "        text-align: right;\n",
       "    }\n",
       "</style>\n",
       "<table border=\"1\" class=\"dataframe\">\n",
       "  <thead>\n",
       "    <tr style=\"text-align: right;\">\n",
       "      <th></th>\n",
       "      <th>num_clusters</th>\n",
       "      <th>cluster_errors</th>\n",
       "    </tr>\n",
       "  </thead>\n",
       "  <tbody>\n",
       "    <tr>\n",
       "      <th>0</th>\n",
       "      <td>2</td>\n",
       "      <td>2.677856e+07</td>\n",
       "    </tr>\n",
       "    <tr>\n",
       "      <th>1</th>\n",
       "      <td>3</td>\n",
       "      <td>2.022860e+07</td>\n",
       "    </tr>\n",
       "    <tr>\n",
       "      <th>2</th>\n",
       "      <td>4</td>\n",
       "      <td>1.762158e+07</td>\n",
       "    </tr>\n",
       "    <tr>\n",
       "      <th>3</th>\n",
       "      <td>5</td>\n",
       "      <td>1.562717e+07</td>\n",
       "    </tr>\n",
       "    <tr>\n",
       "      <th>4</th>\n",
       "      <td>6</td>\n",
       "      <td>1.400518e+07</td>\n",
       "    </tr>\n",
       "    <tr>\n",
       "      <th>5</th>\n",
       "      <td>7</td>\n",
       "      <td>1.266475e+07</td>\n",
       "    </tr>\n",
       "    <tr>\n",
       "      <th>6</th>\n",
       "      <td>8</td>\n",
       "      <td>1.149059e+07</td>\n",
       "    </tr>\n",
       "    <tr>\n",
       "      <th>7</th>\n",
       "      <td>9</td>\n",
       "      <td>1.044052e+07</td>\n",
       "    </tr>\n",
       "    <tr>\n",
       "      <th>8</th>\n",
       "      <td>10</td>\n",
       "      <td>9.637503e+06</td>\n",
       "    </tr>\n",
       "    <tr>\n",
       "      <th>9</th>\n",
       "      <td>11</td>\n",
       "      <td>8.802933e+06</td>\n",
       "    </tr>\n",
       "    <tr>\n",
       "      <th>10</th>\n",
       "      <td>15</td>\n",
       "      <td>7.048093e+06</td>\n",
       "    </tr>\n",
       "    <tr>\n",
       "      <th>11</th>\n",
       "      <td>20</td>\n",
       "      <td>5.848047e+06</td>\n",
       "    </tr>\n",
       "    <tr>\n",
       "      <th>12</th>\n",
       "      <td>30</td>\n",
       "      <td>3.962703e+06</td>\n",
       "    </tr>\n",
       "  </tbody>\n",
       "</table>\n",
       "</div>"
      ],
      "text/plain": [
       "    num_clusters  cluster_errors\n",
       "0              2    2.677856e+07\n",
       "1              3    2.022860e+07\n",
       "2              4    1.762158e+07\n",
       "3              5    1.562717e+07\n",
       "4              6    1.400518e+07\n",
       "5              7    1.266475e+07\n",
       "6              8    1.149059e+07\n",
       "7              9    1.044052e+07\n",
       "8             10    9.637503e+06\n",
       "9             11    8.802933e+06\n",
       "10            15    7.048093e+06\n",
       "11            20    5.848047e+06\n",
       "12            30    3.962703e+06"
      ]
     },
     "execution_count": 98,
     "metadata": {},
     "output_type": "execute_result"
    }
   ],
   "source": [
    "cluster_errors = []\n",
    "\n",
    "model = KMeans(random_state=88)\n",
    "\n",
    "for row in parameter_grid:\n",
    "    model.set_params(**row)\n",
    "    model.fit(originalData)\n",
    "\n",
    "    #labels = model.labels_\n",
    "    #centroids = model.cluster_centers_\n",
    "    #print(centroids)\n",
    "    cluster_errors.append(model.inertia_)\n",
    "\n",
    "clusterResults = pd.DataFrame({\"num_clusters\": [2,3,4,5,6,7,8,9,10,11,15,20,30]  , \"cluster_errors\": cluster_errors})\n",
    "clusterResults[0:15]"
   ]
  },
  {
   "cell_type": "code",
   "execution_count": 99,
   "metadata": {},
   "outputs": [
    {
     "data": {
      "text/plain": [
       "[<matplotlib.lines.Line2D at 0x26aea1cb988>]"
      ]
     },
     "execution_count": 99,
     "metadata": {},
     "output_type": "execute_result"
    },
    {
     "data": {
      "image/png": "[encoded data removed]",
      "text/plain": [
       "<Figure size 864x432 with 1 Axes>"
      ]
     },
     "metadata": {
      "needs_background": "light"
     },
     "output_type": "display_data"
    }
   ],
   "source": [
    "plt.figure(figsize=(12,6))\n",
    "plt.plot( clusterResults.num_clusters, clusterResults.cluster_errors, marker = \"o\" )"
   ]
  },
  {
   "cell_type": "code",
   "execution_count": 100,
   "metadata": {},
   "outputs": [
    {
     "data": {
      "text/plain": [
       "KMeans(algorithm='auto', copy_x=True, init='k-means++', max_iter=300,\n",
       "       n_clusters=900, n_init=10, n_jobs=None, precompute_distances='auto',\n",
       "       random_state=88, tol=0.0001, verbose=0)"
      ]
     },
     "execution_count": 100,
     "metadata": {},
     "output_type": "execute_result"
    }
   ],
   "source": [
    "kmeans = KMeans(n_clusters=900,  random_state=88)\n",
    "kmeans.fit(transformedData)"
   ]
  },
  {
   "cell_type": "code",
   "execution_count": 101,
   "metadata": {},
   "outputs": [
    {
     "data": {
      "text/plain": [
       "0.14362630455881073"
      ]
     },
     "execution_count": 101,
     "metadata": {},
     "output_type": "execute_result"
    }
   ],
   "source": [
    "#scoring \n",
    "from sklearn.metrics import silhouette_score\n",
    "\n",
    "ss = silhouette_score(transformedData, model.labels_)\n",
    "ss"
   ]
  },
  {
   "cell_type": "code",
   "execution_count": null,
   "metadata": {},
   "outputs": [],
   "source": []
  },
  {
   "cell_type": "code",
   "execution_count": null,
   "metadata": {},
   "outputs": [],
   "source": []
  },
  {
   "cell_type": "code",
   "execution_count": 79,
   "metadata": {},
   "outputs": [],
   "source": [
    "# common functions \n",
    "\n",
    "# Create Indivdual results matrices - will be used for results comparisson.\n",
    "def CreateResultMatrix(name, classifier, xtrain, ytrain,xtest,ytest,ypredict,mean,std):\n",
    "    trainingScore = classifier.score(xtrain,ytrain)\n",
    "    validationScore = classifier.score(xtest, ytest)\n",
    "    overfit = validationScore -  trainingScore\n",
    "    resultsframe = pd.DataFrame({'Algorithm':[name],\n",
    "                                 \"Training Accuracy\": trainingScore, \n",
    "                                 \"Validation Accuracy\":validationScore,\n",
    "                                 \"Overfit By (-ve bad)\" : overfit,\n",
    "                                 \"R2 Score\" : r2_score(ytest,ypredict),\n",
    "                                 \"KFold mean %\" : mean * 100,\n",
    "                                 \"Kfold std %\" : std*100,\n",
    "                                 \"fold min\" : (mean *100) - (3 * std *100),\n",
    "                                 \"fold max\" : (mean *100) + (3 * std *100)\n",
    "                                })\n",
    "    return resultsframe;\n"
   ]
  },
  {
   "cell_type": "code",
   "execution_count": 88,
   "metadata": {},
   "outputs": [
    {
     "data": {
      "text/html": [
       "<div>\n",
       "<style scoped>\n",
       "    .dataframe tbody tr th:only-of-type {\n",
       "        vertical-align: middle;\n",
       "    }\n",
       "\n",
       "    .dataframe tbody tr th {\n",
       "        vertical-align: top;\n",
       "    }\n",
       "\n",
       "    .dataframe thead th {\n",
       "        text-align: right;\n",
       "    }\n",
       "</style>\n",
       "<table border=\"1\" class=\"dataframe\">\n",
       "  <thead>\n",
       "    <tr style=\"text-align: right;\">\n",
       "      <th></th>\n",
       "      <th>cement</th>\n",
       "      <th>slag</th>\n",
       "      <th>ash</th>\n",
       "      <th>water</th>\n",
       "      <th>superplastic</th>\n",
       "      <th>coarseagg</th>\n",
       "      <th>fineagg</th>\n",
       "      <th>age</th>\n",
       "      <th>strength</th>\n",
       "    </tr>\n",
       "  </thead>\n",
       "  <tbody>\n",
       "    <tr>\n",
       "      <th>0</th>\n",
       "      <td>141.3</td>\n",
       "      <td>212.0</td>\n",
       "      <td>0.0</td>\n",
       "      <td>203.5</td>\n",
       "      <td>0.0</td>\n",
       "      <td>971.8</td>\n",
       "      <td>748.5</td>\n",
       "      <td>28</td>\n",
       "      <td>29.89</td>\n",
       "    </tr>\n",
       "    <tr>\n",
       "      <th>1</th>\n",
       "      <td>168.9</td>\n",
       "      <td>42.2</td>\n",
       "      <td>124.3</td>\n",
       "      <td>158.3</td>\n",
       "      <td>10.8</td>\n",
       "      <td>1080.8</td>\n",
       "      <td>796.2</td>\n",
       "      <td>14</td>\n",
       "      <td>23.51</td>\n",
       "    </tr>\n",
       "    <tr>\n",
       "      <th>2</th>\n",
       "      <td>250.0</td>\n",
       "      <td>0.0</td>\n",
       "      <td>95.7</td>\n",
       "      <td>187.4</td>\n",
       "      <td>5.5</td>\n",
       "      <td>956.9</td>\n",
       "      <td>861.2</td>\n",
       "      <td>28</td>\n",
       "      <td>29.22</td>\n",
       "    </tr>\n",
       "    <tr>\n",
       "      <th>3</th>\n",
       "      <td>266.0</td>\n",
       "      <td>114.0</td>\n",
       "      <td>0.0</td>\n",
       "      <td>228.0</td>\n",
       "      <td>0.0</td>\n",
       "      <td>932.0</td>\n",
       "      <td>670.0</td>\n",
       "      <td>28</td>\n",
       "      <td>45.85</td>\n",
       "    </tr>\n",
       "    <tr>\n",
       "      <th>4</th>\n",
       "      <td>154.8</td>\n",
       "      <td>183.4</td>\n",
       "      <td>0.0</td>\n",
       "      <td>193.3</td>\n",
       "      <td>9.1</td>\n",
       "      <td>1047.4</td>\n",
       "      <td>696.7</td>\n",
       "      <td>28</td>\n",
       "      <td>18.29</td>\n",
       "    </tr>\n",
       "  </tbody>\n",
       "</table>\n",
       "</div>"
      ],
      "text/plain": [
       "   cement   slag    ash  water  superplastic  coarseagg  fineagg  age  \\\n",
       "0   141.3  212.0    0.0  203.5           0.0      971.8    748.5   28   \n",
       "1   168.9   42.2  124.3  158.3          10.8     1080.8    796.2   14   \n",
       "2   250.0    0.0   95.7  187.4           5.5      956.9    861.2   28   \n",
       "3   266.0  114.0    0.0  228.0           0.0      932.0    670.0   28   \n",
       "4   154.8  183.4    0.0  193.3           9.1     1047.4    696.7   28   \n",
       "\n",
       "   strength  \n",
       "0     29.89  \n",
       "1     23.51  \n",
       "2     29.22  \n",
       "3     45.85  \n",
       "4     18.29  "
      ]
     },
     "execution_count": 88,
     "metadata": {},
     "output_type": "execute_result"
    }
   ],
   "source": []
  },
  {
   "cell_type": "code",
   "execution_count": 89,
   "metadata": {},
   "outputs": [
    {
     "data": {
      "text/plain": [
       "(1030, 9)"
      ]
     },
     "execution_count": 89,
     "metadata": {},
     "output_type": "execute_result"
    }
   ],
   "source": [
    "data.shape"
   ]
  },
  {
   "cell_type": "markdown",
   "metadata": {},
   "source": [
    " ## remove duplicates"
   ]
  },
  {
   "cell_type": "code",
   "execution_count": 90,
   "metadata": {},
   "outputs": [
    {
     "data": {
      "text/plain": [
       "25"
      ]
     },
     "execution_count": 90,
     "metadata": {},
     "output_type": "execute_result"
    }
   ],
   "source": [
    "data.duplicated().sum()"
   ]
  },
  {
   "cell_type": "code",
   "execution_count": 91,
   "metadata": {},
   "outputs": [],
   "source": [
    "data = data.drop_duplicates()"
   ]
  },
  {
   "cell_type": "code",
   "execution_count": 92,
   "metadata": {},
   "outputs": [
    {
     "data": {
      "text/plain": [
       "(1005, 9)"
      ]
     },
     "execution_count": 92,
     "metadata": {},
     "output_type": "execute_result"
    }
   ],
   "source": [
    "data.shape"
   ]
  },
  {
   "cell_type": "markdown",
   "metadata": {},
   "source": [
    "## Outliers"
   ]
  },
  {
   "cell_type": "code",
   "execution_count": 93,
   "metadata": {},
   "outputs": [
    {
     "data": {
      "text/plain": [
       "1005"
      ]
     },
     "execution_count": 93,
     "metadata": {},
     "output_type": "execute_result"
    }
   ],
   "source": [
    "from sklearn.neighbors import LocalOutlierFactor\n",
    "\n",
    "outlierDetector = LocalOutlierFactor()\n",
    "outliers = outlierDetector.fit_predict(data)\n",
    "len(data)"
   ]
  },
  {
   "cell_type": "code",
   "execution_count": 94,
   "metadata": {},
   "outputs": [
    {
     "data": {
      "text/plain": [
       "16"
      ]
     },
     "execution_count": 94,
     "metadata": {},
     "output_type": "execute_result"
    }
   ],
   "source": [
    "outlierCount = (outliers == -1).sum()\n",
    "outlierCount"
   ]
  },
  {
   "cell_type": "code",
   "execution_count": 95,
   "metadata": {},
   "outputs": [
    {
     "data": {
      "text/plain": [
       "(989, 10)"
      ]
     },
     "execution_count": 95,
     "metadata": {},
     "output_type": "execute_result"
    }
   ],
   "source": [
    "data[\"outlier\"] = outliers\n",
    "data = data[data[\"outlier\"] == 1]\n",
    "data.shape"
   ]
  },
  {
   "cell_type": "code",
   "execution_count": 96,
   "metadata": {},
   "outputs": [],
   "source": [
    "## outliers dropped"
   ]
  },
  {
   "cell_type": "code",
   "execution_count": 97,
   "metadata": {},
   "outputs": [
    {
     "data": {
      "text/html": [
       "<div>\n",
       "<style scoped>\n",
       "    .dataframe tbody tr th:only-of-type {\n",
       "        vertical-align: middle;\n",
       "    }\n",
       "\n",
       "    .dataframe tbody tr th {\n",
       "        vertical-align: top;\n",
       "    }\n",
       "\n",
       "    .dataframe thead th {\n",
       "        text-align: right;\n",
       "    }\n",
       "</style>\n",
       "<table border=\"1\" class=\"dataframe\">\n",
       "  <thead>\n",
       "    <tr style=\"text-align: right;\">\n",
       "      <th></th>\n",
       "      <th>cement</th>\n",
       "      <th>slag</th>\n",
       "      <th>ash</th>\n",
       "      <th>water</th>\n",
       "      <th>superplastic</th>\n",
       "      <th>coarseagg</th>\n",
       "      <th>fineagg</th>\n",
       "      <th>age</th>\n",
       "      <th>strength</th>\n",
       "      <th>outlier</th>\n",
       "    </tr>\n",
       "  </thead>\n",
       "  <tbody>\n",
       "    <tr>\n",
       "      <th>0</th>\n",
       "      <td>141.3</td>\n",
       "      <td>212.0</td>\n",
       "      <td>0.0</td>\n",
       "      <td>203.5</td>\n",
       "      <td>0.0</td>\n",
       "      <td>971.8</td>\n",
       "      <td>748.5</td>\n",
       "      <td>3.332205</td>\n",
       "      <td>29.89</td>\n",
       "      <td>1</td>\n",
       "    </tr>\n",
       "    <tr>\n",
       "      <th>1</th>\n",
       "      <td>168.9</td>\n",
       "      <td>42.2</td>\n",
       "      <td>124.3</td>\n",
       "      <td>158.3</td>\n",
       "      <td>10.8</td>\n",
       "      <td>1080.8</td>\n",
       "      <td>796.2</td>\n",
       "      <td>2.639057</td>\n",
       "      <td>23.51</td>\n",
       "      <td>1</td>\n",
       "    </tr>\n",
       "    <tr>\n",
       "      <th>2</th>\n",
       "      <td>250.0</td>\n",
       "      <td>0.0</td>\n",
       "      <td>95.7</td>\n",
       "      <td>187.4</td>\n",
       "      <td>5.5</td>\n",
       "      <td>956.9</td>\n",
       "      <td>861.2</td>\n",
       "      <td>3.332205</td>\n",
       "      <td>29.22</td>\n",
       "      <td>1</td>\n",
       "    </tr>\n",
       "    <tr>\n",
       "      <th>3</th>\n",
       "      <td>266.0</td>\n",
       "      <td>114.0</td>\n",
       "      <td>0.0</td>\n",
       "      <td>228.0</td>\n",
       "      <td>0.0</td>\n",
       "      <td>932.0</td>\n",
       "      <td>670.0</td>\n",
       "      <td>3.332205</td>\n",
       "      <td>45.85</td>\n",
       "      <td>1</td>\n",
       "    </tr>\n",
       "    <tr>\n",
       "      <th>4</th>\n",
       "      <td>154.8</td>\n",
       "      <td>183.4</td>\n",
       "      <td>0.0</td>\n",
       "      <td>193.3</td>\n",
       "      <td>9.1</td>\n",
       "      <td>1047.4</td>\n",
       "      <td>696.7</td>\n",
       "      <td>3.332205</td>\n",
       "      <td>18.29</td>\n",
       "      <td>1</td>\n",
       "    </tr>\n",
       "    <tr>\n",
       "      <th>...</th>\n",
       "      <td>...</td>\n",
       "      <td>...</td>\n",
       "      <td>...</td>\n",
       "      <td>...</td>\n",
       "      <td>...</td>\n",
       "      <td>...</td>\n",
       "      <td>...</td>\n",
       "      <td>...</td>\n",
       "      <td>...</td>\n",
       "      <td>...</td>\n",
       "    </tr>\n",
       "    <tr>\n",
       "      <th>1025</th>\n",
       "      <td>135.0</td>\n",
       "      <td>0.0</td>\n",
       "      <td>166.0</td>\n",
       "      <td>180.0</td>\n",
       "      <td>10.0</td>\n",
       "      <td>961.0</td>\n",
       "      <td>805.0</td>\n",
       "      <td>3.332205</td>\n",
       "      <td>13.29</td>\n",
       "      <td>1</td>\n",
       "    </tr>\n",
       "    <tr>\n",
       "      <th>1026</th>\n",
       "      <td>531.3</td>\n",
       "      <td>0.0</td>\n",
       "      <td>0.0</td>\n",
       "      <td>141.8</td>\n",
       "      <td>28.2</td>\n",
       "      <td>852.1</td>\n",
       "      <td>893.7</td>\n",
       "      <td>1.098612</td>\n",
       "      <td>41.30</td>\n",
       "      <td>1</td>\n",
       "    </tr>\n",
       "    <tr>\n",
       "      <th>1027</th>\n",
       "      <td>276.4</td>\n",
       "      <td>116.0</td>\n",
       "      <td>90.3</td>\n",
       "      <td>179.6</td>\n",
       "      <td>8.9</td>\n",
       "      <td>870.1</td>\n",
       "      <td>768.3</td>\n",
       "      <td>3.332205</td>\n",
       "      <td>44.28</td>\n",
       "      <td>1</td>\n",
       "    </tr>\n",
       "    <tr>\n",
       "      <th>1028</th>\n",
       "      <td>342.0</td>\n",
       "      <td>38.0</td>\n",
       "      <td>0.0</td>\n",
       "      <td>228.0</td>\n",
       "      <td>0.0</td>\n",
       "      <td>932.0</td>\n",
       "      <td>670.0</td>\n",
       "      <td>5.598422</td>\n",
       "      <td>55.06</td>\n",
       "      <td>1</td>\n",
       "    </tr>\n",
       "    <tr>\n",
       "      <th>1029</th>\n",
       "      <td>540.0</td>\n",
       "      <td>0.0</td>\n",
       "      <td>0.0</td>\n",
       "      <td>173.0</td>\n",
       "      <td>0.0</td>\n",
       "      <td>1125.0</td>\n",
       "      <td>613.0</td>\n",
       "      <td>1.945910</td>\n",
       "      <td>52.61</td>\n",
       "      <td>1</td>\n",
       "    </tr>\n",
       "  </tbody>\n",
       "</table>\n",
       "<p>989 rows × 10 columns</p>\n",
       "</div>"
      ],
      "text/plain": [
       "      cement   slag    ash  water  superplastic  coarseagg  fineagg       age  \\\n",
       "0      141.3  212.0    0.0  203.5           0.0      971.8    748.5  3.332205   \n",
       "1      168.9   42.2  124.3  158.3          10.8     1080.8    796.2  2.639057   \n",
       "2      250.0    0.0   95.7  187.4           5.5      956.9    861.2  3.332205   \n",
       "3      266.0  114.0    0.0  228.0           0.0      932.0    670.0  3.332205   \n",
       "4      154.8  183.4    0.0  193.3           9.1     1047.4    696.7  3.332205   \n",
       "...      ...    ...    ...    ...           ...        ...      ...       ...   \n",
       "1025   135.0    0.0  166.0  180.0          10.0      961.0    805.0  3.332205   \n",
       "1026   531.3    0.0    0.0  141.8          28.2      852.1    893.7  1.098612   \n",
       "1027   276.4  116.0   90.3  179.6           8.9      870.1    768.3  3.332205   \n",
       "1028   342.0   38.0    0.0  228.0           0.0      932.0    670.0  5.598422   \n",
       "1029   540.0    0.0    0.0  173.0           0.0     1125.0    613.0  1.945910   \n",
       "\n",
       "      strength  outlier  \n",
       "0        29.89        1  \n",
       "1        23.51        1  \n",
       "2        29.22        1  \n",
       "3        45.85        1  \n",
       "4        18.29        1  \n",
       "...        ...      ...  \n",
       "1025     13.29        1  \n",
       "1026     41.30        1  \n",
       "1027     44.28        1  \n",
       "1028     55.06        1  \n",
       "1029     52.61        1  \n",
       "\n",
       "[989 rows x 10 columns]"
      ]
     },
     "execution_count": 97,
     "metadata": {},
     "output_type": "execute_result"
    }
   ],
   "source": [
    "data[\"age\"] = np.log(data[\"age\"])\n",
    "data"
   ]
  },
  {
   "cell_type": "code",
   "execution_count": null,
   "metadata": {},
   "outputs": [],
   "source": []
  },
  {
   "cell_type": "code",
   "execution_count": 98,
   "metadata": {},
   "outputs": [
    {
     "data": {
      "text/html": [
       "<div>\n",
       "<style scoped>\n",
       "    .dataframe tbody tr th:only-of-type {\n",
       "        vertical-align: middle;\n",
       "    }\n",
       "\n",
       "    .dataframe tbody tr th {\n",
       "        vertical-align: top;\n",
       "    }\n",
       "\n",
       "    .dataframe thead th {\n",
       "        text-align: right;\n",
       "    }\n",
       "</style>\n",
       "<table border=\"1\" class=\"dataframe\">\n",
       "  <thead>\n",
       "    <tr style=\"text-align: right;\">\n",
       "      <th></th>\n",
       "      <th>cement</th>\n",
       "      <th>slag</th>\n",
       "      <th>ash</th>\n",
       "      <th>water</th>\n",
       "      <th>superplastic</th>\n",
       "      <th>coarseagg</th>\n",
       "      <th>fineagg</th>\n",
       "      <th>age</th>\n",
       "      <th>strength</th>\n",
       "      <th>outlier</th>\n",
       "    </tr>\n",
       "  </thead>\n",
       "  <tbody>\n",
       "    <tr>\n",
       "      <th>count</th>\n",
       "      <td>989.000000</td>\n",
       "      <td>989.000000</td>\n",
       "      <td>989.000000</td>\n",
       "      <td>989.000000</td>\n",
       "      <td>989.000000</td>\n",
       "      <td>989.000000</td>\n",
       "      <td>989.000000</td>\n",
       "      <td>989.000000</td>\n",
       "      <td>989.000000</td>\n",
       "      <td>989.0</td>\n",
       "    </tr>\n",
       "    <tr>\n",
       "      <th>mean</th>\n",
       "      <td>278.455511</td>\n",
       "      <td>72.750051</td>\n",
       "      <td>55.218301</td>\n",
       "      <td>182.128615</td>\n",
       "      <td>6.019414</td>\n",
       "      <td>973.410415</td>\n",
       "      <td>773.470677</td>\n",
       "      <td>3.158751</td>\n",
       "      <td>35.191921</td>\n",
       "      <td>1.0</td>\n",
       "    </tr>\n",
       "    <tr>\n",
       "      <th>std</th>\n",
       "      <td>103.871243</td>\n",
       "      <td>86.243347</td>\n",
       "      <td>63.921003</td>\n",
       "      <td>21.437036</td>\n",
       "      <td>5.905803</td>\n",
       "      <td>77.415736</td>\n",
       "      <td>80.178746</td>\n",
       "      <td>1.186533</td>\n",
       "      <td>16.166993</td>\n",
       "      <td>0.0</td>\n",
       "    </tr>\n",
       "    <tr>\n",
       "      <th>min</th>\n",
       "      <td>102.000000</td>\n",
       "      <td>0.000000</td>\n",
       "      <td>0.000000</td>\n",
       "      <td>121.800000</td>\n",
       "      <td>0.000000</td>\n",
       "      <td>801.000000</td>\n",
       "      <td>594.000000</td>\n",
       "      <td>0.000000</td>\n",
       "      <td>2.330000</td>\n",
       "      <td>1.0</td>\n",
       "    </tr>\n",
       "    <tr>\n",
       "      <th>25%</th>\n",
       "      <td>190.700000</td>\n",
       "      <td>0.000000</td>\n",
       "      <td>0.000000</td>\n",
       "      <td>166.600000</td>\n",
       "      <td>0.000000</td>\n",
       "      <td>932.000000</td>\n",
       "      <td>730.400000</td>\n",
       "      <td>1.945910</td>\n",
       "      <td>23.520000</td>\n",
       "      <td>1.0</td>\n",
       "    </tr>\n",
       "    <tr>\n",
       "      <th>50%</th>\n",
       "      <td>264.500000</td>\n",
       "      <td>20.000000</td>\n",
       "      <td>0.000000</td>\n",
       "      <td>185.700000</td>\n",
       "      <td>6.000000</td>\n",
       "      <td>968.000000</td>\n",
       "      <td>780.000000</td>\n",
       "      <td>3.332205</td>\n",
       "      <td>33.760000</td>\n",
       "      <td>1.0</td>\n",
       "    </tr>\n",
       "    <tr>\n",
       "      <th>75%</th>\n",
       "      <td>349.000000</td>\n",
       "      <td>142.500000</td>\n",
       "      <td>118.300000</td>\n",
       "      <td>192.900000</td>\n",
       "      <td>10.000000</td>\n",
       "      <td>1029.400000</td>\n",
       "      <td>824.000000</td>\n",
       "      <td>4.025352</td>\n",
       "      <td>44.860000</td>\n",
       "      <td>1.0</td>\n",
       "    </tr>\n",
       "    <tr>\n",
       "      <th>max</th>\n",
       "      <td>540.000000</td>\n",
       "      <td>359.400000</td>\n",
       "      <td>200.100000</td>\n",
       "      <td>247.000000</td>\n",
       "      <td>32.200000</td>\n",
       "      <td>1145.000000</td>\n",
       "      <td>992.600000</td>\n",
       "      <td>5.899897</td>\n",
       "      <td>82.600000</td>\n",
       "      <td>1.0</td>\n",
       "    </tr>\n",
       "  </tbody>\n",
       "</table>\n",
       "</div>"
      ],
      "text/plain": [
       "           cement        slag         ash       water  superplastic  \\\n",
       "count  989.000000  989.000000  989.000000  989.000000    989.000000   \n",
       "mean   278.455511   72.750051   55.218301  182.128615      6.019414   \n",
       "std    103.871243   86.243347   63.921003   21.437036      5.905803   \n",
       "min    102.000000    0.000000    0.000000  121.800000      0.000000   \n",
       "25%    190.700000    0.000000    0.000000  166.600000      0.000000   \n",
       "50%    264.500000   20.000000    0.000000  185.700000      6.000000   \n",
       "75%    349.000000  142.500000  118.300000  192.900000     10.000000   \n",
       "max    540.000000  359.400000  200.100000  247.000000     32.200000   \n",
       "\n",
       "         coarseagg     fineagg         age    strength  outlier  \n",
       "count   989.000000  989.000000  989.000000  989.000000    989.0  \n",
       "mean    973.410415  773.470677    3.158751   35.191921      1.0  \n",
       "std      77.415736   80.178746    1.186533   16.166993      0.0  \n",
       "min     801.000000  594.000000    0.000000    2.330000      1.0  \n",
       "25%     932.000000  730.400000    1.945910   23.520000      1.0  \n",
       "50%     968.000000  780.000000    3.332205   33.760000      1.0  \n",
       "75%    1029.400000  824.000000    4.025352   44.860000      1.0  \n",
       "max    1145.000000  992.600000    5.899897   82.600000      1.0  "
      ]
     },
     "execution_count": 98,
     "metadata": {},
     "output_type": "execute_result"
    }
   ],
   "source": [
    "data.describe()"
   ]
  },
  {
   "cell_type": "code",
   "execution_count": 99,
   "metadata": {},
   "outputs": [],
   "source": [
    "x = data.drop(['strength','outlier'], axis = 1)\n",
    "y = data['strength']\n",
    "\n",
    "\n",
    "#scale\n",
    "scaler = StandardScaler()\n",
    "x_train = scaler.fit_transform(x)\n",
    "\n",
    "x_rest, x_test, y_rest, y_test = train_test_split(x, y, test_size=0.30, random_state=88)"
   ]
  },
  {
   "cell_type": "code",
   "execution_count": 100,
   "metadata": {},
   "outputs": [
    {
     "data": {
      "text/html": [
       "<div>\n",
       "<style scoped>\n",
       "    .dataframe tbody tr th:only-of-type {\n",
       "        vertical-align: middle;\n",
       "    }\n",
       "\n",
       "    .dataframe tbody tr th {\n",
       "        vertical-align: top;\n",
       "    }\n",
       "\n",
       "    .dataframe thead th {\n",
       "        text-align: right;\n",
       "    }\n",
       "</style>\n",
       "<table border=\"1\" class=\"dataframe\">\n",
       "  <thead>\n",
       "    <tr style=\"text-align: right;\">\n",
       "      <th></th>\n",
       "      <th>Algorithm</th>\n",
       "      <th>Training Accuracy</th>\n",
       "      <th>Validation Accuracy</th>\n",
       "      <th>Overfit By (-ve bad)</th>\n",
       "      <th>R2 Score</th>\n",
       "      <th>KFold mean %</th>\n",
       "      <th>Kfold std %</th>\n",
       "      <th>fold min</th>\n",
       "      <th>fold max</th>\n",
       "    </tr>\n",
       "  </thead>\n",
       "  <tbody>\n",
       "    <tr>\n",
       "      <th>0</th>\n",
       "      <td>No feature selection</td>\n",
       "      <td>0.837726</td>\n",
       "      <td>0.80163</td>\n",
       "      <td>-0.036096</td>\n",
       "      <td>0.80163</td>\n",
       "      <td>0</td>\n",
       "      <td>0</td>\n",
       "      <td>0</td>\n",
       "      <td>0</td>\n",
       "    </tr>\n",
       "  </tbody>\n",
       "</table>\n",
       "</div>"
      ],
      "text/plain": [
       "              Algorithm  Training Accuracy  Validation Accuracy  \\\n",
       "0  No feature selection           0.837726              0.80163   \n",
       "\n",
       "   Overfit By (-ve bad)  R2 Score  KFold mean %  Kfold std %  fold min  \\\n",
       "0             -0.036096   0.80163             0            0         0   \n",
       "\n",
       "   fold max  \n",
       "0         0  "
      ]
     },
     "execution_count": 100,
     "metadata": {},
     "output_type": "execute_result"
    }
   ],
   "source": [
    "#training and validation split based upon x_rest created above\n",
    "x_train, x_valid, y_train, y_valid = train_test_split(x_rest, y_rest, test_size=0.30, random_state=88)\n",
    "\n",
    "\n",
    "# fit and predict\n",
    "linR = LinearRegression()\n",
    "linR.fit(x_train, y_train)\n",
    "y_predict =linR.predict(x_valid)\n",
    "\n",
    "#results\n",
    "rawResult = CreateResultMatrix(\"No feature selection\", linR, x_train, y_train, x_valid, y_valid, y_predict,0 ,0)    \n",
    "rawResult"
   ]
  },
  {
   "cell_type": "code",
   "execution_count": 101,
   "metadata": {},
   "outputs": [
    {
     "data": {
      "text/html": [
       "<div>\n",
       "<style scoped>\n",
       "    .dataframe tbody tr th:only-of-type {\n",
       "        vertical-align: middle;\n",
       "    }\n",
       "\n",
       "    .dataframe tbody tr th {\n",
       "        vertical-align: top;\n",
       "    }\n",
       "\n",
       "    .dataframe thead th {\n",
       "        text-align: right;\n",
       "    }\n",
       "</style>\n",
       "<table border=\"1\" class=\"dataframe\">\n",
       "  <thead>\n",
       "    <tr style=\"text-align: right;\">\n",
       "      <th></th>\n",
       "      <th>Features</th>\n",
       "      <th>Degree</th>\n",
       "      <th>Overfit</th>\n",
       "      <th>R2</th>\n",
       "      <th>featuresUsed</th>\n",
       "    </tr>\n",
       "  </thead>\n",
       "  <tbody>\n",
       "    <tr>\n",
       "      <th>6</th>\n",
       "      <td>12.0</td>\n",
       "      <td>2.0</td>\n",
       "      <td>-0.032734</td>\n",
       "      <td>0.848929</td>\n",
       "      <td>(1, 5, 10, 16, 23, 29, 30, 34, 35, 36, 38, 43)</td>\n",
       "    </tr>\n",
       "    <tr>\n",
       "      <th>13</th>\n",
       "      <td>12.0</td>\n",
       "      <td>3.0</td>\n",
       "      <td>-0.030146</td>\n",
       "      <td>0.845978</td>\n",
       "      <td>(1, 46, 65, 79, 84, 107, 114, 119, 126, 140, 1...</td>\n",
       "    </tr>\n",
       "    <tr>\n",
       "      <th>5</th>\n",
       "      <td>11.0</td>\n",
       "      <td>2.0</td>\n",
       "      <td>-0.033026</td>\n",
       "      <td>0.845371</td>\n",
       "      <td>(1, 5, 10, 16, 23, 29, 30, 35, 36, 38, 43)</td>\n",
       "    </tr>\n",
       "    <tr>\n",
       "      <th>12</th>\n",
       "      <td>11.0</td>\n",
       "      <td>3.0</td>\n",
       "      <td>-0.025011</td>\n",
       "      <td>0.842864</td>\n",
       "      <td>(1, 46, 65, 79, 84, 107, 114, 126, 140, 156, 159)</td>\n",
       "    </tr>\n",
       "    <tr>\n",
       "      <th>4</th>\n",
       "      <td>10.0</td>\n",
       "      <td>2.0</td>\n",
       "      <td>-0.034983</td>\n",
       "      <td>0.842734</td>\n",
       "      <td>(1, 10, 16, 23, 29, 30, 35, 36, 38, 43)</td>\n",
       "    </tr>\n",
       "    <tr>\n",
       "      <th>11</th>\n",
       "      <td>10.0</td>\n",
       "      <td>3.0</td>\n",
       "      <td>-0.025551</td>\n",
       "      <td>0.841819</td>\n",
       "      <td>(1, 46, 65, 79, 107, 114, 126, 140, 156, 159)</td>\n",
       "    </tr>\n",
       "    <tr>\n",
       "      <th>10</th>\n",
       "      <td>9.0</td>\n",
       "      <td>3.0</td>\n",
       "      <td>-0.029652</td>\n",
       "      <td>0.840149</td>\n",
       "      <td>(1, 46, 65, 79, 107, 126, 140, 156, 159)</td>\n",
       "    </tr>\n",
       "    <tr>\n",
       "      <th>3</th>\n",
       "      <td>9.0</td>\n",
       "      <td>2.0</td>\n",
       "      <td>-0.040437</td>\n",
       "      <td>0.835385</td>\n",
       "      <td>(1, 10, 16, 23, 29, 30, 35, 38, 43)</td>\n",
       "    </tr>\n",
       "    <tr>\n",
       "      <th>9</th>\n",
       "      <td>8.0</td>\n",
       "      <td>3.0</td>\n",
       "      <td>-0.021018</td>\n",
       "      <td>0.835192</td>\n",
       "      <td>(1, 46, 65, 79, 107, 140, 156, 159)</td>\n",
       "    </tr>\n",
       "    <tr>\n",
       "      <th>2</th>\n",
       "      <td>8.0</td>\n",
       "      <td>2.0</td>\n",
       "      <td>-0.044990</td>\n",
       "      <td>0.830400</td>\n",
       "      <td>(1, 10, 16, 23, 29, 30, 38, 43)</td>\n",
       "    </tr>\n",
       "    <tr>\n",
       "      <th>8</th>\n",
       "      <td>7.0</td>\n",
       "      <td>3.0</td>\n",
       "      <td>-0.021055</td>\n",
       "      <td>0.822622</td>\n",
       "      <td>(1, 46, 65, 79, 107, 140, 159)</td>\n",
       "    </tr>\n",
       "    <tr>\n",
       "      <th>1</th>\n",
       "      <td>7.0</td>\n",
       "      <td>2.0</td>\n",
       "      <td>-0.038007</td>\n",
       "      <td>0.814750</td>\n",
       "      <td>(1, 10, 16, 23, 29, 30, 38)</td>\n",
       "    </tr>\n",
       "    <tr>\n",
       "      <th>7</th>\n",
       "      <td>6.0</td>\n",
       "      <td>3.0</td>\n",
       "      <td>-0.038472</td>\n",
       "      <td>0.805959</td>\n",
       "      <td>(1, 46, 65, 79, 140, 159)</td>\n",
       "    </tr>\n",
       "    <tr>\n",
       "      <th>0</th>\n",
       "      <td>6.0</td>\n",
       "      <td>2.0</td>\n",
       "      <td>-0.045995</td>\n",
       "      <td>0.784876</td>\n",
       "      <td>(10, 16, 23, 29, 30, 38)</td>\n",
       "    </tr>\n",
       "  </tbody>\n",
       "</table>\n",
       "</div>"
      ],
      "text/plain": [
       "     Features   Degree    Overfit        R2  \\\n",
       "6         12.0      2.0 -0.032734  0.848929   \n",
       "13        12.0      3.0 -0.030146  0.845978   \n",
       "5         11.0      2.0 -0.033026  0.845371   \n",
       "12        11.0      3.0 -0.025011  0.842864   \n",
       "4         10.0      2.0 -0.034983  0.842734   \n",
       "11        10.0      3.0 -0.025551  0.841819   \n",
       "10         9.0      3.0 -0.029652  0.840149   \n",
       "3          9.0      2.0 -0.040437  0.835385   \n",
       "9          8.0      3.0 -0.021018  0.835192   \n",
       "2          8.0      2.0 -0.044990  0.830400   \n",
       "8          7.0      3.0 -0.021055  0.822622   \n",
       "1          7.0      2.0 -0.038007  0.814750   \n",
       "7          6.0      3.0 -0.038472  0.805959   \n",
       "0          6.0      2.0 -0.045995  0.784876   \n",
       "\n",
       "                                         featuresUsed  \n",
       "6      (1, 5, 10, 16, 23, 29, 30, 34, 35, 36, 38, 43)  \n",
       "13  (1, 46, 65, 79, 84, 107, 114, 119, 126, 140, 1...  \n",
       "5          (1, 5, 10, 16, 23, 29, 30, 35, 36, 38, 43)  \n",
       "12  (1, 46, 65, 79, 84, 107, 114, 126, 140, 156, 159)  \n",
       "4             (1, 10, 16, 23, 29, 30, 35, 36, 38, 43)  \n",
       "11      (1, 46, 65, 79, 107, 114, 126, 140, 156, 159)  \n",
       "10           (1, 46, 65, 79, 107, 126, 140, 156, 159)  \n",
       "3                 (1, 10, 16, 23, 29, 30, 35, 38, 43)  \n",
       "9                 (1, 46, 65, 79, 107, 140, 156, 159)  \n",
       "2                     (1, 10, 16, 23, 29, 30, 38, 43)  \n",
       "8                      (1, 46, 65, 79, 107, 140, 159)  \n",
       "1                         (1, 10, 16, 23, 29, 30, 38)  \n",
       "7                           (1, 46, 65, 79, 140, 159)  \n",
       "0                            (10, 16, 23, 29, 30, 38)  "
      ]
     },
     "execution_count": 101,
     "metadata": {},
     "output_type": "execute_result"
    }
   ],
   "source": [
    "feat= [6,7,8,9,10,11,12]\n",
    "degree = [2,3]\n",
    "\n",
    "linR = LinearRegression()\n",
    "scaler = StandardScaler()\n",
    "\n",
    "tuningMatrix = pd.DataFrame()\n",
    "\n",
    "# try different polynomial degrees\n",
    "for deg in degree:\n",
    "    #create explantory matrix\n",
    "    poly = PolynomialFeatures(degree = deg, interaction_only=False) \n",
    "    xPoly = poly.fit_transform(x_rest)\n",
    "    \n",
    "    #create validation and training sets\n",
    "    x_train, x_valid, y_train, y_valid = train_test_split(xPoly, y_rest, test_size=0.30, random_state=88)\n",
    "\n",
    "    #try diferent feature numbers\n",
    "    for feature in feat:\n",
    "        \n",
    "        sfs1 = sfs(linR, k_features=feature, forward=True, scoring='r2', cv=10)\n",
    "        sfs1 = sfs1.fit(x_train, y_train)\n",
    "              \n",
    "        featuresUsed = sfs1.k_feature_idx_\n",
    "   \n",
    "        linR.fit(x_train[:,featuresUsed], y_train)\n",
    "        y_predict =linR.predict(x_valid[:,featuresUsed])\n",
    "        \n",
    "        trainingScore = linR.score(x_train[:,featuresUsed],y_train)\n",
    "        validationScore = linR.score(x_valid[:,featuresUsed], y_valid)\n",
    "        overfit = validationScore -  trainingScore\n",
    "        \n",
    "        tuningMatrix= tuningMatrix.append(pd.Series({\"Degree \":deg, \" Features \": feature, \"R2\": sfs1.k_score_,\"Overfit\":overfit,\"featuresUsed\":sfs1.k_feature_names_}), ignore_index=True)\n",
    "\n",
    "tuningMatrix.sort_values(by=\"R2\", ascending=False)"
   ]
  },
  {
   "cell_type": "code",
   "execution_count": 102,
   "metadata": {},
   "outputs": [
    {
     "data": {
      "text/plain": [
       "(692, 165)"
      ]
     },
     "execution_count": 102,
     "metadata": {},
     "output_type": "execute_result"
    }
   ],
   "source": [
    "## build for real\n",
    "\n",
    "poly = PolynomialFeatures(degree = 3, interaction_only=False)\n",
    "xPoly = poly.fit_transform(x_rest)\n",
    "xPoly.shape"
   ]
  },
  {
   "cell_type": "code",
   "execution_count": 104,
   "metadata": {},
   "outputs": [],
   "source": [
    "x_train, x_valid, y_train, y_valid = train_test_split(xPoly, y_rest, test_size=0.30, random_state=88)"
   ]
  },
  {
   "cell_type": "code",
   "execution_count": 108,
   "metadata": {},
   "outputs": [],
   "source": [
    "linR = LinearRegression()\n",
    "\n",
    "sfs1 = sfs(linR, k_features=11, forward=True, scoring='r2', cv=11)\n",
    "sfs1 = sfs1.fit(x_train, y_train)"
   ]
  },
  {
   "cell_type": "code",
   "execution_count": 109,
   "metadata": {},
   "outputs": [
    {
     "data": {
      "image/png": "[encoded data removed]",
      "text/plain": [
       "<Figure size 432x288 with 1 Axes>"
      ]
     },
     "metadata": {
      "needs_background": "light"
     },
     "output_type": "display_data"
    }
   ],
   "source": [
    "fig = plot_sfs(sfs1.get_metric_dict())\n",
    "\n",
    "plt.title('Sequential Forward Selection (w. R^2)')\n",
    "plt.grid()\n",
    "plt.show()"
   ]
  },
  {
   "cell_type": "code",
   "execution_count": 110,
   "metadata": {},
   "outputs": [
    {
     "data": {
      "text/plain": [
       "['Feature Count', 11]"
      ]
     },
     "metadata": {},
     "output_type": "display_data"
    },
    {
     "data": {
      "text/plain": [
       "['Average Score', 0.8476893672503756]"
      ]
     },
     "metadata": {},
     "output_type": "display_data"
    },
    {
     "data": {
      "text/plain": [
       "['Features Used',\n",
       " ('1', '46', '47', '65', '79', '107', '119', '125', '140', '143', '159')]"
      ]
     },
     "metadata": {},
     "output_type": "display_data"
    }
   ],
   "source": [
    "display([\"Feature Count\", 11])\n",
    "display([\"Average Score\",sfs1.k_score_])\n",
    "display([\"Features Used\",sfs1.k_feature_names_])"
   ]
  },
  {
   "cell_type": "code",
   "execution_count": 111,
   "metadata": {},
   "outputs": [],
   "source": [
    "trainingFeatures = pd.DataFrame(x_train[:,sfs1.k_feature_idx_])\n",
    "\n",
    "validationFeatures = pd.DataFrame(x_valid[:,sfs1.k_feature_idx_])"
   ]
  },
  {
   "cell_type": "code",
   "execution_count": 112,
   "metadata": {},
   "outputs": [],
   "source": [
    "## validate existing result"
   ]
  },
  {
   "cell_type": "code",
   "execution_count": 113,
   "metadata": {},
   "outputs": [
    {
     "data": {
      "text/html": [
       "<div>\n",
       "<style scoped>\n",
       "    .dataframe tbody tr th:only-of-type {\n",
       "        vertical-align: middle;\n",
       "    }\n",
       "\n",
       "    .dataframe tbody tr th {\n",
       "        vertical-align: top;\n",
       "    }\n",
       "\n",
       "    .dataframe thead th {\n",
       "        text-align: right;\n",
       "    }\n",
       "</style>\n",
       "<table border=\"1\" class=\"dataframe\">\n",
       "  <thead>\n",
       "    <tr style=\"text-align: right;\">\n",
       "      <th></th>\n",
       "      <th>Algorithm</th>\n",
       "      <th>Training Accuracy</th>\n",
       "      <th>Validation Accuracy</th>\n",
       "      <th>Overfit By (-ve bad)</th>\n",
       "      <th>R2 Score</th>\n",
       "      <th>KFold mean %</th>\n",
       "      <th>Kfold std %</th>\n",
       "      <th>fold min</th>\n",
       "      <th>fold max</th>\n",
       "    </tr>\n",
       "  </thead>\n",
       "  <tbody>\n",
       "    <tr>\n",
       "      <th>0</th>\n",
       "      <td>Auto Feature Selection</td>\n",
       "      <td>0.854078</td>\n",
       "      <td>0.845112</td>\n",
       "      <td>-0.008965</td>\n",
       "      <td>0.845112</td>\n",
       "      <td>0</td>\n",
       "      <td>0</td>\n",
       "      <td>0</td>\n",
       "      <td>0</td>\n",
       "    </tr>\n",
       "  </tbody>\n",
       "</table>\n",
       "</div>"
      ],
      "text/plain": [
       "                Algorithm  Training Accuracy  Validation Accuracy  \\\n",
       "0  Auto Feature Selection           0.854078             0.845112   \n",
       "\n",
       "   Overfit By (-ve bad)  R2 Score  KFold mean %  Kfold std %  fold min  \\\n",
       "0             -0.008965  0.845112             0            0         0   \n",
       "\n",
       "   fold max  \n",
       "0         0  "
      ]
     },
     "execution_count": 113,
     "metadata": {},
     "output_type": "execute_result"
    }
   ],
   "source": [
    "linR.fit(validationFeatures, y_valid)\n",
    "\n",
    "y_predict =linR.predict(validationFeatures)\n",
    "        \n",
    "trainingScore = linR.score(trainingFeatures,y_train)\n",
    "#trainingScore = linR.score(validationFeatures,y_train)\n",
    "validationScore = linR.score(validationFeatures, y_valid)\n",
    "overfit = validationScore -  trainingScore\n",
    "\n",
    "#results\n",
    "autoSelectionResult = CreateResultMatrix(\"Auto Feature Selection\", linR, trainingFeatures, y_train, validationFeatures, y_valid, y_predict, 0, 0)    \n",
    "autoSelectionResult"
   ]
  },
  {
   "cell_type": "code",
   "execution_count": 114,
   "metadata": {},
   "outputs": [
    {
     "data": {
      "text/html": [
       "<div>\n",
       "<style scoped>\n",
       "    .dataframe tbody tr th:only-of-type {\n",
       "        vertical-align: middle;\n",
       "    }\n",
       "\n",
       "    .dataframe tbody tr th {\n",
       "        vertical-align: top;\n",
       "    }\n",
       "\n",
       "    .dataframe thead th {\n",
       "        text-align: right;\n",
       "    }\n",
       "</style>\n",
       "<table border=\"1\" class=\"dataframe\">\n",
       "  <thead>\n",
       "    <tr style=\"text-align: right;\">\n",
       "      <th></th>\n",
       "      <th>Algorithm</th>\n",
       "      <th>Training Accuracy</th>\n",
       "      <th>Validation Accuracy</th>\n",
       "      <th>Overfit By (-ve bad)</th>\n",
       "      <th>R2 Score</th>\n",
       "      <th>KFold mean %</th>\n",
       "      <th>Kfold std %</th>\n",
       "      <th>fold min</th>\n",
       "      <th>fold max</th>\n",
       "    </tr>\n",
       "  </thead>\n",
       "  <tbody>\n",
       "    <tr>\n",
       "      <th>0</th>\n",
       "      <td>Auto Feature Selection</td>\n",
       "      <td>0.854078</td>\n",
       "      <td>0.845112</td>\n",
       "      <td>-0.008965</td>\n",
       "      <td>0.845112</td>\n",
       "      <td>0</td>\n",
       "      <td>0</td>\n",
       "      <td>0</td>\n",
       "      <td>0</td>\n",
       "    </tr>\n",
       "    <tr>\n",
       "      <th>0</th>\n",
       "      <td>No feature selection</td>\n",
       "      <td>0.837726</td>\n",
       "      <td>0.801630</td>\n",
       "      <td>-0.036096</td>\n",
       "      <td>0.801630</td>\n",
       "      <td>0</td>\n",
       "      <td>0</td>\n",
       "      <td>0</td>\n",
       "      <td>0</td>\n",
       "    </tr>\n",
       "  </tbody>\n",
       "</table>\n",
       "</div>"
      ],
      "text/plain": [
       "                Algorithm  Training Accuracy  Validation Accuracy  \\\n",
       "0  Auto Feature Selection           0.854078             0.845112   \n",
       "0    No feature selection           0.837726             0.801630   \n",
       "\n",
       "   Overfit By (-ve bad)  R2 Score  KFold mean %  Kfold std %  fold min  \\\n",
       "0             -0.008965  0.845112             0            0         0   \n",
       "0             -0.036096  0.801630             0            0         0   \n",
       "\n",
       "   fold max  \n",
       "0         0  \n",
       "0         0  "
      ]
     },
     "execution_count": 114,
     "metadata": {},
     "output_type": "execute_result"
    }
   ],
   "source": [
    "featureSelectionResult = pd.concat([autoSelectionResult,rawResult])\n",
    "featureSelectionResult"
   ]
  },
  {
   "cell_type": "code",
   "execution_count": 115,
   "metadata": {},
   "outputs": [
    {
     "name": "stdout",
     "output_type": "stream",
     "text": [
      "cement, slag, ash, water, superplastic, coarseagg, fineagg\n",
      "\n",
      "1   [1 0 0 0 0 0 0 0]\n",
      "46   [2 1 0 0 0 0 0 0]\n",
      "47   [2 0 1 0 0 0 0 0]\n",
      "65   [1 0 1 0 0 0 0 1]\n",
      "79   [1 0 0 0 0 0 1 1]\n",
      "107   [0 1 0 0 0 0 1 1]\n",
      "119   [0 0 1 1 0 0 0 1]\n",
      "125   [0 0 1 0 0 1 1 0]\n",
      "140   [0 0 0 1 0 1 1 0]\n",
      "143   [0 0 0 1 0 0 1 1]\n",
      "159   [0 0 0 0 0 1 1 1]\n"
     ]
    }
   ],
   "source": [
    "print(\"cement, slag, ash, water, superplastic, coarseagg, fineagg\")\n",
    "print()\n",
    "featuresUsed = sfs1.get_metric_dict()[11][\"feature_idx\"]\n",
    "for feature in featuresUsed:\n",
    "    print(feature, \" \",poly.powers_[feature])"
   ]
  },
  {
   "cell_type": "code",
   "execution_count": 117,
   "metadata": {},
   "outputs": [
    {
     "data": {
      "text/plain": [
       "KFold(n_splits=10, random_state=88, shuffle=True)"
      ]
     },
     "execution_count": 117,
     "metadata": {},
     "output_type": "execute_result"
    }
   ],
   "source": [
    "kfold = KFold(n_splits=10, random_state=88,shuffle=True)\n",
    "kfold"
   ]
  },
  {
   "cell_type": "code",
   "execution_count": 118,
   "metadata": {},
   "outputs": [],
   "source": [
    "## linear regression"
   ]
  },
  {
   "cell_type": "code",
   "execution_count": 119,
   "metadata": {},
   "outputs": [
    {
     "name": "stdout",
     "output_type": "stream",
     "text": [
      "[0.83424733 0.84798747 0.83790136 0.88540159 0.85882336 0.86616282\n",
      " 0.93169126 0.82256792 0.83152686 0.88493382]\n"
     ]
    }
   ],
   "source": [
    "LinRegression = LinearRegression()\n",
    "LinRegression.fit(trainingFeatures, y_train)\n",
    "y_predict =LinRegression.predict(validationFeatures)\n",
    "\n",
    "results = cross_val_score(LinRegression, trainingFeatures, y_train, cv=kfold, scoring='r2')\n",
    "print(results)"
   ]
  },
  {
   "cell_type": "code",
   "execution_count": 120,
   "metadata": {},
   "outputs": [
    {
     "data": {
      "text/html": [
       "<div>\n",
       "<style scoped>\n",
       "    .dataframe tbody tr th:only-of-type {\n",
       "        vertical-align: middle;\n",
       "    }\n",
       "\n",
       "    .dataframe tbody tr th {\n",
       "        vertical-align: top;\n",
       "    }\n",
       "\n",
       "    .dataframe thead th {\n",
       "        text-align: right;\n",
       "    }\n",
       "</style>\n",
       "<table border=\"1\" class=\"dataframe\">\n",
       "  <thead>\n",
       "    <tr style=\"text-align: right;\">\n",
       "      <th></th>\n",
       "      <th>Algorithm</th>\n",
       "      <th>Training Accuracy</th>\n",
       "      <th>Validation Accuracy</th>\n",
       "      <th>Overfit By (-ve bad)</th>\n",
       "      <th>R2 Score</th>\n",
       "      <th>KFold mean %</th>\n",
       "      <th>Kfold std %</th>\n",
       "      <th>fold min</th>\n",
       "      <th>fold max</th>\n",
       "    </tr>\n",
       "  </thead>\n",
       "  <tbody>\n",
       "    <tr>\n",
       "      <th>0</th>\n",
       "      <td>Linear Regression</td>\n",
       "      <td>0.867505</td>\n",
       "      <td>0.832609</td>\n",
       "      <td>-0.034896</td>\n",
       "      <td>0.832609</td>\n",
       "      <td>86.012438</td>\n",
       "      <td>3.154919</td>\n",
       "      <td>76.54768</td>\n",
       "      <td>95.477196</td>\n",
       "    </tr>\n",
       "  </tbody>\n",
       "</table>\n",
       "</div>"
      ],
      "text/plain": [
       "           Algorithm  Training Accuracy  Validation Accuracy  \\\n",
       "0  Linear Regression           0.867505             0.832609   \n",
       "\n",
       "   Overfit By (-ve bad)  R2 Score  KFold mean %  Kfold std %  fold min  \\\n",
       "0             -0.034896  0.832609     86.012438     3.154919  76.54768   \n",
       "\n",
       "    fold max  \n",
       "0  95.477196  "
      ]
     },
     "execution_count": 120,
     "metadata": {},
     "output_type": "execute_result"
    }
   ],
   "source": [
    "lrResult = CreateResultMatrix(\"Linear Regression\", LinRegression, trainingFeatures, y_train,validationFeatures, y_valid, y_predict,results.mean(),results.std())\n",
    "lrResult"
   ]
  },
  {
   "cell_type": "code",
   "execution_count": 121,
   "metadata": {},
   "outputs": [],
   "source": [
    "##ridge"
   ]
  },
  {
   "cell_type": "code",
   "execution_count": 122,
   "metadata": {},
   "outputs": [
    {
     "data": {
      "text/html": [
       "<div>\n",
       "<style scoped>\n",
       "    .dataframe tbody tr th:only-of-type {\n",
       "        vertical-align: middle;\n",
       "    }\n",
       "\n",
       "    .dataframe tbody tr th {\n",
       "        vertical-align: top;\n",
       "    }\n",
       "\n",
       "    .dataframe thead th {\n",
       "        text-align: right;\n",
       "    }\n",
       "</style>\n",
       "<table border=\"1\" class=\"dataframe\">\n",
       "  <thead>\n",
       "    <tr style=\"text-align: right;\">\n",
       "      <th></th>\n",
       "      <th>Algorithm</th>\n",
       "      <th>Training Accuracy</th>\n",
       "      <th>Validation Accuracy</th>\n",
       "      <th>Overfit By (-ve bad)</th>\n",
       "      <th>R2 Score</th>\n",
       "      <th>KFold mean %</th>\n",
       "      <th>Kfold std %</th>\n",
       "      <th>fold min</th>\n",
       "      <th>fold max</th>\n",
       "    </tr>\n",
       "  </thead>\n",
       "  <tbody>\n",
       "    <tr>\n",
       "      <th>0</th>\n",
       "      <td>Ridge Regression</td>\n",
       "      <td>0.867505</td>\n",
       "      <td>0.832609</td>\n",
       "      <td>-0.034896</td>\n",
       "      <td>0.832609</td>\n",
       "      <td>86.012438</td>\n",
       "      <td>3.154919</td>\n",
       "      <td>76.547682</td>\n",
       "      <td>95.477195</td>\n",
       "    </tr>\n",
       "  </tbody>\n",
       "</table>\n",
       "</div>"
      ],
      "text/plain": [
       "          Algorithm  Training Accuracy  Validation Accuracy  \\\n",
       "0  Ridge Regression           0.867505             0.832609   \n",
       "\n",
       "   Overfit By (-ve bad)  R2 Score  KFold mean %  Kfold std %   fold min  \\\n",
       "0             -0.034896  0.832609     86.012438     3.154919  76.547682   \n",
       "\n",
       "    fold max  \n",
       "0  95.477195  "
      ]
     },
     "execution_count": 122,
     "metadata": {},
     "output_type": "execute_result"
    }
   ],
   "source": [
    "ridge = Ridge(random_state=88)\n",
    "ridge.fit(trainingFeatures, y_train)\n",
    "results = cross_val_score(ridge, trainingFeatures, y_train, cv=kfold, scoring='r2')\n",
    "\n",
    "y_predict =ridge.predict(validationFeatures)\n",
    "\n",
    "ridgeResult = CreateResultMatrix(\"Ridge Regression\", ridge, trainingFeatures, y_train,validationFeatures, y_valid, y_predict,results.mean(),results.std())\n",
    "ridgeResult"
   ]
  },
  {
   "cell_type": "code",
   "execution_count": 123,
   "metadata": {},
   "outputs": [],
   "source": [
    "## lasso"
   ]
  },
  {
   "cell_type": "code",
   "execution_count": 124,
   "metadata": {},
   "outputs": [
    {
     "data": {
      "text/html": [
       "<div>\n",
       "<style scoped>\n",
       "    .dataframe tbody tr th:only-of-type {\n",
       "        vertical-align: middle;\n",
       "    }\n",
       "\n",
       "    .dataframe tbody tr th {\n",
       "        vertical-align: top;\n",
       "    }\n",
       "\n",
       "    .dataframe thead th {\n",
       "        text-align: right;\n",
       "    }\n",
       "</style>\n",
       "<table border=\"1\" class=\"dataframe\">\n",
       "  <thead>\n",
       "    <tr style=\"text-align: right;\">\n",
       "      <th></th>\n",
       "      <th>Algorithm</th>\n",
       "      <th>Training Accuracy</th>\n",
       "      <th>Validation Accuracy</th>\n",
       "      <th>Overfit By (-ve bad)</th>\n",
       "      <th>R2 Score</th>\n",
       "      <th>KFold mean %</th>\n",
       "      <th>Kfold std %</th>\n",
       "      <th>fold min</th>\n",
       "      <th>fold max</th>\n",
       "    </tr>\n",
       "  </thead>\n",
       "  <tbody>\n",
       "    <tr>\n",
       "      <th>0</th>\n",
       "      <td>Lasso Regression</td>\n",
       "      <td>0.867501</td>\n",
       "      <td>0.832536</td>\n",
       "      <td>-0.034965</td>\n",
       "      <td>0.832536</td>\n",
       "      <td>86.012181</td>\n",
       "      <td>3.153252</td>\n",
       "      <td>76.552426</td>\n",
       "      <td>95.471937</td>\n",
       "    </tr>\n",
       "  </tbody>\n",
       "</table>\n",
       "</div>"
      ],
      "text/plain": [
       "          Algorithm  Training Accuracy  Validation Accuracy  \\\n",
       "0  Lasso Regression           0.867501             0.832536   \n",
       "\n",
       "   Overfit By (-ve bad)  R2 Score  KFold mean %  Kfold std %   fold min  \\\n",
       "0             -0.034965  0.832536     86.012181     3.153252  76.552426   \n",
       "\n",
       "    fold max  \n",
       "0  95.471937  "
      ]
     },
     "execution_count": 124,
     "metadata": {},
     "output_type": "execute_result"
    }
   ],
   "source": [
    "lasso = Lasso(random_state=88, max_iter=2200)\n",
    "lasso.fit(trainingFeatures, y_train)\n",
    "\n",
    "results = cross_val_score(lasso, trainingFeatures, y_train, cv=kfold, scoring='r2')\n",
    "\n",
    "y_predict =lasso.predict(validationFeatures)\n",
    "\n",
    "lassoResult = CreateResultMatrix(\"Lasso Regression\", lasso, trainingFeatures, y_train,validationFeatures, y_valid, y_predict,results.mean(),results.std())\n",
    "lassoResult"
   ]
  },
  {
   "cell_type": "code",
   "execution_count": null,
   "metadata": {},
   "outputs": [],
   "source": [
    "## svm"
   ]
  },
  {
   "cell_type": "code",
   "execution_count": 126,
   "metadata": {},
   "outputs": [],
   "source": [
    "from sklearn import svm\n",
    "\n",
    "svreg = svm.SVR()"
   ]
  },
  {
   "cell_type": "code",
   "execution_count": 127,
   "metadata": {},
   "outputs": [
    {
     "data": {
      "text/plain": [
       "SVR(C=1.0, cache_size=200, coef0=0.0, degree=3, epsilon=0.1, gamma='scale',\n",
       "    kernel='rbf', max_iter=-1, shrinking=True, tol=0.001, verbose=False)"
      ]
     },
     "execution_count": 127,
     "metadata": {},
     "output_type": "execute_result"
    }
   ],
   "source": [
    "svreg.fit(trainingFeatures, y_train)"
   ]
  },
  {
   "cell_type": "code",
   "execution_count": 128,
   "metadata": {},
   "outputs": [
    {
     "data": {
      "text/html": [
       "<div>\n",
       "<style scoped>\n",
       "    .dataframe tbody tr th:only-of-type {\n",
       "        vertical-align: middle;\n",
       "    }\n",
       "\n",
       "    .dataframe tbody tr th {\n",
       "        vertical-align: top;\n",
       "    }\n",
       "\n",
       "    .dataframe thead th {\n",
       "        text-align: right;\n",
       "    }\n",
       "</style>\n",
       "<table border=\"1\" class=\"dataframe\">\n",
       "  <thead>\n",
       "    <tr style=\"text-align: right;\">\n",
       "      <th></th>\n",
       "      <th>Algorithm</th>\n",
       "      <th>Training Accuracy</th>\n",
       "      <th>Validation Accuracy</th>\n",
       "      <th>Overfit By (-ve bad)</th>\n",
       "      <th>R2 Score</th>\n",
       "      <th>KFold mean %</th>\n",
       "      <th>Kfold std %</th>\n",
       "      <th>fold min</th>\n",
       "      <th>fold max</th>\n",
       "    </tr>\n",
       "  </thead>\n",
       "  <tbody>\n",
       "    <tr>\n",
       "      <th>0</th>\n",
       "      <td>SVM Regression</td>\n",
       "      <td>0.219291</td>\n",
       "      <td>0.218062</td>\n",
       "      <td>-0.001229</td>\n",
       "      <td>0.218062</td>\n",
       "      <td>19.397288</td>\n",
       "      <td>2.784031</td>\n",
       "      <td>11.045196</td>\n",
       "      <td>27.74938</td>\n",
       "    </tr>\n",
       "  </tbody>\n",
       "</table>\n",
       "</div>"
      ],
      "text/plain": [
       "        Algorithm  Training Accuracy  Validation Accuracy  \\\n",
       "0  SVM Regression           0.219291             0.218062   \n",
       "\n",
       "   Overfit By (-ve bad)  R2 Score  KFold mean %  Kfold std %   fold min  \\\n",
       "0             -0.001229  0.218062     19.397288     2.784031  11.045196   \n",
       "\n",
       "   fold max  \n",
       "0  27.74938  "
      ]
     },
     "execution_count": 128,
     "metadata": {},
     "output_type": "execute_result"
    }
   ],
   "source": [
    "results = cross_val_score(svreg, trainingFeatures, y_train, cv=kfold, scoring='r2')\n",
    "results.mean()\n",
    "\n",
    "y_predict =svreg.predict(validationFeatures)\n",
    "\n",
    "svrResult = CreateResultMatrix(\"SVM Regression\", svreg, trainingFeatures, y_train,validationFeatures, y_valid, y_predict,results.mean(),results.std())\n",
    "svrResult"
   ]
  },
  {
   "cell_type": "code",
   "execution_count": null,
   "metadata": {},
   "outputs": [],
   "source": [
    "# neighbour"
   ]
  },
  {
   "cell_type": "code",
   "execution_count": 129,
   "metadata": {},
   "outputs": [
    {
     "data": {
      "text/html": [
       "<div>\n",
       "<style scoped>\n",
       "    .dataframe tbody tr th:only-of-type {\n",
       "        vertical-align: middle;\n",
       "    }\n",
       "\n",
       "    .dataframe tbody tr th {\n",
       "        vertical-align: top;\n",
       "    }\n",
       "\n",
       "    .dataframe thead th {\n",
       "        text-align: right;\n",
       "    }\n",
       "</style>\n",
       "<table border=\"1\" class=\"dataframe\">\n",
       "  <thead>\n",
       "    <tr style=\"text-align: right;\">\n",
       "      <th></th>\n",
       "      <th>Algorithm</th>\n",
       "      <th>Training Accuracy</th>\n",
       "      <th>Validation Accuracy</th>\n",
       "      <th>Overfit By (-ve bad)</th>\n",
       "      <th>R2 Score</th>\n",
       "      <th>KFold mean %</th>\n",
       "      <th>Kfold std %</th>\n",
       "      <th>fold min</th>\n",
       "      <th>fold max</th>\n",
       "    </tr>\n",
       "  </thead>\n",
       "  <tbody>\n",
       "    <tr>\n",
       "      <th>0</th>\n",
       "      <td>KNNeighbour</td>\n",
       "      <td>0.703448</td>\n",
       "      <td>0.579067</td>\n",
       "      <td>-0.12438</td>\n",
       "      <td>0.579067</td>\n",
       "      <td>51.045842</td>\n",
       "      <td>11.918407</td>\n",
       "      <td>15.29062</td>\n",
       "      <td>86.801064</td>\n",
       "    </tr>\n",
       "  </tbody>\n",
       "</table>\n",
       "</div>"
      ],
      "text/plain": [
       "     Algorithm  Training Accuracy  Validation Accuracy  Overfit By (-ve bad)  \\\n",
       "0  KNNeighbour           0.703448             0.579067              -0.12438   \n",
       "\n",
       "   R2 Score  KFold mean %  Kfold std %  fold min   fold max  \n",
       "0  0.579067     51.045842    11.918407  15.29062  86.801064  "
      ]
     },
     "execution_count": 129,
     "metadata": {},
     "output_type": "execute_result"
    }
   ],
   "source": [
    "neigh = KNeighborsRegressor()\n",
    "neigh.fit(trainingFeatures, y_train)\n",
    "\n",
    "results = cross_val_score(neigh, trainingFeatures, y_train, cv=kfold, scoring='r2')\n",
    "\n",
    "y_predict =neigh.predict(validationFeatures)\n",
    "\n",
    "\n",
    "neighResult = CreateResultMatrix(\"KNNeighbour\", neigh, trainingFeatures, y_train,validationFeatures, y_valid, y_predict,results.mean(),results.std())\n",
    "neighResult"
   ]
  },
  {
   "cell_type": "code",
   "execution_count": null,
   "metadata": {},
   "outputs": [],
   "source": [
    "# grad boost"
   ]
  },
  {
   "cell_type": "code",
   "execution_count": 130,
   "metadata": {},
   "outputs": [
    {
     "data": {
      "text/html": [
       "<div>\n",
       "<style scoped>\n",
       "    .dataframe tbody tr th:only-of-type {\n",
       "        vertical-align: middle;\n",
       "    }\n",
       "\n",
       "    .dataframe tbody tr th {\n",
       "        vertical-align: top;\n",
       "    }\n",
       "\n",
       "    .dataframe thead th {\n",
       "        text-align: right;\n",
       "    }\n",
       "</style>\n",
       "<table border=\"1\" class=\"dataframe\">\n",
       "  <thead>\n",
       "    <tr style=\"text-align: right;\">\n",
       "      <th></th>\n",
       "      <th>Algorithm</th>\n",
       "      <th>Training Accuracy</th>\n",
       "      <th>Validation Accuracy</th>\n",
       "      <th>Overfit By (-ve bad)</th>\n",
       "      <th>R2 Score</th>\n",
       "      <th>KFold mean %</th>\n",
       "      <th>Kfold std %</th>\n",
       "      <th>fold min</th>\n",
       "      <th>fold max</th>\n",
       "    </tr>\n",
       "  </thead>\n",
       "  <tbody>\n",
       "    <tr>\n",
       "      <th>0</th>\n",
       "      <td>Gradent Boosting</td>\n",
       "      <td>0.960351</td>\n",
       "      <td>0.905544</td>\n",
       "      <td>-0.054807</td>\n",
       "      <td>0.905544</td>\n",
       "      <td>87.449911</td>\n",
       "      <td>2.133968</td>\n",
       "      <td>81.048006</td>\n",
       "      <td>93.851815</td>\n",
       "    </tr>\n",
       "  </tbody>\n",
       "</table>\n",
       "</div>"
      ],
      "text/plain": [
       "          Algorithm  Training Accuracy  Validation Accuracy  \\\n",
       "0  Gradent Boosting           0.960351             0.905544   \n",
       "\n",
       "   Overfit By (-ve bad)  R2 Score  KFold mean %  Kfold std %   fold min  \\\n",
       "0             -0.054807  0.905544     87.449911     2.133968  81.048006   \n",
       "\n",
       "    fold max  \n",
       "0  93.851815  "
      ]
     },
     "execution_count": 130,
     "metadata": {},
     "output_type": "execute_result"
    }
   ],
   "source": [
    "gradBoost = GradientBoostingRegressor()\n",
    "gradBoost.fit(trainingFeatures, y_train)\n",
    "\n",
    "results = cross_val_score(gradBoost, trainingFeatures, y_train, cv=kfold, scoring='r2')\n",
    "\n",
    "y_predict =gradBoost.predict(validationFeatures)\n",
    "\n",
    "\n",
    "gradResult = CreateResultMatrix(\"Gradent Boosting\", gradBoost, trainingFeatures, y_train,validationFeatures, y_valid, y_predict,results.mean(),results.std())\n",
    "gradResult"
   ]
  },
  {
   "cell_type": "code",
   "execution_count": 131,
   "metadata": {},
   "outputs": [],
   "source": [
    "## ada boost"
   ]
  },
  {
   "cell_type": "code",
   "execution_count": 132,
   "metadata": {},
   "outputs": [
    {
     "data": {
      "text/html": [
       "<div>\n",
       "<style scoped>\n",
       "    .dataframe tbody tr th:only-of-type {\n",
       "        vertical-align: middle;\n",
       "    }\n",
       "\n",
       "    .dataframe tbody tr th {\n",
       "        vertical-align: top;\n",
       "    }\n",
       "\n",
       "    .dataframe thead th {\n",
       "        text-align: right;\n",
       "    }\n",
       "</style>\n",
       "<table border=\"1\" class=\"dataframe\">\n",
       "  <thead>\n",
       "    <tr style=\"text-align: right;\">\n",
       "      <th></th>\n",
       "      <th>Algorithm</th>\n",
       "      <th>Training Accuracy</th>\n",
       "      <th>Validation Accuracy</th>\n",
       "      <th>Overfit By (-ve bad)</th>\n",
       "      <th>R2 Score</th>\n",
       "      <th>KFold mean %</th>\n",
       "      <th>Kfold std %</th>\n",
       "      <th>fold min</th>\n",
       "      <th>fold max</th>\n",
       "    </tr>\n",
       "  </thead>\n",
       "  <tbody>\n",
       "    <tr>\n",
       "      <th>0</th>\n",
       "      <td>Ada Boost</td>\n",
       "      <td>0.856395</td>\n",
       "      <td>0.834425</td>\n",
       "      <td>-0.021969</td>\n",
       "      <td>0.834425</td>\n",
       "      <td>80.125328</td>\n",
       "      <td>3.447175</td>\n",
       "      <td>69.783803</td>\n",
       "      <td>90.466853</td>\n",
       "    </tr>\n",
       "  </tbody>\n",
       "</table>\n",
       "</div>"
      ],
      "text/plain": [
       "   Algorithm  Training Accuracy  Validation Accuracy  Overfit By (-ve bad)  \\\n",
       "0  Ada Boost           0.856395             0.834425             -0.021969   \n",
       "\n",
       "   R2 Score  KFold mean %  Kfold std %   fold min   fold max  \n",
       "0  0.834425     80.125328     3.447175  69.783803  90.466853  "
      ]
     },
     "execution_count": 132,
     "metadata": {},
     "output_type": "execute_result"
    }
   ],
   "source": [
    "adaboost = AdaBoostRegressor()\n",
    "adaboost.fit(trainingFeatures, y_train)\n",
    "\n",
    "results = cross_val_score(adaboost, trainingFeatures, y_train, cv=kfold, scoring='r2')\n",
    "\n",
    "y_predict =adaboost.predict(validationFeatures)\n",
    "\n",
    "\n",
    "adaResult = CreateResultMatrix(\"Ada Boost\", adaboost, trainingFeatures, y_train,validationFeatures, y_valid, y_predict,results.mean(),results.std())\n",
    "adaResult"
   ]
  },
  {
   "cell_type": "code",
   "execution_count": 133,
   "metadata": {},
   "outputs": [
    {
     "data": {
      "text/html": [
       "<div>\n",
       "<style scoped>\n",
       "    .dataframe tbody tr th:only-of-type {\n",
       "        vertical-align: middle;\n",
       "    }\n",
       "\n",
       "    .dataframe tbody tr th {\n",
       "        vertical-align: top;\n",
       "    }\n",
       "\n",
       "    .dataframe thead th {\n",
       "        text-align: right;\n",
       "    }\n",
       "</style>\n",
       "<table border=\"1\" class=\"dataframe\">\n",
       "  <thead>\n",
       "    <tr style=\"text-align: right;\">\n",
       "      <th></th>\n",
       "      <th>Algorithm</th>\n",
       "      <th>Training Accuracy</th>\n",
       "      <th>Validation Accuracy</th>\n",
       "      <th>Overfit By (-ve bad)</th>\n",
       "      <th>R2 Score</th>\n",
       "      <th>KFold mean %</th>\n",
       "      <th>Kfold std %</th>\n",
       "      <th>fold min</th>\n",
       "      <th>fold max</th>\n",
       "    </tr>\n",
       "  </thead>\n",
       "  <tbody>\n",
       "    <tr>\n",
       "      <th>0</th>\n",
       "      <td>Gradent Boosting</td>\n",
       "      <td>0.960351</td>\n",
       "      <td>0.905544</td>\n",
       "      <td>-0.054807</td>\n",
       "      <td>0.905544</td>\n",
       "      <td>87.449911</td>\n",
       "      <td>2.133968</td>\n",
       "      <td>81.048006</td>\n",
       "      <td>93.851815</td>\n",
       "    </tr>\n",
       "    <tr>\n",
       "      <th>0</th>\n",
       "      <td>Auto Feature Selection</td>\n",
       "      <td>0.854078</td>\n",
       "      <td>0.845112</td>\n",
       "      <td>-0.008965</td>\n",
       "      <td>0.845112</td>\n",
       "      <td>0.000000</td>\n",
       "      <td>0.000000</td>\n",
       "      <td>0.000000</td>\n",
       "      <td>0.000000</td>\n",
       "    </tr>\n",
       "    <tr>\n",
       "      <th>0</th>\n",
       "      <td>Ada Boost</td>\n",
       "      <td>0.856395</td>\n",
       "      <td>0.834425</td>\n",
       "      <td>-0.021969</td>\n",
       "      <td>0.834425</td>\n",
       "      <td>80.125328</td>\n",
       "      <td>3.447175</td>\n",
       "      <td>69.783803</td>\n",
       "      <td>90.466853</td>\n",
       "    </tr>\n",
       "    <tr>\n",
       "      <th>0</th>\n",
       "      <td>Linear Regression</td>\n",
       "      <td>0.867505</td>\n",
       "      <td>0.832609</td>\n",
       "      <td>-0.034896</td>\n",
       "      <td>0.832609</td>\n",
       "      <td>86.012438</td>\n",
       "      <td>3.154919</td>\n",
       "      <td>76.547680</td>\n",
       "      <td>95.477196</td>\n",
       "    </tr>\n",
       "    <tr>\n",
       "      <th>0</th>\n",
       "      <td>Ridge Regression</td>\n",
       "      <td>0.867505</td>\n",
       "      <td>0.832609</td>\n",
       "      <td>-0.034896</td>\n",
       "      <td>0.832609</td>\n",
       "      <td>86.012438</td>\n",
       "      <td>3.154919</td>\n",
       "      <td>76.547682</td>\n",
       "      <td>95.477195</td>\n",
       "    </tr>\n",
       "    <tr>\n",
       "      <th>0</th>\n",
       "      <td>Lasso Regression</td>\n",
       "      <td>0.867501</td>\n",
       "      <td>0.832536</td>\n",
       "      <td>-0.034965</td>\n",
       "      <td>0.832536</td>\n",
       "      <td>86.012181</td>\n",
       "      <td>3.153252</td>\n",
       "      <td>76.552426</td>\n",
       "      <td>95.471937</td>\n",
       "    </tr>\n",
       "    <tr>\n",
       "      <th>0</th>\n",
       "      <td>No feature selection</td>\n",
       "      <td>0.837726</td>\n",
       "      <td>0.801630</td>\n",
       "      <td>-0.036096</td>\n",
       "      <td>0.801630</td>\n",
       "      <td>0.000000</td>\n",
       "      <td>0.000000</td>\n",
       "      <td>0.000000</td>\n",
       "      <td>0.000000</td>\n",
       "    </tr>\n",
       "    <tr>\n",
       "      <th>0</th>\n",
       "      <td>KNNeighbour</td>\n",
       "      <td>0.703448</td>\n",
       "      <td>0.579067</td>\n",
       "      <td>-0.124380</td>\n",
       "      <td>0.579067</td>\n",
       "      <td>51.045842</td>\n",
       "      <td>11.918407</td>\n",
       "      <td>15.290620</td>\n",
       "      <td>86.801064</td>\n",
       "    </tr>\n",
       "    <tr>\n",
       "      <th>0</th>\n",
       "      <td>SVM Regression</td>\n",
       "      <td>0.219291</td>\n",
       "      <td>0.218062</td>\n",
       "      <td>-0.001229</td>\n",
       "      <td>0.218062</td>\n",
       "      <td>19.397288</td>\n",
       "      <td>2.784031</td>\n",
       "      <td>11.045196</td>\n",
       "      <td>27.749380</td>\n",
       "    </tr>\n",
       "  </tbody>\n",
       "</table>\n",
       "</div>"
      ],
      "text/plain": [
       "                Algorithm  Training Accuracy  Validation Accuracy  \\\n",
       "0        Gradent Boosting           0.960351             0.905544   \n",
       "0  Auto Feature Selection           0.854078             0.845112   \n",
       "0               Ada Boost           0.856395             0.834425   \n",
       "0       Linear Regression           0.867505             0.832609   \n",
       "0        Ridge Regression           0.867505             0.832609   \n",
       "0        Lasso Regression           0.867501             0.832536   \n",
       "0    No feature selection           0.837726             0.801630   \n",
       "0             KNNeighbour           0.703448             0.579067   \n",
       "0          SVM Regression           0.219291             0.218062   \n",
       "\n",
       "   Overfit By (-ve bad)  R2 Score  KFold mean %  Kfold std %   fold min  \\\n",
       "0             -0.054807  0.905544     87.449911     2.133968  81.048006   \n",
       "0             -0.008965  0.845112      0.000000     0.000000   0.000000   \n",
       "0             -0.021969  0.834425     80.125328     3.447175  69.783803   \n",
       "0             -0.034896  0.832609     86.012438     3.154919  76.547680   \n",
       "0             -0.034896  0.832609     86.012438     3.154919  76.547682   \n",
       "0             -0.034965  0.832536     86.012181     3.153252  76.552426   \n",
       "0             -0.036096  0.801630      0.000000     0.000000   0.000000   \n",
       "0             -0.124380  0.579067     51.045842    11.918407  15.290620   \n",
       "0             -0.001229  0.218062     19.397288     2.784031  11.045196   \n",
       "\n",
       "    fold max  \n",
       "0  93.851815  \n",
       "0   0.000000  \n",
       "0  90.466853  \n",
       "0  95.477196  \n",
       "0  95.477195  \n",
       "0  95.471937  \n",
       "0   0.000000  \n",
       "0  86.801064  \n",
       "0  27.749380  "
      ]
     },
     "execution_count": 133,
     "metadata": {},
     "output_type": "execute_result"
    }
   ],
   "source": [
    "algorithmResults = pd.concat([neighResult,ridgeResult,svrResult,lassoResult,lrResult,featureSelectionResult,gradResult,adaResult])\n",
    "algorithmResults.sort_values(by=\"R2 Score\", ascending=False)"
   ]
  },
  {
   "cell_type": "code",
   "execution_count": null,
   "metadata": {},
   "outputs": [],
   "source": [
    "## tuning"
   ]
  },
  {
   "cell_type": "code",
   "execution_count": 134,
   "metadata": {},
   "outputs": [
    {
     "data": {
      "text/plain": [
       "KNeighborsRegressor(algorithm='auto', leaf_size=30, metric='minkowski',\n",
       "                    metric_params=None, n_jobs=None, n_neighbors=3, p=1,\n",
       "                    weights='uniform')"
      ]
     },
     "execution_count": 134,
     "metadata": {},
     "output_type": "execute_result"
    }
   ],
   "source": [
    "param_grid = { \"n_neighbors\" : [1,2,3,4,5,6,7,8,9,10,11,12], \"p\" : [1,2]}\n",
    "neigh = KNeighborsRegressor()\n",
    "\n",
    "rs = RandomizedSearchCV(neigh,param_grid)\n",
    "rs.fit(validationFeatures, y_valid)\n",
    "rs.best_estimator_"
   ]
  },
  {
   "cell_type": "code",
   "execution_count": 135,
   "metadata": {},
   "outputs": [
    {
     "name": "stdout",
     "output_type": "stream",
     "text": [
      "[0.43073528 0.34344551 0.67648009 0.52279644 0.64389485]\n"
     ]
    }
   ],
   "source": [
    "neighTuned = rs.best_estimator_\n",
    "neighTuned.fit(validationFeatures, y_valid)\n",
    "\n",
    "results = cross_val_score(neighTuned, validationFeatures, y_valid, scoring='r2') #cv=kfold,\n",
    "print(results)\n",
    "\n",
    "y_predict =neighTuned.predict(validationFeatures)\n",
    "\n",
    "\n",
    "neighTunedResult = CreateResultMatrix(\"KNNeighbourTunedGrid\", neighTuned, trainingFeatures, y_train,validationFeatures, y_valid, y_predict,results.mean(),results.std())"
   ]
  },
  {
   "cell_type": "code",
   "execution_count": 136,
   "metadata": {},
   "outputs": [
    {
     "data": {
      "text/html": [
       "<div>\n",
       "<style scoped>\n",
       "    .dataframe tbody tr th:only-of-type {\n",
       "        vertical-align: middle;\n",
       "    }\n",
       "\n",
       "    .dataframe tbody tr th {\n",
       "        vertical-align: top;\n",
       "    }\n",
       "\n",
       "    .dataframe thead th {\n",
       "        text-align: right;\n",
       "    }\n",
       "</style>\n",
       "<table border=\"1\" class=\"dataframe\">\n",
       "  <thead>\n",
       "    <tr style=\"text-align: right;\">\n",
       "      <th></th>\n",
       "      <th>Algorithm</th>\n",
       "      <th>Training Accuracy</th>\n",
       "      <th>Validation Accuracy</th>\n",
       "      <th>Overfit By (-ve bad)</th>\n",
       "      <th>R2 Score</th>\n",
       "      <th>KFold mean %</th>\n",
       "      <th>Kfold std %</th>\n",
       "      <th>fold min</th>\n",
       "      <th>fold max</th>\n",
       "    </tr>\n",
       "  </thead>\n",
       "  <tbody>\n",
       "    <tr>\n",
       "      <th>0</th>\n",
       "      <td>KNNeighbourTunedGrid</td>\n",
       "      <td>0.478273</td>\n",
       "      <td>0.756007</td>\n",
       "      <td>0.277734</td>\n",
       "      <td>0.756007</td>\n",
       "      <td>52.347043</td>\n",
       "      <td>12.563696</td>\n",
       "      <td>14.655955</td>\n",
       "      <td>90.038132</td>\n",
       "    </tr>\n",
       "    <tr>\n",
       "      <th>0</th>\n",
       "      <td>KNNeighbour</td>\n",
       "      <td>0.703448</td>\n",
       "      <td>0.579067</td>\n",
       "      <td>-0.124380</td>\n",
       "      <td>0.579067</td>\n",
       "      <td>51.045842</td>\n",
       "      <td>11.918407</td>\n",
       "      <td>15.290620</td>\n",
       "      <td>86.801064</td>\n",
       "    </tr>\n",
       "  </tbody>\n",
       "</table>\n",
       "</div>"
      ],
      "text/plain": [
       "              Algorithm  Training Accuracy  Validation Accuracy  \\\n",
       "0  KNNeighbourTunedGrid           0.478273             0.756007   \n",
       "0           KNNeighbour           0.703448             0.579067   \n",
       "\n",
       "   Overfit By (-ve bad)  R2 Score  KFold mean %  Kfold std %   fold min  \\\n",
       "0              0.277734  0.756007     52.347043    12.563696  14.655955   \n",
       "0             -0.124380  0.579067     51.045842    11.918407  15.290620   \n",
       "\n",
       "    fold max  \n",
       "0  90.038132  \n",
       "0  86.801064  "
      ]
     },
     "execution_count": 136,
     "metadata": {},
     "output_type": "execute_result"
    }
   ],
   "source": [
    "neigh = pd.concat([neighTunedResult,neighResult])\n",
    "neigh"
   ]
  },
  {
   "cell_type": "code",
   "execution_count": 137,
   "metadata": {},
   "outputs": [],
   "source": [
    "## svm tuning"
   ]
  },
  {
   "cell_type": "code",
   "execution_count": 138,
   "metadata": {},
   "outputs": [],
   "source": [
    "#svr\n",
    "param_grid = {'C': [0.1,0.25,0.5,0.75,0.9,0.99, 1,1.1,1.5,1.75,2,2.5,3,3.5,4,4.5,5,5.5,6,6.5,10,25,50,100,150,200,225,250,275,300]\n",
    "              ,'epsilon':[0.1,0.25,0.5,0.75,0.9,0.99]\n",
    "              ,\"gamma\" : ['scale', 'auto'], \"tol\" :[0.001,0.01,0.1,0.25,0.5,0.75,0.9,0.99,1,2]\n",
    "              , \"shrinking\" :[True, False]}"
   ]
  },
  {
   "cell_type": "code",
   "execution_count": 139,
   "metadata": {},
   "outputs": [],
   "source": [
    "from sklearn import svm\n",
    "\n",
    "svr = svm.SVR()"
   ]
  },
  {
   "cell_type": "code",
   "execution_count": 140,
   "metadata": {},
   "outputs": [
    {
     "data": {
      "text/plain": [
       "SVR(C=25, cache_size=200, coef0=0.0, degree=3, epsilon=0.99, gamma='scale',\n",
       "    kernel='rbf', max_iter=-1, shrinking=False, tol=0.01, verbose=False)"
      ]
     },
     "execution_count": 140,
     "metadata": {},
     "output_type": "execute_result"
    }
   ],
   "source": [
    "rs = RandomizedSearchCV(svr,param_grid)\n",
    "rs.fit(validationFeatures, y_valid)\n",
    "rs.best_estimator_"
   ]
  },
  {
   "cell_type": "code",
   "execution_count": 141,
   "metadata": {},
   "outputs": [
    {
     "data": {
      "text/plain": [
       "[array([ 0.26895395,  0.51906582,  0.27898886,  0.53672062,  0.46615034,\n",
       "         0.43095236, -0.18506503,  0.39518988,  0.51126737,  0.36187377]),\n",
       " 0.3584097954469337]"
      ]
     },
     "metadata": {},
     "output_type": "display_data"
    }
   ],
   "source": [
    "svrTuned = rs.best_estimator_\n",
    "svrTuned.fit(validationFeatures, y_valid)\n",
    "\n",
    "results = cross_val_score(svrTuned, validationFeatures, y_valid, cv=kfold, scoring='r2')\n",
    "\n",
    "display([results,results.mean()])\n",
    "\n",
    "y_predict =svrTuned.predict(validationFeatures)\n",
    "\n",
    "\n",
    "svrTunedResult = CreateResultMatrix(\"SVM Tuned Regression\", svrTuned, trainingFeatures, y_train,validationFeatures, y_valid, y_predict,results.mean(),results.std())"
   ]
  },
  {
   "cell_type": "code",
   "execution_count": 142,
   "metadata": {},
   "outputs": [
    {
     "data": {
      "text/html": [
       "<div>\n",
       "<style scoped>\n",
       "    .dataframe tbody tr th:only-of-type {\n",
       "        vertical-align: middle;\n",
       "    }\n",
       "\n",
       "    .dataframe tbody tr th {\n",
       "        vertical-align: top;\n",
       "    }\n",
       "\n",
       "    .dataframe thead th {\n",
       "        text-align: right;\n",
       "    }\n",
       "</style>\n",
       "<table border=\"1\" class=\"dataframe\">\n",
       "  <thead>\n",
       "    <tr style=\"text-align: right;\">\n",
       "      <th></th>\n",
       "      <th>Algorithm</th>\n",
       "      <th>Training Accuracy</th>\n",
       "      <th>Validation Accuracy</th>\n",
       "      <th>Overfit By (-ve bad)</th>\n",
       "      <th>R2 Score</th>\n",
       "      <th>KFold mean %</th>\n",
       "      <th>Kfold std %</th>\n",
       "      <th>fold min</th>\n",
       "      <th>fold max</th>\n",
       "    </tr>\n",
       "  </thead>\n",
       "  <tbody>\n",
       "    <tr>\n",
       "      <th>0</th>\n",
       "      <td>SVM Tuned Regression</td>\n",
       "      <td>0.382086</td>\n",
       "      <td>0.420721</td>\n",
       "      <td>0.038635</td>\n",
       "      <td>0.420721</td>\n",
       "      <td>35.840980</td>\n",
       "      <td>20.220798</td>\n",
       "      <td>-24.821416</td>\n",
       "      <td>96.503375</td>\n",
       "    </tr>\n",
       "    <tr>\n",
       "      <th>0</th>\n",
       "      <td>SVM Regression</td>\n",
       "      <td>0.219291</td>\n",
       "      <td>0.218062</td>\n",
       "      <td>-0.001229</td>\n",
       "      <td>0.218062</td>\n",
       "      <td>19.397288</td>\n",
       "      <td>2.784031</td>\n",
       "      <td>11.045196</td>\n",
       "      <td>27.749380</td>\n",
       "    </tr>\n",
       "  </tbody>\n",
       "</table>\n",
       "</div>"
      ],
      "text/plain": [
       "              Algorithm  Training Accuracy  Validation Accuracy  \\\n",
       "0  SVM Tuned Regression           0.382086             0.420721   \n",
       "0        SVM Regression           0.219291             0.218062   \n",
       "\n",
       "   Overfit By (-ve bad)  R2 Score  KFold mean %  Kfold std %   fold min  \\\n",
       "0              0.038635  0.420721     35.840980    20.220798 -24.821416   \n",
       "0             -0.001229  0.218062     19.397288     2.784031  11.045196   \n",
       "\n",
       "    fold max  \n",
       "0  96.503375  \n",
       "0  27.749380  "
      ]
     },
     "execution_count": 142,
     "metadata": {},
     "output_type": "execute_result"
    }
   ],
   "source": [
    "svm= pd.concat([svrTunedResult,svrResult])\n",
    "svm"
   ]
  },
  {
   "cell_type": "code",
   "execution_count": null,
   "metadata": {},
   "outputs": [],
   "source": [
    "# lasso"
   ]
  },
  {
   "cell_type": "code",
   "execution_count": 143,
   "metadata": {},
   "outputs": [],
   "source": [
    "param_grid = { \n",
    "                \"alpha\" : [0.01,0.1,0.25,0.5,0.75,0.9,0.99]\n",
    "                ,\"fit_intercept\": [True,False]\n",
    "                ,\"tol\":[0.01,0.1,1,5,10]\n",
    "                , \"positive\" : [True, False]\n",
    "             }"
   ]
  },
  {
   "cell_type": "code",
   "execution_count": 144,
   "metadata": {},
   "outputs": [],
   "source": [
    "lasso = Lasso(random_state=88,max_iter= 2200)"
   ]
  },
  {
   "cell_type": "code",
   "execution_count": 145,
   "metadata": {},
   "outputs": [
    {
     "data": {
      "text/plain": [
       "Lasso(alpha=0.5, copy_X=True, fit_intercept=True, max_iter=2200,\n",
       "      normalize=False, positive=True, precompute=False, random_state=88,\n",
       "      selection='cyclic', tol=0.01, warm_start=False)"
      ]
     },
     "execution_count": 145,
     "metadata": {},
     "output_type": "execute_result"
    }
   ],
   "source": [
    "rs = RandomizedSearchCV(lasso,param_grid)\n",
    "rs.fit(validationFeatures, y_valid)\n",
    "rs.best_estimator_"
   ]
  },
  {
   "cell_type": "code",
   "execution_count": 146,
   "metadata": {},
   "outputs": [
    {
     "data": {
      "text/plain": [
       "[array([0.78850726, 0.81971557, 0.83686974, 0.84740393, 0.83472961,\n",
       "        0.82659649, 0.90165054, 0.78813576, 0.83063134, 0.86791918]),\n",
       " 0.834215941312574]"
      ]
     },
     "metadata": {},
     "output_type": "display_data"
    }
   ],
   "source": [
    "lassoTuned = rs.best_estimator_ \n",
    "lassoTuned.fit(trainingFeatures, y_train)\n",
    "\n",
    "\n",
    "results = cross_val_score(lassoTuned, trainingFeatures, y_train, cv=kfold, scoring='r2')\n",
    "display([results,results.mean()])\n",
    "\n",
    "\n",
    "\n",
    "y_predict =lassoTuned.predict(validationFeatures)\n",
    "\n",
    "lassoTunedResult = CreateResultMatrix(\"Lasso Regression Tuned\", lassoTuned\n",
    "                                      , trainingFeatures, y_train\n",
    "                                      ,validationFeatures, y_valid\n",
    "                                      , y_predict,results.mean(),results.std())"
   ]
  },
  {
   "cell_type": "code",
   "execution_count": 147,
   "metadata": {},
   "outputs": [
    {
     "data": {
      "text/html": [
       "<div>\n",
       "<style scoped>\n",
       "    .dataframe tbody tr th:only-of-type {\n",
       "        vertical-align: middle;\n",
       "    }\n",
       "\n",
       "    .dataframe tbody tr th {\n",
       "        vertical-align: top;\n",
       "    }\n",
       "\n",
       "    .dataframe thead th {\n",
       "        text-align: right;\n",
       "    }\n",
       "</style>\n",
       "<table border=\"1\" class=\"dataframe\">\n",
       "  <thead>\n",
       "    <tr style=\"text-align: right;\">\n",
       "      <th></th>\n",
       "      <th>Algorithm</th>\n",
       "      <th>Training Accuracy</th>\n",
       "      <th>Validation Accuracy</th>\n",
       "      <th>Overfit By (-ve bad)</th>\n",
       "      <th>R2 Score</th>\n",
       "      <th>KFold mean %</th>\n",
       "      <th>Kfold std %</th>\n",
       "      <th>fold min</th>\n",
       "      <th>fold max</th>\n",
       "    </tr>\n",
       "  </thead>\n",
       "  <tbody>\n",
       "    <tr>\n",
       "      <th>0</th>\n",
       "      <td>Lasso Regression</td>\n",
       "      <td>0.867501</td>\n",
       "      <td>0.832536</td>\n",
       "      <td>-0.034965</td>\n",
       "      <td>0.832536</td>\n",
       "      <td>86.012181</td>\n",
       "      <td>3.153252</td>\n",
       "      <td>76.552426</td>\n",
       "      <td>95.471937</td>\n",
       "    </tr>\n",
       "    <tr>\n",
       "      <th>0</th>\n",
       "      <td>Lasso Regression Tuned</td>\n",
       "      <td>0.840576</td>\n",
       "      <td>0.810517</td>\n",
       "      <td>-0.030059</td>\n",
       "      <td>0.810517</td>\n",
       "      <td>83.421594</td>\n",
       "      <td>3.218446</td>\n",
       "      <td>73.766256</td>\n",
       "      <td>93.076933</td>\n",
       "    </tr>\n",
       "  </tbody>\n",
       "</table>\n",
       "</div>"
      ],
      "text/plain": [
       "                Algorithm  Training Accuracy  Validation Accuracy  \\\n",
       "0        Lasso Regression           0.867501             0.832536   \n",
       "0  Lasso Regression Tuned           0.840576             0.810517   \n",
       "\n",
       "   Overfit By (-ve bad)  R2 Score  KFold mean %  Kfold std %   fold min  \\\n",
       "0             -0.034965  0.832536     86.012181     3.153252  76.552426   \n",
       "0             -0.030059  0.810517     83.421594     3.218446  73.766256   \n",
       "\n",
       "    fold max  \n",
       "0  95.471937  \n",
       "0  93.076933  "
      ]
     },
     "execution_count": 147,
     "metadata": {},
     "output_type": "execute_result"
    }
   ],
   "source": [
    "lasso= pd.concat([lassoResult,lassoTunedResult])\n",
    "lasso"
   ]
  },
  {
   "cell_type": "code",
   "execution_count": 148,
   "metadata": {},
   "outputs": [],
   "source": [
    "#ridge"
   ]
  },
  {
   "cell_type": "code",
   "execution_count": 149,
   "metadata": {},
   "outputs": [],
   "source": [
    "param_grid = { \n",
    "                \"alpha\" : [0.01,0.1,0.25,0.5,0.75,0.9,1,5]\n",
    "               , \"solver\" : ['auto', 'svd', 'cholesky', 'lsqr', 'sparse_cg', 'sag', 'saga'],\n",
    "             }"
   ]
  },
  {
   "cell_type": "code",
   "execution_count": 150,
   "metadata": {},
   "outputs": [],
   "source": [
    "ridge = Ridge(random_state=88)"
   ]
  },
  {
   "cell_type": "code",
   "execution_count": 151,
   "metadata": {},
   "outputs": [
    {
     "data": {
      "text/plain": [
       "Ridge(alpha=0.1, copy_X=True, fit_intercept=True, max_iter=None,\n",
       "      normalize=False, random_state=88, solver='auto', tol=0.001)"
      ]
     },
     "execution_count": 151,
     "metadata": {},
     "output_type": "execute_result"
    }
   ],
   "source": [
    "rs = RandomizedSearchCV(ridge,param_grid)\n",
    "rs.fit(validationFeatures, y_valid)\n",
    "rs.best_estimator_"
   ]
  },
  {
   "cell_type": "code",
   "execution_count": 152,
   "metadata": {},
   "outputs": [
    {
     "data": {
      "text/html": [
       "<div>\n",
       "<style scoped>\n",
       "    .dataframe tbody tr th:only-of-type {\n",
       "        vertical-align: middle;\n",
       "    }\n",
       "\n",
       "    .dataframe tbody tr th {\n",
       "        vertical-align: top;\n",
       "    }\n",
       "\n",
       "    .dataframe thead th {\n",
       "        text-align: right;\n",
       "    }\n",
       "</style>\n",
       "<table border=\"1\" class=\"dataframe\">\n",
       "  <thead>\n",
       "    <tr style=\"text-align: right;\">\n",
       "      <th></th>\n",
       "      <th>Algorithm</th>\n",
       "      <th>Training Accuracy</th>\n",
       "      <th>Validation Accuracy</th>\n",
       "      <th>Overfit By (-ve bad)</th>\n",
       "      <th>R2 Score</th>\n",
       "      <th>KFold mean %</th>\n",
       "      <th>Kfold std %</th>\n",
       "      <th>fold min</th>\n",
       "      <th>fold max</th>\n",
       "    </tr>\n",
       "  </thead>\n",
       "  <tbody>\n",
       "    <tr>\n",
       "      <th>0</th>\n",
       "      <td>Ridge Regression Tuned</td>\n",
       "      <td>0.854078</td>\n",
       "      <td>0.845112</td>\n",
       "      <td>-0.008965</td>\n",
       "      <td>0.845112</td>\n",
       "      <td>81.817036</td>\n",
       "      <td>5.574620</td>\n",
       "      <td>65.093176</td>\n",
       "      <td>98.540896</td>\n",
       "    </tr>\n",
       "    <tr>\n",
       "      <th>0</th>\n",
       "      <td>Ridge Regression</td>\n",
       "      <td>0.867505</td>\n",
       "      <td>0.832609</td>\n",
       "      <td>-0.034896</td>\n",
       "      <td>0.832609</td>\n",
       "      <td>86.012438</td>\n",
       "      <td>3.154919</td>\n",
       "      <td>76.547682</td>\n",
       "      <td>95.477195</td>\n",
       "    </tr>\n",
       "  </tbody>\n",
       "</table>\n",
       "</div>"
      ],
      "text/plain": [
       "                Algorithm  Training Accuracy  Validation Accuracy  \\\n",
       "0  Ridge Regression Tuned           0.854078             0.845112   \n",
       "0        Ridge Regression           0.867505             0.832609   \n",
       "\n",
       "   Overfit By (-ve bad)  R2 Score  KFold mean %  Kfold std %   fold min  \\\n",
       "0             -0.008965  0.845112     81.817036     5.574620  65.093176   \n",
       "0             -0.034896  0.832609     86.012438     3.154919  76.547682   \n",
       "\n",
       "    fold max  \n",
       "0  98.540896  \n",
       "0  95.477195  "
      ]
     },
     "execution_count": 152,
     "metadata": {},
     "output_type": "execute_result"
    }
   ],
   "source": [
    "ridgeTuned = rs.best_estimator_\n",
    "ridgeTuned.fit(validationFeatures, y_valid)\n",
    "\n",
    "results = cross_val_score(ridgeTuned, validationFeatures, y_valid, cv=kfold, scoring='r2')\n",
    "\n",
    "y_predict =ridgeTuned.predict(validationFeatures)\n",
    "\n",
    "ridgeTunedResult = CreateResultMatrix(\"Ridge Regression Tuned\", ridgeTuned\n",
    "                                      , trainingFeatures, y_train\n",
    "                                      ,validationFeatures, y_valid\n",
    "                                      , y_predict,results.mean(),results.std())\n",
    "\n",
    "ridge = pd.concat([ridgeTunedResult,ridgeResult])\n",
    "ridge"
   ]
  },
  {
   "cell_type": "code",
   "execution_count": null,
   "metadata": {},
   "outputs": [],
   "source": [
    "## GradientBoostingRegressor(random_state=88)"
   ]
  },
  {
   "cell_type": "code",
   "execution_count": 153,
   "metadata": {},
   "outputs": [],
   "source": [
    "param_grid = { \n",
    "                \"loss\" : ['ls', 'lad', 'huber', 'quantile']\n",
    "                , \"learning_rate\" : [0.05,0.1,0.15,0.2]\n",
    "                , \"n_estimators\" : [75,100,125]\n",
    "}"
   ]
  },
  {
   "cell_type": "code",
   "execution_count": 154,
   "metadata": {},
   "outputs": [],
   "source": [
    "gradBoostTuned = GradientBoostingRegressor(random_state=88)"
   ]
  },
  {
   "cell_type": "code",
   "execution_count": 155,
   "metadata": {},
   "outputs": [
    {
     "data": {
      "text/plain": [
       "GradientBoostingRegressor(alpha=0.9, ccp_alpha=0.0, criterion='friedman_mse',\n",
       "                          init=None, learning_rate=0.2, loss='ls', max_depth=3,\n",
       "                          max_features=None, max_leaf_nodes=None,\n",
       "                          min_impurity_decrease=0.0, min_impurity_split=None,\n",
       "                          min_samples_leaf=1, min_samples_split=2,\n",
       "                          min_weight_fraction_leaf=0.0, n_estimators=75,\n",
       "                          n_iter_no_change=None, presort='deprecated',\n",
       "                          random_state=88, subsample=1.0, tol=0.0001,\n",
       "                          validation_fraction=0.1, verbose=0, warm_start=False)"
      ]
     },
     "execution_count": 155,
     "metadata": {},
     "output_type": "execute_result"
    }
   ],
   "source": [
    "rs = RandomizedSearchCV(gradBoostTuned,param_grid)\n",
    "rs.fit(validationFeatures, y_valid)\n",
    "rs.best_estimator_"
   ]
  },
  {
   "cell_type": "code",
   "execution_count": 156,
   "metadata": {},
   "outputs": [
    {
     "data": {
      "text/html": [
       "<div>\n",
       "<style scoped>\n",
       "    .dataframe tbody tr th:only-of-type {\n",
       "        vertical-align: middle;\n",
       "    }\n",
       "\n",
       "    .dataframe tbody tr th {\n",
       "        vertical-align: top;\n",
       "    }\n",
       "\n",
       "    .dataframe thead th {\n",
       "        text-align: right;\n",
       "    }\n",
       "</style>\n",
       "<table border=\"1\" class=\"dataframe\">\n",
       "  <thead>\n",
       "    <tr style=\"text-align: right;\">\n",
       "      <th></th>\n",
       "      <th>Algorithm</th>\n",
       "      <th>Training Accuracy</th>\n",
       "      <th>Validation Accuracy</th>\n",
       "      <th>Overfit By (-ve bad)</th>\n",
       "      <th>R2 Score</th>\n",
       "      <th>KFold mean %</th>\n",
       "      <th>Kfold std %</th>\n",
       "      <th>fold min</th>\n",
       "      <th>fold max</th>\n",
       "    </tr>\n",
       "  </thead>\n",
       "  <tbody>\n",
       "    <tr>\n",
       "      <th>0</th>\n",
       "      <td>Grad Boosted Tuned</td>\n",
       "      <td>0.847251</td>\n",
       "      <td>0.992538</td>\n",
       "      <td>0.145287</td>\n",
       "      <td>0.845112</td>\n",
       "      <td>83.258847</td>\n",
       "      <td>5.369322</td>\n",
       "      <td>67.150881</td>\n",
       "      <td>99.366813</td>\n",
       "    </tr>\n",
       "    <tr>\n",
       "      <th>0</th>\n",
       "      <td>Gradent Boosting</td>\n",
       "      <td>0.960351</td>\n",
       "      <td>0.905544</td>\n",
       "      <td>-0.054807</td>\n",
       "      <td>0.905544</td>\n",
       "      <td>87.449911</td>\n",
       "      <td>2.133968</td>\n",
       "      <td>81.048006</td>\n",
       "      <td>93.851815</td>\n",
       "    </tr>\n",
       "  </tbody>\n",
       "</table>\n",
       "</div>"
      ],
      "text/plain": [
       "            Algorithm  Training Accuracy  Validation Accuracy  \\\n",
       "0  Grad Boosted Tuned           0.847251             0.992538   \n",
       "0    Gradent Boosting           0.960351             0.905544   \n",
       "\n",
       "   Overfit By (-ve bad)  R2 Score  KFold mean %  Kfold std %   fold min  \\\n",
       "0              0.145287  0.845112     83.258847     5.369322  67.150881   \n",
       "0             -0.054807  0.905544     87.449911     2.133968  81.048006   \n",
       "\n",
       "    fold max  \n",
       "0  99.366813  \n",
       "0  93.851815  "
      ]
     },
     "execution_count": 156,
     "metadata": {},
     "output_type": "execute_result"
    }
   ],
   "source": [
    "gradBoostTuned = rs.best_estimator_\n",
    "gradBoostTuned.fit(validationFeatures, y_valid)\n",
    "\n",
    "\n",
    "results = cross_val_score(gradBoostTuned, validationFeatures, y_valid, cv=kfold, scoring='r2')\n",
    "\n",
    "y_predict =ridgeTuned.predict(validationFeatures)\n",
    "gradTunedResult = CreateResultMatrix(\"Grad Boosted Tuned\", gradBoostTuned\n",
    "                                      , trainingFeatures, y_train\n",
    "                                      ,validationFeatures, y_valid\n",
    "                                      , y_predict,results.mean(),results.std())\n",
    "\n",
    "grad = pd.concat([gradTunedResult,gradResult])\n",
    "grad"
   ]
  },
  {
   "cell_type": "code",
   "execution_count": null,
   "metadata": {},
   "outputs": [],
   "source": [
    "## ada boosting"
   ]
  },
  {
   "cell_type": "code",
   "execution_count": 157,
   "metadata": {},
   "outputs": [],
   "source": [
    "param_grid = { \n",
    "                \"n_estimators\" : [750,1000,1250,1500]\n",
    "               , \"learning_rate\" : [0.05,0.1,0.15,0.2]\n",
    "                , \"loss\" : ['linear', 'square', 'exponential']\n",
    "             }"
   ]
  },
  {
   "cell_type": "code",
   "execution_count": 158,
   "metadata": {},
   "outputs": [],
   "source": [
    "adaboost = AdaBoostRegressor(random_state=88)"
   ]
  },
  {
   "cell_type": "code",
   "execution_count": 159,
   "metadata": {},
   "outputs": [
    {
     "data": {
      "text/plain": [
       "AdaBoostRegressor(base_estimator=None, learning_rate=0.1, loss='linear',\n",
       "                  n_estimators=1000, random_state=88)"
      ]
     },
     "execution_count": 159,
     "metadata": {},
     "output_type": "execute_result"
    }
   ],
   "source": [
    "rs = RandomizedSearchCV(adaboost,param_grid)\n",
    "rs.fit(validationFeatures, y_valid)\n",
    "rs.best_estimator_"
   ]
  },
  {
   "cell_type": "code",
   "execution_count": 160,
   "metadata": {},
   "outputs": [
    {
     "data": {
      "text/html": [
       "<div>\n",
       "<style scoped>\n",
       "    .dataframe tbody tr th:only-of-type {\n",
       "        vertical-align: middle;\n",
       "    }\n",
       "\n",
       "    .dataframe tbody tr th {\n",
       "        vertical-align: top;\n",
       "    }\n",
       "\n",
       "    .dataframe thead th {\n",
       "        text-align: right;\n",
       "    }\n",
       "</style>\n",
       "<table border=\"1\" class=\"dataframe\">\n",
       "  <thead>\n",
       "    <tr style=\"text-align: right;\">\n",
       "      <th></th>\n",
       "      <th>Algorithm</th>\n",
       "      <th>Training Accuracy</th>\n",
       "      <th>Validation Accuracy</th>\n",
       "      <th>Overfit By (-ve bad)</th>\n",
       "      <th>R2 Score</th>\n",
       "      <th>KFold mean %</th>\n",
       "      <th>Kfold std %</th>\n",
       "      <th>fold min</th>\n",
       "      <th>fold max</th>\n",
       "    </tr>\n",
       "  </thead>\n",
       "  <tbody>\n",
       "    <tr>\n",
       "      <th>0</th>\n",
       "      <td>Ada Tuned</td>\n",
       "      <td>0.805802</td>\n",
       "      <td>0.899178</td>\n",
       "      <td>0.093375</td>\n",
       "      <td>0.845112</td>\n",
       "      <td>79.427603</td>\n",
       "      <td>6.468991</td>\n",
       "      <td>60.020629</td>\n",
       "      <td>98.834577</td>\n",
       "    </tr>\n",
       "    <tr>\n",
       "      <th>0</th>\n",
       "      <td>Ada Boost</td>\n",
       "      <td>0.856395</td>\n",
       "      <td>0.834425</td>\n",
       "      <td>-0.021969</td>\n",
       "      <td>0.834425</td>\n",
       "      <td>80.125328</td>\n",
       "      <td>3.447175</td>\n",
       "      <td>69.783803</td>\n",
       "      <td>90.466853</td>\n",
       "    </tr>\n",
       "  </tbody>\n",
       "</table>\n",
       "</div>"
      ],
      "text/plain": [
       "   Algorithm  Training Accuracy  Validation Accuracy  Overfit By (-ve bad)  \\\n",
       "0  Ada Tuned           0.805802             0.899178              0.093375   \n",
       "0  Ada Boost           0.856395             0.834425             -0.021969   \n",
       "\n",
       "   R2 Score  KFold mean %  Kfold std %   fold min   fold max  \n",
       "0  0.845112     79.427603     6.468991  60.020629  98.834577  \n",
       "0  0.834425     80.125328     3.447175  69.783803  90.466853  "
      ]
     },
     "execution_count": 160,
     "metadata": {},
     "output_type": "execute_result"
    }
   ],
   "source": [
    "adaTuned = rs.best_estimator_\n",
    "\n",
    "adaTuned.fit(validationFeatures, y_valid)\n",
    "\n",
    "\n",
    "results = cross_val_score(adaTuned, validationFeatures, y_valid, cv=kfold, scoring='r2')\n",
    "\n",
    "y_predict =ridgeTuned.predict(validationFeatures)\n",
    "adaTunedResult = CreateResultMatrix(\"Ada Tuned\", adaTuned\n",
    "                                      , trainingFeatures, y_train\n",
    "                                      ,validationFeatures, y_valid\n",
    "                                      , y_predict,results.mean(),results.std())\n",
    "\n",
    "ada = pd.concat([adaTunedResult,adaResult])\n",
    "ada"
   ]
  },
  {
   "cell_type": "code",
   "execution_count": 161,
   "metadata": {},
   "outputs": [],
   "source": [
    "## conclusions"
   ]
  },
  {
   "cell_type": "code",
   "execution_count": 162,
   "metadata": {},
   "outputs": [
    {
     "data": {
      "text/html": [
       "<div>\n",
       "<style scoped>\n",
       "    .dataframe tbody tr th:only-of-type {\n",
       "        vertical-align: middle;\n",
       "    }\n",
       "\n",
       "    .dataframe tbody tr th {\n",
       "        vertical-align: top;\n",
       "    }\n",
       "\n",
       "    .dataframe thead th {\n",
       "        text-align: right;\n",
       "    }\n",
       "</style>\n",
       "<table border=\"1\" class=\"dataframe\">\n",
       "  <thead>\n",
       "    <tr style=\"text-align: right;\">\n",
       "      <th></th>\n",
       "      <th>Algorithm</th>\n",
       "      <th>Training Accuracy</th>\n",
       "      <th>Validation Accuracy</th>\n",
       "      <th>Overfit By (-ve bad)</th>\n",
       "      <th>R2 Score</th>\n",
       "      <th>KFold mean %</th>\n",
       "      <th>Kfold std %</th>\n",
       "      <th>fold min</th>\n",
       "      <th>fold max</th>\n",
       "    </tr>\n",
       "  </thead>\n",
       "  <tbody>\n",
       "    <tr>\n",
       "      <th>0</th>\n",
       "      <td>Gradent Boosting</td>\n",
       "      <td>0.960351</td>\n",
       "      <td>0.905544</td>\n",
       "      <td>-0.054807</td>\n",
       "      <td>0.905544</td>\n",
       "      <td>87.449911</td>\n",
       "      <td>2.133968</td>\n",
       "      <td>81.048006</td>\n",
       "      <td>93.851815</td>\n",
       "    </tr>\n",
       "    <tr>\n",
       "      <th>0</th>\n",
       "      <td>Ridge Regression Tuned</td>\n",
       "      <td>0.854078</td>\n",
       "      <td>0.845112</td>\n",
       "      <td>-0.008965</td>\n",
       "      <td>0.845112</td>\n",
       "      <td>81.817036</td>\n",
       "      <td>5.574620</td>\n",
       "      <td>65.093176</td>\n",
       "      <td>98.540896</td>\n",
       "    </tr>\n",
       "    <tr>\n",
       "      <th>0</th>\n",
       "      <td>Ada Tuned</td>\n",
       "      <td>0.805802</td>\n",
       "      <td>0.899178</td>\n",
       "      <td>0.093375</td>\n",
       "      <td>0.845112</td>\n",
       "      <td>79.427603</td>\n",
       "      <td>6.468991</td>\n",
       "      <td>60.020629</td>\n",
       "      <td>98.834577</td>\n",
       "    </tr>\n",
       "    <tr>\n",
       "      <th>0</th>\n",
       "      <td>Grad Boosted Tuned</td>\n",
       "      <td>0.847251</td>\n",
       "      <td>0.992538</td>\n",
       "      <td>0.145287</td>\n",
       "      <td>0.845112</td>\n",
       "      <td>83.258847</td>\n",
       "      <td>5.369322</td>\n",
       "      <td>67.150881</td>\n",
       "      <td>99.366813</td>\n",
       "    </tr>\n",
       "    <tr>\n",
       "      <th>0</th>\n",
       "      <td>Ada Boost</td>\n",
       "      <td>0.856395</td>\n",
       "      <td>0.834425</td>\n",
       "      <td>-0.021969</td>\n",
       "      <td>0.834425</td>\n",
       "      <td>80.125328</td>\n",
       "      <td>3.447175</td>\n",
       "      <td>69.783803</td>\n",
       "      <td>90.466853</td>\n",
       "    </tr>\n",
       "    <tr>\n",
       "      <th>0</th>\n",
       "      <td>Ridge Regression</td>\n",
       "      <td>0.867505</td>\n",
       "      <td>0.832609</td>\n",
       "      <td>-0.034896</td>\n",
       "      <td>0.832609</td>\n",
       "      <td>86.012438</td>\n",
       "      <td>3.154919</td>\n",
       "      <td>76.547682</td>\n",
       "      <td>95.477195</td>\n",
       "    </tr>\n",
       "    <tr>\n",
       "      <th>0</th>\n",
       "      <td>Lasso Regression</td>\n",
       "      <td>0.867501</td>\n",
       "      <td>0.832536</td>\n",
       "      <td>-0.034965</td>\n",
       "      <td>0.832536</td>\n",
       "      <td>86.012181</td>\n",
       "      <td>3.153252</td>\n",
       "      <td>76.552426</td>\n",
       "      <td>95.471937</td>\n",
       "    </tr>\n",
       "    <tr>\n",
       "      <th>0</th>\n",
       "      <td>Lasso Regression Tuned</td>\n",
       "      <td>0.840576</td>\n",
       "      <td>0.810517</td>\n",
       "      <td>-0.030059</td>\n",
       "      <td>0.810517</td>\n",
       "      <td>83.421594</td>\n",
       "      <td>3.218446</td>\n",
       "      <td>73.766256</td>\n",
       "      <td>93.076933</td>\n",
       "    </tr>\n",
       "    <tr>\n",
       "      <th>0</th>\n",
       "      <td>KNNeighbourTunedGrid</td>\n",
       "      <td>0.478273</td>\n",
       "      <td>0.756007</td>\n",
       "      <td>0.277734</td>\n",
       "      <td>0.756007</td>\n",
       "      <td>52.347043</td>\n",
       "      <td>12.563696</td>\n",
       "      <td>14.655955</td>\n",
       "      <td>90.038132</td>\n",
       "    </tr>\n",
       "    <tr>\n",
       "      <th>0</th>\n",
       "      <td>KNNeighbour</td>\n",
       "      <td>0.703448</td>\n",
       "      <td>0.579067</td>\n",
       "      <td>-0.124380</td>\n",
       "      <td>0.579067</td>\n",
       "      <td>51.045842</td>\n",
       "      <td>11.918407</td>\n",
       "      <td>15.290620</td>\n",
       "      <td>86.801064</td>\n",
       "    </tr>\n",
       "    <tr>\n",
       "      <th>0</th>\n",
       "      <td>SVM Tuned Regression</td>\n",
       "      <td>0.382086</td>\n",
       "      <td>0.420721</td>\n",
       "      <td>0.038635</td>\n",
       "      <td>0.420721</td>\n",
       "      <td>35.840980</td>\n",
       "      <td>20.220798</td>\n",
       "      <td>-24.821416</td>\n",
       "      <td>96.503375</td>\n",
       "    </tr>\n",
       "    <tr>\n",
       "      <th>0</th>\n",
       "      <td>SVM Regression</td>\n",
       "      <td>0.219291</td>\n",
       "      <td>0.218062</td>\n",
       "      <td>-0.001229</td>\n",
       "      <td>0.218062</td>\n",
       "      <td>19.397288</td>\n",
       "      <td>2.784031</td>\n",
       "      <td>11.045196</td>\n",
       "      <td>27.749380</td>\n",
       "    </tr>\n",
       "  </tbody>\n",
       "</table>\n",
       "</div>"
      ],
      "text/plain": [
       "                Algorithm  Training Accuracy  Validation Accuracy  \\\n",
       "0        Gradent Boosting           0.960351             0.905544   \n",
       "0  Ridge Regression Tuned           0.854078             0.845112   \n",
       "0               Ada Tuned           0.805802             0.899178   \n",
       "0      Grad Boosted Tuned           0.847251             0.992538   \n",
       "0               Ada Boost           0.856395             0.834425   \n",
       "0        Ridge Regression           0.867505             0.832609   \n",
       "0        Lasso Regression           0.867501             0.832536   \n",
       "0  Lasso Regression Tuned           0.840576             0.810517   \n",
       "0    KNNeighbourTunedGrid           0.478273             0.756007   \n",
       "0             KNNeighbour           0.703448             0.579067   \n",
       "0    SVM Tuned Regression           0.382086             0.420721   \n",
       "0          SVM Regression           0.219291             0.218062   \n",
       "\n",
       "   Overfit By (-ve bad)  R2 Score  KFold mean %  Kfold std %   fold min  \\\n",
       "0             -0.054807  0.905544     87.449911     2.133968  81.048006   \n",
       "0             -0.008965  0.845112     81.817036     5.574620  65.093176   \n",
       "0              0.093375  0.845112     79.427603     6.468991  60.020629   \n",
       "0              0.145287  0.845112     83.258847     5.369322  67.150881   \n",
       "0             -0.021969  0.834425     80.125328     3.447175  69.783803   \n",
       "0             -0.034896  0.832609     86.012438     3.154919  76.547682   \n",
       "0             -0.034965  0.832536     86.012181     3.153252  76.552426   \n",
       "0             -0.030059  0.810517     83.421594     3.218446  73.766256   \n",
       "0              0.277734  0.756007     52.347043    12.563696  14.655955   \n",
       "0             -0.124380  0.579067     51.045842    11.918407  15.290620   \n",
       "0              0.038635  0.420721     35.840980    20.220798 -24.821416   \n",
       "0             -0.001229  0.218062     19.397288     2.784031  11.045196   \n",
       "\n",
       "    fold max  \n",
       "0  93.851815  \n",
       "0  98.540896  \n",
       "0  98.834577  \n",
       "0  99.366813  \n",
       "0  90.466853  \n",
       "0  95.477195  \n",
       "0  95.471937  \n",
       "0  93.076933  \n",
       "0  90.038132  \n",
       "0  86.801064  \n",
       "0  96.503375  \n",
       "0  27.749380  "
      ]
     },
     "execution_count": 162,
     "metadata": {},
     "output_type": "execute_result"
    }
   ],
   "source": [
    "tuned= pd.concat([neigh,svm, ridge, lasso, ada, grad])\n",
    "tuned.sort_values(by=\"R2 Score\", ascending=False)"
   ]
  },
  {
   "cell_type": "code",
   "execution_count": null,
   "metadata": {},
   "outputs": [],
   "source": [
    "## final test"
   ]
  },
  {
   "cell_type": "code",
   "execution_count": 167,
   "metadata": {},
   "outputs": [],
   "source": [
    "poly = PolynomialFeatures(degree = 3, interaction_only=False) \n",
    "xPoly = poly.fit_transform(x_test)\n",
    "\n",
    "df = pd.DataFrame(data=xPoly)\n",
    "rows = [1, 46, 65, 79, 84, 107, 114, 126, 140, 156, 159]\n",
    "testFeatures = df.loc[:,rows]"
   ]
  },
  {
   "cell_type": "code",
   "execution_count": 169,
   "metadata": {},
   "outputs": [
    {
     "data": {
      "text/plain": [
       "0.9819801933594109"
      ]
     },
     "execution_count": 169,
     "metadata": {},
     "output_type": "execute_result"
    }
   ],
   "source": [
    "gradBoostTuned.fit(testFeatures, y_test)\n",
    "y_predict =gradBoostTuned.predict(testFeatures)\n",
    "gradBoostTuned.score(testFeatures, y_test)"
   ]
  },
  {
   "cell_type": "code",
   "execution_count": 170,
   "metadata": {},
   "outputs": [
    {
     "data": {
      "text/plain": [
       "<matplotlib.collections.PathCollection at 0x24e9cddb408>"
      ]
     },
     "execution_count": 170,
     "metadata": {},
     "output_type": "execute_result"
    },
    {
     "data": {
      "image/png": "[encoded data removed]",
      "text/plain": [
       "<Figure size 432x288 with 1 Axes>"
      ]
     },
     "metadata": {
      "needs_background": "light"
     },
     "output_type": "display_data"
    }
   ],
   "source": [
    "plt.scatter(y_test, y_predict)"
   ]
  },
  {
   "cell_type": "code",
   "execution_count": null,
   "metadata": {},
   "outputs": [],
   "source": []
  },
  {
   "cell_type": "code",
   "execution_count": null,
   "metadata": {},
   "outputs": [],
   "source": []
  }
 ],
 "metadata": {
  "kernelspec": {
   "display_name": "Python 3",
   "language": "python",
   "name": "python3"
  },
  "language_info": {
   "codemirror_mode": {
    "name": "ipython",
    "version": 3
   },
   "file_extension": ".py",
   "mimetype": "text/x-python",
   "name": "python",
   "nbconvert_exporter": "python",
   "pygments_lexer": "ipython3",
   "version": "3.7.6"
  }
 },
 "nbformat": 4,
 "nbformat_minor": 4
}
